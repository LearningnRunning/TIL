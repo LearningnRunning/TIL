{
 "cells": [
  {
   "cell_type": "code",
   "execution_count": 44,
   "metadata": {},
   "outputs": [
    {
     "name": "stdout",
     "output_type": "stream",
     "text": [
      "0 4\n",
      "4 8\n",
      "8 12\n",
      "12 16\n",
      "16 20\n",
      "20 24\n"
     ]
    }
   ],
   "source": [
    "from glob import glob\n",
    "from PIL import Image, ImageDraw\n",
    "import os\n",
    "# Create a white canvas\n",
    "canvas_width = 1470\n",
    "canvas_height = 2350\n",
    "canvas_color = (255, 255, 255)  # White color in RGB\n",
    "canvas = Image.new('RGB', (canvas_width, canvas_height), canvas_color)\n",
    "src_name = \"areum_1\"\n",
    "result_path = os.path.join(\"./result\",src_name)\n",
    "os.makedirs(result_path, exist_ok=True)\n",
    "# Load your images\n",
    "image_paths = glob(f'./data/{src_name}/*.png') + glob(f'./data/{src_name}/*.jpg')\n",
    "logo_image_paths = sorted(glob('./data/logo/*.jpg'))\n",
    "image_paths = sorted(image_paths)\n",
    "images = [Image.open(path) for path in image_paths]\n",
    "logos_images = [Image.open(path) for path in logo_image_paths]\n",
    "\n",
    "# Resize images to 640x960\n",
    "image_width = 640\n",
    "image_height = 960\n",
    "for i in range(len(images)):\n",
    "    images[i] = images[i].resize((image_width, image_height))\n",
    "\n",
    "for idx in range(int(len(image_paths)/4)):\n",
    "    idx *= 4\n",
    "    print(idx,idx+4)\n",
    "    # Define image positions\n",
    "    image_positions = [(80, 150), (80, 1140), (750, 150), (750, 1140)]\n",
    "    logo_image_positions = [(606, 2111), (810, 21), (1156,16)]\n",
    "    # Paste images onto the canvas\n",
    "    for img, pos in zip(images[idx:idx+4], image_positions):\n",
    "        canvas.paste(img, pos)\n",
    "\n",
    "    # Paste images onto the canvas\n",
    "    for img, pos in zip(logos_images, logo_image_positions):\n",
    "        canvas.paste(img, pos)\n",
    "\n",
    "    canvas.paste(img, pos)\n",
    "    # Save or display the result\n",
    "    # canvas.show()  # To display the final image\n",
    "    canvas.save(os.path.join(result_path,f\"{src_name}_output_image_{idx}.jpg\"))  # To save the final image"
   ]
  },
  {
   "cell_type": "code",
   "execution_count": 43,
   "metadata": {},
   "outputs": [
    {
     "data": {
      "text/plain": [
       "['./data/areum_1/areum_1_rlt10.png',\n",
       " './data/areum_1/areum_1_rlt11.png',\n",
       " './data/areum_1/areum_1_rlt12.png',\n",
       " './data/areum_1/areum_1_rlt13.png',\n",
       " './data/areum_1/areum_1_rlt14.png',\n",
       " './data/areum_1/areum_1_rlt15.png',\n",
       " './data/areum_1/areum_1_rlt16.png',\n",
       " './data/areum_1/areum_1_rlt17.png',\n",
       " './data/areum_1/areum_1_rlt18.png',\n",
       " './data/areum_1/areum_1_rlt19.png',\n",
       " './data/areum_1/areum_1_rlt20.png',\n",
       " './data/areum_1/areum_1_rlt21.png',\n",
       " './data/areum_1/areum_1_rlt22.png',\n",
       " './data/areum_1/areum_1_rlt23.png',\n",
       " './data/areum_1/areum_1_rlt24.png',\n",
       " './data/areum_1/areum_1_rlt25.png',\n",
       " './data/areum_1/areum_1_rlt26.png',\n",
       " './data/areum_1/areum_1_rlt27.png',\n",
       " './data/areum_1/areum_1_rlt28.png',\n",
       " './data/areum_1/areum_1_rlt29.png',\n",
       " './data/areum_1/areum_1_rlt30.png',\n",
       " './data/areum_1/areum_1_rlt31.png',\n",
       " './data/areum_1/areum_1_rlt32.png',\n",
       " './data/areum_1/areum_1_rlt33.png']"
      ]
     },
     "execution_count": 43,
     "metadata": {},
     "output_type": "execute_result"
    }
   ],
   "source": [
    "image_paths"
   ]
  },
  {
   "cell_type": "code",
   "execution_count": null,
   "metadata": {},
   "outputs": [],
   "source": []
  },
  {
   "cell_type": "code",
   "execution_count": null,
   "metadata": {},
   "outputs": [],
   "source": []
  },
  {
   "cell_type": "code",
   "execution_count": null,
   "metadata": {},
   "outputs": [],
   "source": []
  },
  {
   "cell_type": "code",
   "execution_count": null,
   "metadata": {},
   "outputs": [],
   "source": []
  },
  {
   "cell_type": "code",
   "execution_count": null,
   "metadata": {},
   "outputs": [],
   "source": []
  }
 ],
 "metadata": {
  "kernelspec": {
   "display_name": "base",
   "language": "python",
   "name": "python3"
  },
  "language_info": {
   "codemirror_mode": {
    "name": "ipython",
    "version": 3
   },
   "file_extension": ".py",
   "mimetype": "text/x-python",
   "name": "python",
   "nbconvert_exporter": "python",
   "pygments_lexer": "ipython3",
   "version": "3.10.6"
  },
  "orig_nbformat": 4,
  "vscode": {
   "interpreter": {
    "hash": "2568b31422f911d240befaa5e46dd782c4cc23ae238e6e2196b9786beeefb2a9"
   }
  }
 },
 "nbformat": 4,
 "nbformat_minor": 2
}
