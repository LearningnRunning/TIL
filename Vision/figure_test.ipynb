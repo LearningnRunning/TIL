{
 "cells": [
  {
   "cell_type": "code",
   "execution_count": 44,
   "metadata": {},
   "outputs": [
    {
     "name": "stdout",
     "output_type": "stream",
     "text": [
      "0 4\n",
      "4 8\n",
      "8 12\n",
      "12 16\n",
      "16 20\n",
      "20 24\n"
     ]
    }
   ],
   "source": [
    "from glob import glob\n",
    "from PIL import Image, ImageDraw\n",
    "import os\n",
    "# Create a white canvas\n",
    "canvas_width = 1470\n",
    "canvas_height = 2350\n",
    "canvas_color = (255, 255, 255)  # White color in RGB\n",
    "canvas = Image.new('RGB', (canvas_width, canvas_height), canvas_color)\n",
    "src_name = \"areum_1\"\n",
    "result_path = os.path.join(\"./result\",src_name)\n",
    "os.makedirs(result_path, exist_ok=True)\n",
    "# Load your images\n",
    "image_paths = glob(f'./data/{src_name}/*.png') + glob(f'./data/{src_name}/*.jpg')\n",
    "logo_image_paths = sorted(glob('./data/logo/*.jpg'))\n",
    "image_paths = sorted(image_paths)\n",
    "images = [Image.open(path) for path in image_paths]\n",
    "logos_images = [Image.open(path) for path in logo_image_paths]\n",
    "\n",
    "# Resize images to 640x960\n",
    "image_width = 640\n",
    "image_height = 960\n",
    "for i in range(len(images)):\n",
    "    images[i] = images[i].resize((image_width, image_height))\n",
    "\n",
    "for idx in range(int(len(image_paths)/4)):\n",
    "    idx *= 4\n",
    "    print(idx,idx+4)\n",
    "    # Define image positions\n",
    "    image_positions = [(80, 150), (80, 1140), (750, 150), (750, 1140)]\n",
    "    logo_image_positions = [(606, 2111), (810, 21), (1156,16)]\n",
    "    # Paste images onto the canvas\n",
    "    for img, pos in zip(images[idx:idx+4], image_positions):\n",
    "        canvas.paste(img, pos)\n",
    "\n",
    "    # Paste images onto the canvas\n",
    "    for img, pos in zip(logos_images, logo_image_positions):\n",
    "        canvas.paste(img, pos)\n",
    "\n",
    "    canvas.paste(img, pos)\n",
    "    # Save or display the result\n",
    "    # canvas.show()  # To display the final image\n",
    "    canvas.save(os.path.join(result_path,f\"{src_name}_output_image_{idx}.jpg\"))  # To save the final image"
   ]
  },
  {
   "cell_type": "code",
   "execution_count": 1,
   "metadata": {},
   "outputs": [
    {
     "name": "stdout",
     "output_type": "stream",
     "text": [
      "1,234,567,890\n"
     ]
    }
   ],
   "source": [
    "number = 1234567890\n",
    "formatted_number = format(number, ',')\n",
    "print(formatted_number)\n"
   ]
  },
  {
   "cell_type": "code",
   "execution_count": 7,
   "metadata": {},
   "outputs": [],
   "source": [
    "class Solution:\n",
    "    def validPartition(self, nums) -> bool:\n",
    "        n = len(nums)\n",
    "        for i in range(n - 2):\n",
    "            if nums[i] == nums[i + 1] or (nums[i] == nums[i + 2] == nums[i + 1]):\n",
    "                return True\n",
    "            if nums[i] + 1 == nums[i + 1] and nums[i + 1] + 1 == nums[i + 2]:\n",
    "                return True\n",
    "        return False\n",
    "# Test cases\n",
    "solution = Solution()\n",
    "\n",
    "nums2 = [1, 1, 1, 2]\n",
    "print(solution.validPartition(nums2))  # Output: False"
   ]
  },
  {
   "cell_type": "code",
   "execution_count": 8,
   "metadata": {},
   "outputs": [
    {
     "name": "stdout",
     "output_type": "stream",
     "text": [
      "True\n",
      "True\n"
     ]
    }
   ],
   "source": [
    "# Test cases\n",
    "solution = Solution()\n",
    "\n",
    "nums2 = [1, 1, 1, 2]\n",
    "print(solution.validPartition(nums2))  # Output: False"
   ]
  },
  {
   "cell_type": "code",
   "execution_count": null,
   "metadata": {},
   "outputs": [],
   "source": []
  },
  {
   "cell_type": "code",
   "execution_count": null,
   "metadata": {},
   "outputs": [],
   "source": []
  },
  {
   "cell_type": "code",
   "execution_count": null,
   "metadata": {},
   "outputs": [],
   "source": []
  }
 ],
 "metadata": {
  "kernelspec": {
   "display_name": "base",
   "language": "python",
   "name": "python3"
  },
  "language_info": {
   "codemirror_mode": {
    "name": "ipython",
    "version": 3
   },
   "file_extension": ".py",
   "mimetype": "text/x-python",
   "name": "python",
   "nbconvert_exporter": "python",
   "pygments_lexer": "ipython3",
   "version": "3.10.6"
  },
  "orig_nbformat": 4,
  "vscode": {
   "interpreter": {
    "hash": "2568b31422f911d240befaa5e46dd782c4cc23ae238e6e2196b9786beeefb2a9"
   }
  }
 },
 "nbformat": 4,
 "nbformat_minor": 2
}
