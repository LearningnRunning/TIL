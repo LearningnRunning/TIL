{
 "cells": [
  {
   "cell_type": "code",
   "execution_count": 1,
   "metadata": {},
   "outputs": [],
   "source": [
    "import pandas as pd\n",
    "from glob import glob\n",
    "\n",
    "checco_cat_df = pd.read_csv('/Users/seongrok.kim/Github/TIL/NLP/data/checco Category v2_230410 - Checco카테고리(일본어).csv')\n",
    "amazon_cat_df = pd.read_csv('/Users/seongrok.kim/Github/TIL/NLP/data/matching_amazon_cat.csv')\n"
   ]
  },
  {
   "cell_type": "code",
   "execution_count": 2,
   "metadata": {},
   "outputs": [
    {
     "data": {
      "text/html": [
       "<div>\n",
       "<style scoped>\n",
       "    .dataframe tbody tr th:only-of-type {\n",
       "        vertical-align: middle;\n",
       "    }\n",
       "\n",
       "    .dataframe tbody tr th {\n",
       "        vertical-align: top;\n",
       "    }\n",
       "\n",
       "    .dataframe thead th {\n",
       "        text-align: right;\n",
       "    }\n",
       "</style>\n",
       "<table border=\"1\" class=\"dataframe\">\n",
       "  <thead>\n",
       "    <tr style=\"text-align: right;\">\n",
       "      <th></th>\n",
       "      <th>대 카테고리</th>\n",
       "      <th>중 카테고리</th>\n",
       "      <th>소 카테고리</th>\n",
       "    </tr>\n",
       "  </thead>\n",
       "  <tbody>\n",
       "    <tr>\n",
       "      <th>0</th>\n",
       "      <td>スキンケア</td>\n",
       "      <td>洗顔料</td>\n",
       "      <td>洗顔料(全て)</td>\n",
       "    </tr>\n",
       "    <tr>\n",
       "      <th>1</th>\n",
       "      <td>NaN</td>\n",
       "      <td>NaN</td>\n",
       "      <td>洗顔フォーム</td>\n",
       "    </tr>\n",
       "    <tr>\n",
       "      <th>2</th>\n",
       "      <td>NaN</td>\n",
       "      <td>NaN</td>\n",
       "      <td>洗顔パウダー</td>\n",
       "    </tr>\n",
       "    <tr>\n",
       "      <th>3</th>\n",
       "      <td>NaN</td>\n",
       "      <td>NaN</td>\n",
       "      <td>洗顔石鹸</td>\n",
       "    </tr>\n",
       "    <tr>\n",
       "      <th>4</th>\n",
       "      <td>NaN</td>\n",
       "      <td>NaN</td>\n",
       "      <td>泡洗顔</td>\n",
       "    </tr>\n",
       "    <tr>\n",
       "      <th>...</th>\n",
       "      <td>...</td>\n",
       "      <td>...</td>\n",
       "      <td>...</td>\n",
       "    </tr>\n",
       "    <tr>\n",
       "      <th>141</th>\n",
       "      <td>NaN</td>\n",
       "      <td>メンズ</td>\n",
       "      <td>メンズ</td>\n",
       "    </tr>\n",
       "    <tr>\n",
       "      <th>142</th>\n",
       "      <td>NaN</td>\n",
       "      <td>レディース</td>\n",
       "      <td>レディース</td>\n",
       "    </tr>\n",
       "    <tr>\n",
       "      <th>143</th>\n",
       "      <td>サプリメント・フード</td>\n",
       "      <td>サプリメント</td>\n",
       "      <td>サプリメント(全て)</td>\n",
       "    </tr>\n",
       "    <tr>\n",
       "      <th>144</th>\n",
       "      <td>NaN</td>\n",
       "      <td>NaN</td>\n",
       "      <td>美容サプリメント</td>\n",
       "    </tr>\n",
       "    <tr>\n",
       "      <th>145</th>\n",
       "      <td>NaN</td>\n",
       "      <td>NaN</td>\n",
       "      <td>健康サプリメント</td>\n",
       "    </tr>\n",
       "  </tbody>\n",
       "</table>\n",
       "<p>146 rows × 3 columns</p>\n",
       "</div>"
      ],
      "text/plain": [
       "         대 카테고리  중 카테고리      소 카테고리\n",
       "0         スキンケア     洗顔料     洗顔料(全て)\n",
       "1           NaN     NaN      洗顔フォーム\n",
       "2           NaN     NaN      洗顔パウダー\n",
       "3           NaN     NaN        洗顔石鹸\n",
       "4           NaN     NaN         泡洗顔\n",
       "..          ...     ...         ...\n",
       "141         NaN     メンズ         メンズ\n",
       "142         NaN   レディース       レディース\n",
       "143  サプリメント・フード  サプリメント  サプリメント(全て)\n",
       "144         NaN     NaN    美容サプリメント\n",
       "145         NaN     NaN    健康サプリメント\n",
       "\n",
       "[146 rows x 3 columns]"
      ]
     },
     "execution_count": 2,
     "metadata": {},
     "output_type": "execute_result"
    }
   ],
   "source": [
    "checco_cat_df['']"
   ]
  },
  {
   "cell_type": "code",
   "execution_count": 23,
   "metadata": {},
   "outputs": [
    {
     "data": {
      "text/html": [
       "<div>\n",
       "<style scoped>\n",
       "    .dataframe tbody tr th:only-of-type {\n",
       "        vertical-align: middle;\n",
       "    }\n",
       "\n",
       "    .dataframe tbody tr th {\n",
       "        vertical-align: top;\n",
       "    }\n",
       "\n",
       "    .dataframe thead th {\n",
       "        text-align: right;\n",
       "    }\n",
       "</style>\n",
       "<table border=\"1\" class=\"dataframe\">\n",
       "  <thead>\n",
       "    <tr style=\"text-align: right;\">\n",
       "      <th></th>\n",
       "      <th>대 카테고리</th>\n",
       "      <th>중 카테고리</th>\n",
       "      <th>소 카테고리</th>\n",
       "    </tr>\n",
       "  </thead>\n",
       "  <tbody>\n",
       "  </tbody>\n",
       "</table>\n",
       "</div>"
      ],
      "text/plain": [
       "Empty DataFrame\n",
       "Columns: [대 카테고리, 중 카테고리, 소 카테고리]\n",
       "Index: []"
      ]
     },
     "execution_count": 23,
     "metadata": {},
     "output_type": "execute_result"
    }
   ],
   "source": [
    "checco_cat_df[checco_cat_df['소 카테고리'] ==  'ヘアケア']"
   ]
  },
  {
   "cell_type": "code",
   "execution_count": 3,
   "metadata": {},
   "outputs": [
    {
     "data": {
      "text/html": [
       "<div>\n",
       "<style scoped>\n",
       "    .dataframe tbody tr th:only-of-type {\n",
       "        vertical-align: middle;\n",
       "    }\n",
       "\n",
       "    .dataframe tbody tr th {\n",
       "        vertical-align: top;\n",
       "    }\n",
       "\n",
       "    .dataframe thead th {\n",
       "        text-align: right;\n",
       "    }\n",
       "</style>\n",
       "<table border=\"1\" class=\"dataframe\">\n",
       "  <thead>\n",
       "    <tr style=\"text-align: right;\">\n",
       "      <th></th>\n",
       "      <th>cat1</th>\n",
       "      <th>cat2</th>\n",
       "      <th>cat3</th>\n",
       "      <th>cat4</th>\n",
       "      <th>origin_amazon_cat</th>\n",
       "      <th>checco_cat</th>\n",
       "      <th>url</th>\n",
       "    </tr>\n",
       "  </thead>\n",
       "  <tbody>\n",
       "    <tr>\n",
       "      <th>0</th>\n",
       "      <td>サロン・エステ用品</td>\n",
       "      <td>タオルウォーマー</td>\n",
       "      <td>タオルウォーマー</td>\n",
       "      <td>タオルウォーマー</td>\n",
       "      <td>NaN</td>\n",
       "      <td>NaN</td>\n",
       "      <td>https://www.amazon.co.jp/gp/bestsellers/beauty...</td>\n",
       "    </tr>\n",
       "    <tr>\n",
       "      <th>1</th>\n",
       "      <td>サロン・エステ用品</td>\n",
       "      <td>ヘアカラーボウル</td>\n",
       "      <td>ヘアカラーボウル</td>\n",
       "      <td>ヘアカラーボウル</td>\n",
       "      <td>NaN</td>\n",
       "      <td>ヘアカラー・パーマ</td>\n",
       "      <td>https://www.amazon.co.jp/gp/bestsellers/beauty...</td>\n",
       "    </tr>\n",
       "    <tr>\n",
       "      <th>2</th>\n",
       "      <td>サロン・エステ用品</td>\n",
       "      <td>ヘアドライヤーキャップ</td>\n",
       "      <td>ヘアドライヤーキャップ</td>\n",
       "      <td>ヘアドライヤーキャップ</td>\n",
       "      <td>NaN</td>\n",
       "      <td>NaN</td>\n",
       "      <td>https://www.amazon.co.jp/gp/bestsellers/beauty...</td>\n",
       "    </tr>\n",
       "    <tr>\n",
       "      <th>3</th>\n",
       "      <td>サロン・エステ用品</td>\n",
       "      <td>マッサージ用クッション・枕</td>\n",
       "      <td>マッサージ用クッション・枕</td>\n",
       "      <td>マッサージ用クッション・枕</td>\n",
       "      <td>NaN</td>\n",
       "      <td>NaN</td>\n",
       "      <td>https://www.amazon.co.jp/gp/bestsellers/beauty...</td>\n",
       "    </tr>\n",
       "    <tr>\n",
       "      <th>4</th>\n",
       "      <td>サロン・エステ用品</td>\n",
       "      <td>マニキュアテーブル</td>\n",
       "      <td>マニキュアテーブル</td>\n",
       "      <td>リッププランパー</td>\n",
       "      <td>NaN</td>\n",
       "      <td>NaN</td>\n",
       "      <td>https://www.amazon.co.jp/gp/bestsellers/beauty...</td>\n",
       "    </tr>\n",
       "    <tr>\n",
       "      <th>...</th>\n",
       "      <td>...</td>\n",
       "      <td>...</td>\n",
       "      <td>...</td>\n",
       "      <td>...</td>\n",
       "      <td>...</td>\n",
       "      <td>...</td>\n",
       "      <td>...</td>\n",
       "    </tr>\n",
       "    <tr>\n",
       "      <th>453</th>\n",
       "      <td>香水・フレグランス</td>\n",
       "      <td>男性用</td>\n",
       "      <td>セット</td>\n",
       "      <td>セット</td>\n",
       "      <td>NaN</td>\n",
       "      <td>メンズ</td>\n",
       "      <td>https://www.amazon.co.jp/gp/bestsellers/beauty...</td>\n",
       "    </tr>\n",
       "    <tr>\n",
       "      <th>454</th>\n",
       "      <td>香水・フレグランス</td>\n",
       "      <td>男性用</td>\n",
       "      <td>パルファム</td>\n",
       "      <td>パルファム</td>\n",
       "      <td>男性用パルファム</td>\n",
       "      <td>NaN</td>\n",
       "      <td>https://www.amazon.co.jp/gp/bestsellers/beauty...</td>\n",
       "    </tr>\n",
       "    <tr>\n",
       "      <th>455</th>\n",
       "      <td>香水・フレグランス</td>\n",
       "      <td>練り香水</td>\n",
       "      <td>練り香水</td>\n",
       "      <td>練り香水</td>\n",
       "      <td>NaN</td>\n",
       "      <td>NaN</td>\n",
       "      <td>https://www.amazon.co.jp/gp/bestsellers/beauty...</td>\n",
       "    </tr>\n",
       "    <tr>\n",
       "      <th>456</th>\n",
       "      <td>香水・フレグランス</td>\n",
       "      <td>香水・フレグランスセット</td>\n",
       "      <td>セット</td>\n",
       "      <td>セット</td>\n",
       "      <td>NaN</td>\n",
       "      <td>NaN</td>\n",
       "      <td>https://www.amazon.co.jp/gp/bestsellers/beauty...</td>\n",
       "    </tr>\n",
       "    <tr>\n",
       "      <th>457</th>\n",
       "      <td>香水・フレグランス</td>\n",
       "      <td>香水・フレグランスセット</td>\n",
       "      <td>セット</td>\n",
       "      <td>セット</td>\n",
       "      <td>NaN</td>\n",
       "      <td>NaN</td>\n",
       "      <td>https://www.amazon.co.jp/gp/bestsellers/beauty...</td>\n",
       "    </tr>\n",
       "  </tbody>\n",
       "</table>\n",
       "<p>458 rows × 7 columns</p>\n",
       "</div>"
      ],
      "text/plain": [
       "          cat1           cat2           cat3           cat4 origin_amazon_cat  \\\n",
       "0    サロン・エステ用品       タオルウォーマー       タオルウォーマー       タオルウォーマー               NaN   \n",
       "1    サロン・エステ用品       ヘアカラーボウル       ヘアカラーボウル       ヘアカラーボウル               NaN   \n",
       "2    サロン・エステ用品    ヘアドライヤーキャップ    ヘアドライヤーキャップ    ヘアドライヤーキャップ               NaN   \n",
       "3    サロン・エステ用品  マッサージ用クッション・枕  マッサージ用クッション・枕  マッサージ用クッション・枕               NaN   \n",
       "4    サロン・エステ用品      マニキュアテーブル      マニキュアテーブル       リッププランパー               NaN   \n",
       "..         ...            ...            ...            ...               ...   \n",
       "453  香水・フレグランス            男性用            セット            セット               NaN   \n",
       "454  香水・フレグランス            男性用          パルファム          パルファム          男性用パルファム   \n",
       "455  香水・フレグランス           練り香水           練り香水           練り香水               NaN   \n",
       "456  香水・フレグランス   香水・フレグランスセット            セット            セット               NaN   \n",
       "457  香水・フレグランス   香水・フレグランスセット            セット            セット               NaN   \n",
       "\n",
       "    checco_cat                                                url  \n",
       "0          NaN  https://www.amazon.co.jp/gp/bestsellers/beauty...  \n",
       "1    ヘアカラー・パーマ  https://www.amazon.co.jp/gp/bestsellers/beauty...  \n",
       "2          NaN  https://www.amazon.co.jp/gp/bestsellers/beauty...  \n",
       "3          NaN  https://www.amazon.co.jp/gp/bestsellers/beauty...  \n",
       "4          NaN  https://www.amazon.co.jp/gp/bestsellers/beauty...  \n",
       "..         ...                                                ...  \n",
       "453        メンズ  https://www.amazon.co.jp/gp/bestsellers/beauty...  \n",
       "454        NaN  https://www.amazon.co.jp/gp/bestsellers/beauty...  \n",
       "455        NaN  https://www.amazon.co.jp/gp/bestsellers/beauty...  \n",
       "456        NaN  https://www.amazon.co.jp/gp/bestsellers/beauty...  \n",
       "457        NaN  https://www.amazon.co.jp/gp/bestsellers/beauty...  \n",
       "\n",
       "[458 rows x 7 columns]"
      ]
     },
     "execution_count": 3,
     "metadata": {},
     "output_type": "execute_result"
    }
   ],
   "source": [
    "amazon_cat_df['']"
   ]
  },
  {
   "cell_type": "code",
   "execution_count": 5,
   "metadata": {},
   "outputs": [],
   "source": [
    "checco_cat_lst = checco_cat_df['소 카테고리'].to_list()\n",
    "amazon_checco_cat_lst = amazon_cat_df['checco_cat'].to_list()\n",
    "checco_cat_set = set(checco_cat_lst)\n",
    "amazon_checco_cat_set = set(amazon_checco_cat_lst)"
   ]
  },
  {
   "cell_type": "code",
   "execution_count": 8,
   "metadata": {},
   "outputs": [
    {
     "name": "stdout",
     "output_type": "stream",
     "text": [
      "원본 길이:  146 79\n"
     ]
    }
   ],
   "source": [
    "print('원본 길이: ', len(checco_cat_set), len(amazon_checco_cat_set))"
   ]
  },
  {
   "cell_type": "code",
   "execution_count": 13,
   "metadata": {},
   "outputs": [],
   "source": [
    "checco_amamzon_tmp = amazon_checco_cat_set - checco_cat_set"
   ]
  },
  {
   "cell_type": "code",
   "execution_count": 12,
   "metadata": {},
   "outputs": [
    {
     "name": "stdout",
     "output_type": "stream",
     "text": [
      "80\n",
      "{'ヘアケア(全て)', 'クッションファンデーション', 'シェーディング', 'ネック・デコルテケア', '健康サプリメント', 'ミスト状化粧水', '日焼け止め・UVケア(全て)', '洗顔石鹸', 'ヘアトリートメント', 'サプリメント(全て)', 'その他スタイリング', 'スペシャルケア(全て)', '日焼け対策・ケア', 'バストアップ・ヒップケア', '洗顔パウダー', 'ポイントメイクリムーバー', 'アウトバスケア(全て)', 'ヘアグッズ(全て)', 'ボディオイル', 'ジェル・クリームアイシャドウ', '付け爪・ネイルチップ', '洗い流すタイプ', 'マニキュア・ジェルネイル', 'ヘアミルク', 'サンスティック', '洗い流すタイプトリートメント', '眉マスカラ', 'ファンデーション(全て)', 'インバスケア(全て)', 'プレスタイリング・寝ぐせ直し', 'リキッドアイシャドウ', 'その他スキンケア', 'パウダーアイシャドウ', 'その他ファンデーション', 'パウダーチーク', 'ペンシルアイライナー', 'ユニセックス', 'アイブロウペンシル', '泡洗顔', '美顔器・マッサージ', 'リキッドアイブロウ', 'あぶらとり紙・フェイスシート', 'ハイライター・シェーディング(全て)', 'ボディミルク', '洗顔フォーム', 'ニキビパッチ', 'プレストパウダー', 'ジェルアイライナー', 'ボディローション', 'ヘアバター・カラートリートメント', 'その他洗顔料', 'ボディ石鹸', 'サンクリーム・ローション', '日焼け止めクッション・パクト', 'ボディグッズ', 'その他アイブロウ', 'パーツケア(全て)', 'リップケア・リップクリーム', 'スキンケアグッズ(全て)', 'メイクアップグッズ(全て)', '日焼け止めスプレー', 'ヘアケアグッズ', 'ネイルケア・オイル', 'ヘアバーム', 'クレンジング(全て)', 'ルースパウダー', 'ヘアスタイリング(全て)', '化粧水(全て)', 'クリーム', 'クレンジングバーム', 'ブースター・導入液', '美容サプリメント', 'コットン', 'リキッドアイライナー', 'パウダーアイブロウ', 'マスカラ(全て)', '目元ケア(全て)', 'ハイライター', 'ボディパウダー', 'ジェル・クリームチーク'}\n"
     ]
    }
   ],
   "source": [
    "checco_amamzon_d = checco_cat_set - amazon_checco_cat_set\n",
    "print(len(checco_amamzon_d))\n",
    "print(checco_amamzon_d)"
   ]
  },
  {
   "cell_type": "code",
   "execution_count": 14,
   "metadata": {},
   "outputs": [
    {
     "name": "stdout",
     "output_type": "stream",
     "text": [
      "13\n"
     ]
    },
    {
     "data": {
      "text/plain": [
       "{nan,\n",
       " 'アイシャドウチップ',\n",
       " 'ネイルチップ',\n",
       " 'パウダーチーク, ジェル・クリームチーク',\n",
       " 'ヘアケア',\n",
       " 'ボディローション, ボディオイル',\n",
       " 'ボディローション・ミルク, ボディローション',\n",
       " 'レッグ・フットケア, デオドラント・制汗剤',\n",
       " '日焼け止め・UVケア(全て), 日焼け対策・ケア',\n",
       " '洗顔フォーム, 泡洗顔',\n",
       " '目つき用コンシーラー',\n",
       " '練習用ネイルチップ',\n",
       " '除光液, マニキュア・ジェルネイル'}"
      ]
     },
     "execution_count": 14,
     "metadata": {},
     "output_type": "execute_result"
    }
   ],
   "source": [
    "print(len(checco_amamzon_tmp))\n"
   ]
  },
  {
   "cell_type": "code",
   "execution_count": 38,
   "metadata": {},
   "outputs": [
    {
     "name": "stdout",
     "output_type": "stream",
     "text": [
      "アイシャドウチップ 1\n",
      "練習用ネイルチップ 1\n",
      "ネイルチップ 1\n",
      "目つき用コンシーラー 1\n",
      "ヘアケア 1\n"
     ]
    }
   ],
   "source": [
    "new_checco_amamzon_tmp = []\n",
    "for c in checco_amamzon_tmp:\n",
    "    if type(c) != float:\n",
    "        c_tmp = c.split(', ')\n",
    "        \n",
    "        if len(c_tmp) >= 2:\n",
    "            new_checco_amamzon_tmp.extend(c_tmp)\n",
    "        else:\n",
    "            print(c, len(c_tmp))\n",
    "            new_checco_amamzon_tmp.append(c_tmp[0])"
   ]
  },
  {
   "cell_type": "code",
   "execution_count": 43,
   "metadata": {},
   "outputs": [
    {
     "data": {
      "text/plain": [
       "['アイシャドウチップ',\n",
       " 'レッグ・フットケア',\n",
       " 'デオドラント・制汗剤',\n",
       " '練習用ネイルチップ',\n",
       " 'ボディローション・ミルク',\n",
       " 'ボディローション',\n",
       " 'パウダーチーク',\n",
       " 'ジェル・クリームチーク',\n",
       " 'ボディローション',\n",
       " 'ボディオイル',\n",
       " '日焼け止め・UVケア(全て)',\n",
       " '日焼け対策・ケア',\n",
       " '除光液',\n",
       " 'マニキュア・ジェルネイル',\n",
       " 'ネイルチップ',\n",
       " '目つき用コンシーラー',\n",
       " 'ヘアケア',\n",
       " '洗顔フォーム',\n",
       " '泡洗顔']"
      ]
     },
     "execution_count": 43,
     "metadata": {},
     "output_type": "execute_result"
    }
   ],
   "source": [
    "new_checco_amamzon_tmp"
   ]
  },
  {
   "cell_type": "code",
   "execution_count": 48,
   "metadata": {},
   "outputs": [],
   "source": [
    "jeon_checco_amamzon_tmp = []\n",
    "for new_c in new_checco_amamzon_tmp:\n",
    "    new_c_jeon = new_c + '(全て)'\n",
    "    \n",
    "    if new_c_jeon in checco_amamzon_d:\n",
    "        jeon_checco_amamzon_tmp.append(new_c_jeon)"
   ]
  },
  {
   "cell_type": "code",
   "execution_count": 49,
   "metadata": {},
   "outputs": [
    {
     "data": {
      "text/plain": [
       "['ヘアケア(全て)']"
      ]
     },
     "execution_count": 49,
     "metadata": {},
     "output_type": "execute_result"
    }
   ],
   "source": [
    "jeon_checco_amamzon_tmp"
   ]
  },
  {
   "cell_type": "code",
   "execution_count": 50,
   "metadata": {},
   "outputs": [
    {
     "data": {
      "text/plain": [
       "{'あぶらとり紙・フェイスシート',\n",
       " 'その他アイブロウ',\n",
       " 'その他スキンケア',\n",
       " 'その他スタイリング',\n",
       " 'その他ファンデーション',\n",
       " 'その他洗顔料',\n",
       " 'アイブロウペンシル',\n",
       " 'アウトバスケア(全て)',\n",
       " 'インバスケア(全て)',\n",
       " 'クッションファンデーション',\n",
       " 'クリーム',\n",
       " 'クレンジング(全て)',\n",
       " 'クレンジングバーム',\n",
       " 'コットン',\n",
       " 'サプリメント(全て)',\n",
       " 'サンクリーム・ローション',\n",
       " 'サンスティック',\n",
       " 'シェーディング',\n",
       " 'ジェルアイライナー',\n",
       " 'ジェル・クリームアイシャドウ',\n",
       " 'スキンケアグッズ(全て)',\n",
       " 'スペシャルケア(全て)',\n",
       " 'ニキビパッチ',\n",
       " 'ネイルケア・オイル',\n",
       " 'ネック・デコルテケア',\n",
       " 'ハイライター',\n",
       " 'ハイライター・シェーディング(全て)',\n",
       " 'バストアップ・ヒップケア',\n",
       " 'パウダーアイシャドウ',\n",
       " 'パウダーアイブロウ',\n",
       " 'パーツケア(全て)',\n",
       " 'ファンデーション(全て)',\n",
       " 'ブースター・導入液',\n",
       " 'プレスタイリング・寝ぐせ直し',\n",
       " 'プレストパウダー',\n",
       " 'ヘアグッズ(全て)',\n",
       " 'ヘアケア(全て)',\n",
       " 'ヘアケアグッズ',\n",
       " 'ヘアスタイリング(全て)',\n",
       " 'ヘアトリートメント',\n",
       " 'ヘアバター・カラートリートメント',\n",
       " 'ヘアバーム',\n",
       " 'ヘアミルク',\n",
       " 'ペンシルアイライナー',\n",
       " 'ボディグッズ',\n",
       " 'ボディパウダー',\n",
       " 'ボディミルク',\n",
       " 'ボディ石鹸',\n",
       " 'ポイントメイクリムーバー',\n",
       " 'マスカラ(全て)',\n",
       " 'ミスト状化粧水',\n",
       " 'メイクアップグッズ(全て)',\n",
       " 'ユニセックス',\n",
       " 'リキッドアイシャドウ',\n",
       " 'リキッドアイブロウ',\n",
       " 'リキッドアイライナー',\n",
       " 'リップケア・リップクリーム',\n",
       " 'ルースパウダー',\n",
       " '付け爪・ネイルチップ',\n",
       " '健康サプリメント',\n",
       " '化粧水(全て)',\n",
       " '日焼け止めクッション・パクト',\n",
       " '日焼け止めスプレー',\n",
       " '洗い流すタイプ',\n",
       " '洗い流すタイプトリートメント',\n",
       " '洗顔パウダー',\n",
       " '洗顔石鹸',\n",
       " '目元ケア(全て)',\n",
       " '眉マスカラ',\n",
       " '美容サプリメント',\n",
       " '美顔器・マッサージ'}"
      ]
     },
     "execution_count": 50,
     "metadata": {},
     "output_type": "execute_result"
    }
   ],
   "source": [
    "checco_amamzon_d - set(new_checco_amamzon_tmp)"
   ]
  }
 ],
 "metadata": {
  "kernelspec": {
   "display_name": "Python 3",
   "language": "python",
   "name": "python3"
  },
  "language_info": {
   "codemirror_mode": {
    "name": "ipython",
    "version": 3
   },
   "file_extension": ".py",
   "mimetype": "text/x-python",
   "name": "python",
   "nbconvert_exporter": "python",
   "pygments_lexer": "ipython3",
   "version": "3.8.0"
  },
  "orig_nbformat": 4,
  "vscode": {
   "interpreter": {
    "hash": "949777d72b0d2535278d3dc13498b2535136f6dfe0678499012e853ee9abcab1"
   }
  }
 },
 "nbformat": 4,
 "nbformat_minor": 2
}
