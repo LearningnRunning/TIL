{
 "cells": [
  {
   "cell_type": "code",
   "execution_count": 50,
   "metadata": {},
   "outputs": [
    {
     "name": "stderr",
     "output_type": "stream",
     "text": [
      "/tmp/ipykernel_965075/1733377014.py:6: DtypeWarning: Columns (5,16) have mixed types. Specify dtype option on import or set low_memory=False.\n",
      "  checco_df = pd.read_csv(data_lst[1])\n"
     ]
    }
   ],
   "source": [
    "import pandas as pd\n",
    "from glob import glob\n",
    "data_path = './data/*.csv'\n",
    "data_lst = glob(data_path)\n",
    "\n",
    "amazon_df = pd.read_csv(data_lst[0]).iloc[:,1:]\n",
    "checco_df = pd.read_csv(data_lst[1])\n",
    "checco_df_clean = pd.read_csv(data_lst[2])\n"
   ]
  },
  {
   "cell_type": "code",
   "execution_count": 59,
   "metadata": {},
   "outputs": [
    {
     "data": {
      "text/plain": [
       "['./data/unique.csv',\n",
       " './data/checco_products.csv',\n",
       " './data/checco_product_0620.csv']"
      ]
     },
     "execution_count": 59,
     "metadata": {},
     "output_type": "execute_result"
    }
   ],
   "source": [
    "data_lst"
   ]
  },
  {
   "attachments": {},
   "cell_type": "markdown",
   "metadata": {},
   "source": [
    "## Fuzzywuzzy"
   ]
  },
  {
   "cell_type": "code",
   "execution_count": 2,
   "metadata": {},
   "outputs": [
    {
     "name": "stdout",
     "output_type": "stream",
     "text": [
      "Collecting fuzzywuzzy\n",
      "  Downloading fuzzywuzzy-0.18.0-py2.py3-none-any.whl (18 kB)\n",
      "Installing collected packages: fuzzywuzzy\n",
      "Successfully installed fuzzywuzzy-0.18.0\n",
      "Note: you may need to restart the kernel to use updated packages.\n"
     ]
    }
   ],
   "source": [
    "pip install fuzzywuzzy"
   ]
  },
  {
   "attachments": {},
   "cell_type": "markdown",
   "metadata": {},
   "source": [
    "# 테스트"
   ]
  },
  {
   "cell_type": "code",
   "execution_count": 3,
   "metadata": {},
   "outputs": [
    {
     "name": "stderr",
     "output_type": "stream",
     "text": [
      "/Users/seongrok.kim/miniforge3/lib/python3.10/site-packages/fuzzywuzzy/fuzz.py:11: UserWarning: Using slow pure-python SequenceMatcher. Install python-Levenshtein to remove this warning\n",
      "  warnings.warn('Using slow pure-python SequenceMatcher. Install python-Levenshtein to remove this warning')\n"
     ]
    },
    {
     "data": {
      "text/plain": [
       "(14, 4, 12)"
      ]
     },
     "execution_count": 3,
     "metadata": {},
     "output_type": "execute_result"
    }
   ],
   "source": [
    "from fuzzywuzzy import fuzz\n",
    "\n",
    "checco_str = \"kiss(キス キス マットシフォンUVハイカバーベース 01Light\"\n",
    "amazon_str = \"Eigell 2x 20gメイクアップファンデーション保湿BBクリームスポットコン , 自然な色\"\n",
    "fake_str_1 = \"ラムカぷる肌化粧水とてもしっとり替\"\n",
    "fake_str_2 = \"《セット販売》　花王 キュレル 潤浸保湿 化粧水 III 3 とてもしっとり (150mL)×3個セット curel　【医薬部外品】\"\n",
    "similarity_score = fuzz.ratio(checco_str, amazon_str)\n",
    "similarity_score_fake_1 = fuzz.ratio(checco_str, fake_str_1)\n",
    "similarity_score_fake_2 = fuzz.ratio(checco_str, fake_str_2)\n",
    "similarity_score, similarity_score_fake_1, similarity_score_fake_2"
   ]
  },
  {
   "attachments": {},
   "cell_type": "markdown",
   "metadata": {},
   "source": [
    "## 상품명"
   ]
  },
  {
   "cell_type": "code",
   "execution_count": 47,
   "metadata": {},
   "outputs": [
    {
     "name": "stderr",
     "output_type": "stream",
     "text": [
      "0it [00:00, ?it/s]/tmp/ipykernel_965075/323652267.py:24: SettingWithCopyWarning: \n",
      "A value is trying to be set on a copy of a slice from a DataFrame.\n",
      "Try using .loc[row_indexer,col_indexer] = value instead\n",
      "\n",
      "See the caveats in the documentation: https://pandas.pydata.org/pandas-docs/stable/user_guide/indexing.html#returning-a-view-versus-a-copy\n",
      "  df1.at[index, 'checco_title'] = product_name2\n",
      "/tmp/ipykernel_965075/323652267.py:25: SettingWithCopyWarning: \n",
      "A value is trying to be set on a copy of a slice from a DataFrame.\n",
      "Try using .loc[row_indexer,col_indexer] = value instead\n",
      "\n",
      "See the caveats in the documentation: https://pandas.pydata.org/pandas-docs/stable/user_guide/indexing.html#returning-a-view-versus-a-copy\n",
      "  df1.at[index, 'similarity_score'] = similarity_score\n",
      "5it [00:00, 897.25it/s]"
     ]
    },
    {
     "name": "stdout",
     "output_type": "stream",
     "text": [
      "Eigell きのこヘッドファンデーションモイスチャライジングコンシーラー長持ち, ナチュラル\n",
      "100\n",
      "Eigell きのこヘッドファンデーションモイスチャライジングコンシーラー長持ち, ナチュラル\n",
      "Ａｍａｇｏｇｏ エアクッション BB オイルコントロール クッション セット Make- に適用 Women, 白い, 7x5cm\n",
      "100\n",
      "Ａｍａｇｏｇｏ エアクッション BB オイルコントロール クッション セット Make- に適用 Women, 白い, 7x5cm\n",
      "Eigell エアクッションBBクリームファンデーションメイクアップマットコンシーラーブライトニングラウンド, 白い, 7x5cm\n",
      "100\n",
      "Eigell エアクッションBBクリームファンデーションメイクアップマットコンシーラーブライトニングラウンド, 白い, 7x5cm\n",
      "MERIGLARE エアクッションBBクリーム財団フェイスメイクコンシーターオイルコントロール, ナチュラル\n",
      "100\n",
      "MERIGLARE エアクッションBBクリーム財団フェイスメイクコンシーターオイルコントロール, ナチュラル\n",
      "Ｆｅｎｔｅｅｒ 2x エアクッションBBクリーム長持ちメイクアップコスメティッククリームナチュラルカラー, ナチュラルカラー\n",
      "100\n",
      "Ｆｅｎｔｅｅｒ 2x エアクッションBBクリーム長持ちメイクアップコスメティッククリームナチュラルカラー, ナチュラルカラー\n"
     ]
    },
    {
     "name": "stderr",
     "output_type": "stream",
     "text": [
      "\n"
     ]
    }
   ],
   "source": [
    "from fuzzywuzzy import fuzz\n",
    "from tqdm import tqdm\n",
    "df1 = amazon_df\n",
    "df2 = checco_df_clean\n",
    "# Assuming you have loaded the datasets into two DataFrames: df1 and df2\n",
    "\n",
    "for index, row1 in tqdm(df1.iterrows()):\n",
    "    product_name1 = row1['product_title']\n",
    "    if type(product_name1) == float:\n",
    "        print('float')\n",
    "        \n",
    "        continue\n",
    "    for index, row2 in df2.iterrows():\n",
    "        product_name2 = row2['title']\n",
    "\n",
    "        if type(product_name2) == float:\n",
    "            print('float')\n",
    "            continue\n",
    "        similarity_score = fuzz.ratio(product_name1, product_name2)\n",
    "\n",
    "        # Set a threshold value for similarity score above which two product names are considered a match\n",
    "        if similarity_score > 50:  # Adjust the threshold as per your requirement\n",
    "            # Update the product name in df1 with the matched product name from df2\n",
    "            df1.at[index, 'checco_title'] = product_name2\n",
    "            df1.at[index, 'similarity_score'] = similarity_score\n",
    "            \n",
    "            print(product_name1)\n",
    "            print(similarity_score)\n",
    "            print(product_name2)\n",
    "            break"
   ]
  },
  {
   "attachments": {},
   "cell_type": "markdown",
   "metadata": {},
   "source": [
    "## 브랜드 매칭"
   ]
  },
  {
   "cell_type": "code",
   "execution_count": null,
   "metadata": {},
   "outputs": [],
   "source": [
    "from fuzzywuzzy import fuzz\n",
    "from tqdm import tqdm\n",
    "df1 = amazon_df\n",
    "df2 = checco_df_clean\n",
    "# Assuming you have loaded the datasets into two DataFrames: df1 and df2\n",
    "\n",
    "for index, row1 in tqdm(df1.iterrows()):\n",
    "    product_name1 = row1['brand']\n",
    "    if type(product_name1) == float:\n",
    "        continue\n",
    "    for index, row2 in df2.iterrows():\n",
    "        product_name2 = row2['brand']\n",
    "\n",
    "        if type(product_name2) == float:\n",
    "            continue\n",
    "        similarity_score = fuzz.ratio(product_name1, product_name2)\n",
    "\n",
    "        # Set a threshold value for similarity score above which two product names are considered a match\n",
    "        if similarity_score > 50:  # Adjust the threshold as per your requirement\n",
    "            # Update the product name in df1 with the matched product name from df2\n",
    "            df1.at[index, 'checco_brand'] = product_name2\n",
    "            df1.at[index, 'similarity_score'] = similarity_score\n",
    "            \n",
    "            print(product_name1)\n",
    "            print(similarity_score)\n",
    "            print(product_name2)\n",
    "            break"
   ]
  },
  {
   "attachments": {},
   "cell_type": "markdown",
   "metadata": {},
   "source": [
    "# Jaccard 유사성 "
   ]
  },
  {
   "cell_type": "code",
   "execution_count": 54,
   "metadata": {},
   "outputs": [],
   "source": [
    "import pandas as pd\n",
    "from nltk.tokenize import word_tokenize\n",
    "\n",
    "# Assuming you have two datasets loaded into DataFrames: df1 and df2\n",
    "df1 = amazon_df\n",
    "df2 = checco_df_clean"
   ]
  },
  {
   "attachments": {},
   "cell_type": "markdown",
   "metadata": {},
   "source": [
    "  Jaccard 유사성을 계산하는 함수를 정의합니다. <br>\n",
    " 단어 집합으로 토큰화하여 제품 이름을 사전 처리합니다."
   ]
  },
  {
   "cell_type": "code",
   "execution_count": 58,
   "metadata": {},
   "outputs": [
    {
     "ename": "LookupError",
     "evalue": "\n**********************************************************************\n  Resource \u001b[93mpunkt\u001b[0m not found.\n  Please use the NLTK Downloader to obtain the resource:\n\n  \u001b[31m>>> import nltk\n  >>> nltk.download('punkt')\n  \u001b[0m\n  For more information see: https://www.nltk.org/data.html\n\n  Attempted to load \u001b[93mtokenizers/punkt/PY3/english.pickle\u001b[0m\n\n  Searched in:\n    - '/home/elinha/nltk_data'\n    - '/home/elinha/anaconda3/nltk_data'\n    - '/home/elinha/anaconda3/share/nltk_data'\n    - '/home/elinha/anaconda3/lib/nltk_data'\n    - '/usr/share/nltk_data'\n    - '/usr/local/share/nltk_data'\n    - '/usr/lib/nltk_data'\n    - '/usr/local/lib/nltk_data'\n    - ''\n**********************************************************************\n",
     "output_type": "error",
     "traceback": [
      "\u001b[0;31m---------------------------------------------------------------------------\u001b[0m",
      "\u001b[0;31mLookupError\u001b[0m                               Traceback (most recent call last)",
      "Cell \u001b[0;32mIn[58], line 6\u001b[0m\n\u001b[1;32m      3\u001b[0m     union \u001b[39m=\u001b[39m \u001b[39mlen\u001b[39m(set1\u001b[39m.\u001b[39munion(set2))\n\u001b[1;32m      4\u001b[0m     \u001b[39mreturn\u001b[39;00m intersection \u001b[39m/\u001b[39m union\n\u001b[0;32m----> 6\u001b[0m df1[\u001b[39m'\u001b[39m\u001b[39mname_tokens\u001b[39m\u001b[39m'\u001b[39m] \u001b[39m=\u001b[39m df1[\u001b[39m'\u001b[39;49m\u001b[39mproduct_title\u001b[39;49m\u001b[39m'\u001b[39;49m]\u001b[39m.\u001b[39;49mapply(\u001b[39mlambda\u001b[39;49;00m x: \u001b[39mset\u001b[39;49m(word_tokenize(x)))\n\u001b[1;32m      7\u001b[0m df2[\u001b[39m'\u001b[39m\u001b[39mname_tokens\u001b[39m\u001b[39m'\u001b[39m] \u001b[39m=\u001b[39m df2[\u001b[39m'\u001b[39m\u001b[39mtitle\u001b[39m\u001b[39m'\u001b[39m]\u001b[39m.\u001b[39mapply(\u001b[39mlambda\u001b[39;00m x: \u001b[39mset\u001b[39m(word_tokenize(x)))\n",
      "File \u001b[0;32m~/anaconda3/lib/python3.8/site-packages/pandas/core/series.py:4630\u001b[0m, in \u001b[0;36mSeries.apply\u001b[0;34m(self, func, convert_dtype, args, **kwargs)\u001b[0m\n\u001b[1;32m   4520\u001b[0m \u001b[39mdef\u001b[39;00m \u001b[39mapply\u001b[39m(\n\u001b[1;32m   4521\u001b[0m     \u001b[39mself\u001b[39m,\n\u001b[1;32m   4522\u001b[0m     func: AggFuncType,\n\u001b[0;32m   (...)\u001b[0m\n\u001b[1;32m   4525\u001b[0m     \u001b[39m*\u001b[39m\u001b[39m*\u001b[39mkwargs,\n\u001b[1;32m   4526\u001b[0m ) \u001b[39m-\u001b[39m\u001b[39m>\u001b[39m DataFrame \u001b[39m|\u001b[39m Series:\n\u001b[1;32m   4527\u001b[0m \u001b[39m    \u001b[39m\u001b[39m\"\"\"\u001b[39;00m\n\u001b[1;32m   4528\u001b[0m \u001b[39m    Invoke function on values of Series.\u001b[39;00m\n\u001b[1;32m   4529\u001b[0m \n\u001b[0;32m   (...)\u001b[0m\n\u001b[1;32m   4628\u001b[0m \u001b[39m    dtype: float64\u001b[39;00m\n\u001b[1;32m   4629\u001b[0m \u001b[39m    \"\"\"\u001b[39;00m\n\u001b[0;32m-> 4630\u001b[0m     \u001b[39mreturn\u001b[39;00m SeriesApply(\u001b[39mself\u001b[39;49m, func, convert_dtype, args, kwargs)\u001b[39m.\u001b[39;49mapply()\n",
      "File \u001b[0;32m~/anaconda3/lib/python3.8/site-packages/pandas/core/apply.py:1025\u001b[0m, in \u001b[0;36mSeriesApply.apply\u001b[0;34m(self)\u001b[0m\n\u001b[1;32m   1022\u001b[0m     \u001b[39mreturn\u001b[39;00m \u001b[39mself\u001b[39m\u001b[39m.\u001b[39mapply_str()\n\u001b[1;32m   1024\u001b[0m \u001b[39m# self.f is Callable\u001b[39;00m\n\u001b[0;32m-> 1025\u001b[0m \u001b[39mreturn\u001b[39;00m \u001b[39mself\u001b[39;49m\u001b[39m.\u001b[39;49mapply_standard()\n",
      "File \u001b[0;32m~/anaconda3/lib/python3.8/site-packages/pandas/core/apply.py:1076\u001b[0m, in \u001b[0;36mSeriesApply.apply_standard\u001b[0;34m(self)\u001b[0m\n\u001b[1;32m   1074\u001b[0m     \u001b[39melse\u001b[39;00m:\n\u001b[1;32m   1075\u001b[0m         values \u001b[39m=\u001b[39m obj\u001b[39m.\u001b[39mastype(\u001b[39mobject\u001b[39m)\u001b[39m.\u001b[39m_values\n\u001b[0;32m-> 1076\u001b[0m         mapped \u001b[39m=\u001b[39m lib\u001b[39m.\u001b[39;49mmap_infer(\n\u001b[1;32m   1077\u001b[0m             values,\n\u001b[1;32m   1078\u001b[0m             f,\n\u001b[1;32m   1079\u001b[0m             convert\u001b[39m=\u001b[39;49m\u001b[39mself\u001b[39;49m\u001b[39m.\u001b[39;49mconvert_dtype,\n\u001b[1;32m   1080\u001b[0m         )\n\u001b[1;32m   1082\u001b[0m \u001b[39mif\u001b[39;00m \u001b[39mlen\u001b[39m(mapped) \u001b[39mand\u001b[39;00m \u001b[39misinstance\u001b[39m(mapped[\u001b[39m0\u001b[39m], ABCSeries):\n\u001b[1;32m   1083\u001b[0m     \u001b[39m# GH#43986 Need to do list(mapped) in order to get treated as nested\u001b[39;00m\n\u001b[1;32m   1084\u001b[0m     \u001b[39m#  See also GH#25959 regarding EA support\u001b[39;00m\n\u001b[1;32m   1085\u001b[0m     \u001b[39mreturn\u001b[39;00m obj\u001b[39m.\u001b[39m_constructor_expanddim(\u001b[39mlist\u001b[39m(mapped), index\u001b[39m=\u001b[39mobj\u001b[39m.\u001b[39mindex)\n",
      "File \u001b[0;32m~/anaconda3/lib/python3.8/site-packages/pandas/_libs/lib.pyx:2834\u001b[0m, in \u001b[0;36mpandas._libs.lib.map_infer\u001b[0;34m()\u001b[0m\n",
      "Cell \u001b[0;32mIn[58], line 6\u001b[0m, in \u001b[0;36m<lambda>\u001b[0;34m(x)\u001b[0m\n\u001b[1;32m      3\u001b[0m     union \u001b[39m=\u001b[39m \u001b[39mlen\u001b[39m(set1\u001b[39m.\u001b[39munion(set2))\n\u001b[1;32m      4\u001b[0m     \u001b[39mreturn\u001b[39;00m intersection \u001b[39m/\u001b[39m union\n\u001b[0;32m----> 6\u001b[0m df1[\u001b[39m'\u001b[39m\u001b[39mname_tokens\u001b[39m\u001b[39m'\u001b[39m] \u001b[39m=\u001b[39m df1[\u001b[39m'\u001b[39m\u001b[39mproduct_title\u001b[39m\u001b[39m'\u001b[39m]\u001b[39m.\u001b[39mapply(\u001b[39mlambda\u001b[39;00m x: \u001b[39mset\u001b[39m(word_tokenize(x)))\n\u001b[1;32m      7\u001b[0m df2[\u001b[39m'\u001b[39m\u001b[39mname_tokens\u001b[39m\u001b[39m'\u001b[39m] \u001b[39m=\u001b[39m df2[\u001b[39m'\u001b[39m\u001b[39mtitle\u001b[39m\u001b[39m'\u001b[39m]\u001b[39m.\u001b[39mapply(\u001b[39mlambda\u001b[39;00m x: \u001b[39mset\u001b[39m(word_tokenize(x)))\n",
      "File \u001b[0;32m~/anaconda3/lib/python3.8/site-packages/nltk/tokenize/__init__.py:129\u001b[0m, in \u001b[0;36mword_tokenize\u001b[0;34m(text, language, preserve_line)\u001b[0m\n\u001b[1;32m    114\u001b[0m \u001b[39mdef\u001b[39;00m \u001b[39mword_tokenize\u001b[39m(text, language\u001b[39m=\u001b[39m\u001b[39m\"\u001b[39m\u001b[39menglish\u001b[39m\u001b[39m\"\u001b[39m, preserve_line\u001b[39m=\u001b[39m\u001b[39mFalse\u001b[39;00m):\n\u001b[1;32m    115\u001b[0m \u001b[39m    \u001b[39m\u001b[39m\"\"\"\u001b[39;00m\n\u001b[1;32m    116\u001b[0m \u001b[39m    Return a tokenized copy of *text*,\u001b[39;00m\n\u001b[1;32m    117\u001b[0m \u001b[39m    using NLTK's recommended word tokenizer\u001b[39;00m\n\u001b[0;32m   (...)\u001b[0m\n\u001b[1;32m    127\u001b[0m \u001b[39m    :type preserve_line: bool\u001b[39;00m\n\u001b[1;32m    128\u001b[0m \u001b[39m    \"\"\"\u001b[39;00m\n\u001b[0;32m--> 129\u001b[0m     sentences \u001b[39m=\u001b[39m [text] \u001b[39mif\u001b[39;00m preserve_line \u001b[39melse\u001b[39;00m sent_tokenize(text, language)\n\u001b[1;32m    130\u001b[0m     \u001b[39mreturn\u001b[39;00m [\n\u001b[1;32m    131\u001b[0m         token \u001b[39mfor\u001b[39;00m sent \u001b[39min\u001b[39;00m sentences \u001b[39mfor\u001b[39;00m token \u001b[39min\u001b[39;00m _treebank_word_tokenizer\u001b[39m.\u001b[39mtokenize(sent)\n\u001b[1;32m    132\u001b[0m     ]\n",
      "File \u001b[0;32m~/anaconda3/lib/python3.8/site-packages/nltk/tokenize/__init__.py:106\u001b[0m, in \u001b[0;36msent_tokenize\u001b[0;34m(text, language)\u001b[0m\n\u001b[1;32m     96\u001b[0m \u001b[39mdef\u001b[39;00m \u001b[39msent_tokenize\u001b[39m(text, language\u001b[39m=\u001b[39m\u001b[39m\"\u001b[39m\u001b[39menglish\u001b[39m\u001b[39m\"\u001b[39m):\n\u001b[1;32m     97\u001b[0m \u001b[39m    \u001b[39m\u001b[39m\"\"\"\u001b[39;00m\n\u001b[1;32m     98\u001b[0m \u001b[39m    Return a sentence-tokenized copy of *text*,\u001b[39;00m\n\u001b[1;32m     99\u001b[0m \u001b[39m    using NLTK's recommended sentence tokenizer\u001b[39;00m\n\u001b[0;32m   (...)\u001b[0m\n\u001b[1;32m    104\u001b[0m \u001b[39m    :param language: the model name in the Punkt corpus\u001b[39;00m\n\u001b[1;32m    105\u001b[0m \u001b[39m    \"\"\"\u001b[39;00m\n\u001b[0;32m--> 106\u001b[0m     tokenizer \u001b[39m=\u001b[39m load(\u001b[39mf\u001b[39;49m\u001b[39m\"\u001b[39;49m\u001b[39mtokenizers/punkt/\u001b[39;49m\u001b[39m{\u001b[39;49;00mlanguage\u001b[39m}\u001b[39;49;00m\u001b[39m.pickle\u001b[39;49m\u001b[39m\"\u001b[39;49m)\n\u001b[1;32m    107\u001b[0m     \u001b[39mreturn\u001b[39;00m tokenizer\u001b[39m.\u001b[39mtokenize(text)\n",
      "File \u001b[0;32m~/anaconda3/lib/python3.8/site-packages/nltk/data.py:750\u001b[0m, in \u001b[0;36mload\u001b[0;34m(resource_url, format, cache, verbose, logic_parser, fstruct_reader, encoding)\u001b[0m\n\u001b[1;32m    747\u001b[0m     \u001b[39mprint\u001b[39m(\u001b[39mf\u001b[39m\u001b[39m\"\u001b[39m\u001b[39m<<Loading \u001b[39m\u001b[39m{\u001b[39;00mresource_url\u001b[39m}\u001b[39;00m\u001b[39m>>\u001b[39m\u001b[39m\"\u001b[39m)\n\u001b[1;32m    749\u001b[0m \u001b[39m# Load the resource.\u001b[39;00m\n\u001b[0;32m--> 750\u001b[0m opened_resource \u001b[39m=\u001b[39m _open(resource_url)\n\u001b[1;32m    752\u001b[0m \u001b[39mif\u001b[39;00m \u001b[39mformat\u001b[39m \u001b[39m==\u001b[39m \u001b[39m\"\u001b[39m\u001b[39mraw\u001b[39m\u001b[39m\"\u001b[39m:\n\u001b[1;32m    753\u001b[0m     resource_val \u001b[39m=\u001b[39m opened_resource\u001b[39m.\u001b[39mread()\n",
      "File \u001b[0;32m~/anaconda3/lib/python3.8/site-packages/nltk/data.py:876\u001b[0m, in \u001b[0;36m_open\u001b[0;34m(resource_url)\u001b[0m\n\u001b[1;32m    873\u001b[0m protocol, path_ \u001b[39m=\u001b[39m split_resource_url(resource_url)\n\u001b[1;32m    875\u001b[0m \u001b[39mif\u001b[39;00m protocol \u001b[39mis\u001b[39;00m \u001b[39mNone\u001b[39;00m \u001b[39mor\u001b[39;00m protocol\u001b[39m.\u001b[39mlower() \u001b[39m==\u001b[39m \u001b[39m\"\u001b[39m\u001b[39mnltk\u001b[39m\u001b[39m\"\u001b[39m:\n\u001b[0;32m--> 876\u001b[0m     \u001b[39mreturn\u001b[39;00m find(path_, path \u001b[39m+\u001b[39;49m [\u001b[39m\"\u001b[39;49m\u001b[39m\"\u001b[39;49m])\u001b[39m.\u001b[39mopen()\n\u001b[1;32m    877\u001b[0m \u001b[39melif\u001b[39;00m protocol\u001b[39m.\u001b[39mlower() \u001b[39m==\u001b[39m \u001b[39m\"\u001b[39m\u001b[39mfile\u001b[39m\u001b[39m\"\u001b[39m:\n\u001b[1;32m    878\u001b[0m     \u001b[39m# urllib might not use mode='rb', so handle this one ourselves:\u001b[39;00m\n\u001b[1;32m    879\u001b[0m     \u001b[39mreturn\u001b[39;00m find(path_, [\u001b[39m\"\u001b[39m\u001b[39m\"\u001b[39m])\u001b[39m.\u001b[39mopen()\n",
      "File \u001b[0;32m~/anaconda3/lib/python3.8/site-packages/nltk/data.py:583\u001b[0m, in \u001b[0;36mfind\u001b[0;34m(resource_name, paths)\u001b[0m\n\u001b[1;32m    581\u001b[0m sep \u001b[39m=\u001b[39m \u001b[39m\"\u001b[39m\u001b[39m*\u001b[39m\u001b[39m\"\u001b[39m \u001b[39m*\u001b[39m \u001b[39m70\u001b[39m\n\u001b[1;32m    582\u001b[0m resource_not_found \u001b[39m=\u001b[39m \u001b[39mf\u001b[39m\u001b[39m\"\u001b[39m\u001b[39m\\n\u001b[39;00m\u001b[39m{\u001b[39;00msep\u001b[39m}\u001b[39;00m\u001b[39m\\n\u001b[39;00m\u001b[39m{\u001b[39;00mmsg\u001b[39m}\u001b[39;00m\u001b[39m\\n\u001b[39;00m\u001b[39m{\u001b[39;00msep\u001b[39m}\u001b[39;00m\u001b[39m\\n\u001b[39;00m\u001b[39m\"\u001b[39m\n\u001b[0;32m--> 583\u001b[0m \u001b[39mraise\u001b[39;00m \u001b[39mLookupError\u001b[39;00m(resource_not_found)\n",
      "\u001b[0;31mLookupError\u001b[0m: \n**********************************************************************\n  Resource \u001b[93mpunkt\u001b[0m not found.\n  Please use the NLTK Downloader to obtain the resource:\n\n  \u001b[31m>>> import nltk\n  >>> nltk.download('punkt')\n  \u001b[0m\n  For more information see: https://www.nltk.org/data.html\n\n  Attempted to load \u001b[93mtokenizers/punkt/PY3/english.pickle\u001b[0m\n\n  Searched in:\n    - '/home/elinha/nltk_data'\n    - '/home/elinha/anaconda3/nltk_data'\n    - '/home/elinha/anaconda3/share/nltk_data'\n    - '/home/elinha/anaconda3/lib/nltk_data'\n    - '/usr/share/nltk_data'\n    - '/usr/local/share/nltk_data'\n    - '/usr/lib/nltk_data'\n    - '/usr/local/lib/nltk_data'\n    - ''\n**********************************************************************\n"
     ]
    }
   ],
   "source": [
    "def calculate_jaccard_similarity(set1, set2):\n",
    "    intersection = len(set1.intersection(set2))\n",
    "    union = len(set1.union(set2))\n",
    "    return intersection / union\n",
    "\n",
    "df1['name_tokens'] = df1['product_title'].apply(lambda x: set(word_tokenize(x)))\n",
    "df2['name_tokens'] = df2['title'].apply(lambda x: set(word_tokenize(x)))\n",
    "\n"
   ]
  },
  {
   "attachments": {},
   "cell_type": "markdown",
   "metadata": {},
   "source": [
    "첫 번째 데이터세트의 각 제품 이름을 반복하고 Jaccard 유사성을 기반으로 두 번째 데이터세트에서 가장 일치하는 항목을 찾습니다."
   ]
  },
  {
   "cell_type": "code",
   "execution_count": null,
   "metadata": {},
   "outputs": [],
   "source": [
    "\n",
    "for index, row1 in df1.iterrows():\n",
    "    product_name1 = row1['product_title']\n",
    "    name_tokens1 = row1['name_tokens']\n",
    "    best_similarity = 0.0\n",
    "    best_match = ''\n",
    "\n",
    "    for index, row2 in df2.iterrows():\n",
    "        product_name2 = row2['title']\n",
    "        name_tokens2 = row2['name_tokens']\n",
    "\n",
    "        similarity_score = calculate_jaccard_similarity(name_tokens1, name_tokens2)\n",
    "\n",
    "        # Keep track of the best match with highest similarity score\n",
    "        if similarity_score > best_similarity:\n",
    "            best_similarity = similarity_score\n",
    "            best_match = product_name2\n",
    "\n",
    "    # Update the product name in df1 with the best match from df2\n",
    "    df1.at[index, 'checco_title'] = best_match\n",
    "    df1.at[index, 'similarity_score'] = similarity_score\n"
   ]
  },
  {
   "attachments": {},
   "cell_type": "markdown",
   "metadata": {},
   "source": [
    "# SequenceMatcher class from the difflib "
   ]
  },
  {
   "attachments": {},
   "cell_type": "markdown",
   "metadata": {},
   "source": [
    "Import the necessary libraries and load the datasets:"
   ]
  },
  {
   "cell_type": "code",
   "execution_count": null,
   "metadata": {},
   "outputs": [],
   "source": [
    "import pandas as pd\n",
    "from difflib import SequenceMatcher\n",
    "\n",
    "# Assuming you have two datasets loaded into DataFrames: df1 and df2\n",
    "df1 = amazon_df\n",
    "df2 = checco_df_clean"
   ]
  },
  {
   "attachments": {},
   "cell_type": "markdown",
   "metadata": {},
   "source": [
    "Define a function to calculate the similarity score using SequenceMatcher:"
   ]
  },
  {
   "cell_type": "code",
   "execution_count": null,
   "metadata": {},
   "outputs": [],
   "source": [
    "def calculate_sequence_similarity(seq1, seq2):\n",
    "    matcher = SequenceMatcher(None, seq1, seq2)\n",
    "    return matcher.ratio()\n"
   ]
  },
  {
   "attachments": {},
   "cell_type": "markdown",
   "metadata": {},
   "source": [
    "Iterate through each product name in the first dataset and find the best match in the second dataset based on sequence similarity:"
   ]
  },
  {
   "cell_type": "code",
   "execution_count": null,
   "metadata": {},
   "outputs": [],
   "source": [
    "for index, row1 in df1.iterrows():\n",
    "    product_name1 = row1['product_name']\n",
    "    best_similarity = 0.0\n",
    "    best_match = ''\n",
    "\n",
    "    for index, row2 in df2.iterrows():\n",
    "        product_name2 = row2['product_name']\n",
    "\n",
    "        similarity_score = calculate_sequence_similarity(product_name1, product_name2)\n",
    "\n",
    "        # Keep track of the best match with the highest similarity score\n",
    "        if similarity_score > best_similarity:\n",
    "            best_similarity = similarity_score\n",
    "            best_match = product_name2\n",
    "\n",
    "    # Update the product name in df1 with the best match from df2\n",
    "    df1.at[index, 'checco_title'] = best_match\n",
    "    df1.at[index, 'similarity_score'] = similarity_score\n"
   ]
  },
  {
   "cell_type": "code",
   "execution_count": null,
   "metadata": {},
   "outputs": [],
   "source": [
    "import pandas as pd\n",
    "from glob import glob\n",
    "from fuzzywuzzy import fuzz\n",
    "from tqdm import tqdm\n",
    "\n",
    "data_path = './data/*.csv'\n",
    "data_lst = glob(data_path)\n",
    "amazon_df = pd.read_csv(data_lst[0]).iloc[:,1:]\n",
    "checco_df_clean = pd.read_csv(data_lst[2])\n",
    "matching_version = 'brand'\n",
    "\n",
    "df1 = amazon_df\n",
    "df2 = checco_df_clean\n",
    "# Assuming you have loaded the datasets into two DataFrames: df1 and df2\n",
    "\n",
    "for index, row1 in tqdm(df1.iterrows()):\n",
    "    max_score = 50\n",
    "    product_name1 = row1['brand']\n",
    "    if type(product_name1) == float:\n",
    "        continue\n",
    "    for index, row2 in df2.iterrows():\n",
    "        product_name2 = row2['brand']\n",
    "\n",
    "        if type(product_name2) == float:\n",
    "            continue\n",
    "        similarity_score = fuzz.ratio(product_name1, product_name2)\n",
    "\n",
    "        # Set a threshold value for similarity score above which two product names are considered a match\n",
    "        if similarity_score > max_score:  # Adjust the threshold as per your requirement\n",
    "            max_score = similarity_score\n",
    "            # Update the product name in df1 with the matched product name from df2\n",
    "            df1.at[index, 'checco_brand'] = product_name2\n",
    "            df1.at[index, 'similarity_score'] = similarity_score\n",
    "            \n",
    "            print(\"product_name1\", product_name1)\n",
    "            print(\"product_name2\", product_name2)\n",
    "            print(\"similarity_score\", similarity_score)\n",
    "            continue\n",
    "df1.to_csv(f'fuzzywuzzy_{matching_version}.csv', index=False, encoding='utf-8-sig')"
   ]
  },
  {
   "cell_type": "code",
   "execution_count": null,
   "metadata": {},
   "outputs": [],
   "source": [
    "import pandas as pd\n",
    "from glob import glob\n",
    "from fuzzywuzzy import fuzz\n",
    "from tqdm import tqdm\n",
    "\n",
    "data_path = './data/*.csv'\n",
    "data_lst = glob(data_path)\n",
    "amazon_df = pd.read_csv(data_lst[0]).iloc[:,1:]\n",
    "checco_df_clean = pd.read_csv(data_lst[2])\n",
    "matching_version = 'brand'\n",
    "\n",
    "df1 = amazon_df\n",
    "df2 = checco_df_clean\n",
    "# Assuming you have loaded the datasets into two DataFrames: df1 and df2\n",
    "\n",
    "for index, row1 in tqdm(df1.iterrows()):\n",
    "    max_score = 50\n",
    "    product_name1 = row1[matching_version]\n",
    "    if type(product_name1) == float:\n",
    "        continue\n",
    "    for index, row2 in df2.iterrows():\n",
    "        product_name2 = row2[matching_version]\n",
    "\n",
    "        if type(product_name2) == float:\n",
    "            continue\n",
    "        similarity_score = fuzz.ratio(product_name1, product_name2)\n",
    "\n",
    "        # Set a threshold value for similarity score above which two product names are considered a match\n",
    "        if similarity_score > max_score:  # Adjust the threshold as per your requirement\n",
    "            max_score = similarity_score\n",
    "            # Update the product name in df1 with the matched product name from df2\n",
    "            df1.at[index, \"checco_\"+matching_version] = product_name2\n",
    "            df1.at[index, 'similarity_score'] = similarity_score\n",
    "            print(f\"{similarity_score}: product_name1: {product_name1}, product_name2: {product_name2}\", product_name1)\n",
    "            continue\n",
    "        \n",
    "df1.to_csv(f'fuzzywuzzy_{matching_version}.csv', index=False, encoding='utf-8-sig')"
   ]
  }
 ],
 "metadata": {
  "kernelspec": {
   "display_name": "base",
   "language": "python",
   "name": "python3"
  },
  "language_info": {
   "codemirror_mode": {
    "name": "ipython",
    "version": 3
   },
   "file_extension": ".py",
   "mimetype": "text/x-python",
   "name": "python",
   "nbconvert_exporter": "python",
   "pygments_lexer": "ipython3",
   "version": "3.10.6"
  },
  "orig_nbformat": 4,
  "vscode": {
   "interpreter": {
    "hash": "2568b31422f911d240befaa5e46dd782c4cc23ae238e6e2196b9786beeefb2a9"
   }
  }
 },
 "nbformat": 4,
 "nbformat_minor": 2
}
