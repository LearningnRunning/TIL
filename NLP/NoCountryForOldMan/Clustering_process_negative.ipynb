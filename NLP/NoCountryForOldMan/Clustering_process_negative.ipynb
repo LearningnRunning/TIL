{
 "cells": [
  {
   "attachments": {},
   "cell_type": "markdown",
   "metadata": {},
   "source": [
    "# SentenceBERT 한국어 문장 클러스터링 \n",
    "- 배우 벤, 로버트, 드 니로, 클러스터8\n",
    "비현실\n",
    "\n",
    "클러스터 14 직장 내 노인\n",
    "\n",
    "클러스터 15 할아버지에 대한 찬사 + 중립 10\n",
    "\n",
    "클러스터 16  + 클러스터 18 + 중립 7\n",
    "\n",
    "중립의 17 벤, 어른\n",
    "\n",
    "노인, 연륜, 버지가 들어간 리뷰들만으로\n",
    "\n",
    "노인일 때의 면집단\n"
   ]
  },
  {
   "cell_type": "code",
   "execution_count": 1,
   "metadata": {},
   "outputs": [],
   "source": [
    "import pandas as pd\n",
    "# all_review_sentiment_df = pd.read_csv(\"/Users/seongrok.kim/Github/TIL/NLP/NoCountryForOldMan/data/intern_all_review_sentiment.csv\")\n",
    "positive_review_sentiment_df = pd.read_csv(\"/Users/seongrok.kim/Github/TIL/NLP/NoCountryForOldMan/data/cluster_positive_df.csv\")\n",
    "neutral_review_sentiment_df = pd.read_csv(\"/Users/seongrok.kim/Github/TIL/NLP/NoCountryForOldMan/data/cluster_neutral_df.csv\")\n"
   ]
  },
  {
   "cell_type": "code",
   "execution_count": 2,
   "metadata": {},
   "outputs": [],
   "source": [
    "negative_review_sentiment_df = pd.read_csv(\"/Users/seongrok.kim/Github/TIL/NLP/NoCountryForOldMan/data/cluster_negative_df.csv\")"
   ]
  },
  {
   "cell_type": "code",
   "execution_count": 3,
   "metadata": {},
   "outputs": [
    {
     "name": "stdout",
     "output_type": "stream",
     "text": [
      "<class 'pandas.core.frame.DataFrame'>\n",
      "RangeIndex: 6318 entries, 0 to 6317\n",
      "Data columns (total 2 columns):\n",
      " #   Column   Non-Null Count  Dtype \n",
      "---  ------   --------------  ----- \n",
      " 0   review   6318 non-null   object\n",
      " 1   cluster  6318 non-null   object\n",
      "dtypes: object(2)\n",
      "memory usage: 98.8+ KB\n"
     ]
    }
   ],
   "source": [
    "negative_review_sentiment_df.info()"
   ]
  },
  {
   "cell_type": "code",
   "execution_count": 9,
   "metadata": {},
   "outputs": [],
   "source": [
    "del negative_review_sentiment_df['cluster']"
   ]
  },
  {
   "cell_type": "code",
   "execution_count": 10,
   "metadata": {},
   "outputs": [
    {
     "name": "stdout",
     "output_type": "stream",
     "text": [
      "<class 'pandas.core.frame.DataFrame'>\n",
      "RangeIndex: 6318 entries, 0 to 6317\n",
      "Data columns (total 1 columns):\n",
      " #   Column  Non-Null Count  Dtype \n",
      "---  ------  --------------  ----- \n",
      " 0   review  6318 non-null   object\n",
      "dtypes: object(1)\n",
      "memory usage: 49.5+ KB\n"
     ]
    }
   ],
   "source": [
    "negative_review_sentiment_df.info()"
   ]
  },
  {
   "cell_type": "code",
   "execution_count": 12,
   "metadata": {},
   "outputs": [
    {
     "data": {
      "application/vnd.jupyter.widget-view+json": {
       "model_id": "4171f567686941d59dc1799d3fc5c72d",
       "version_major": 2,
       "version_minor": 0
      },
      "text/plain": [
       ".gitattributes:   0%|          | 0.00/968 [00:00<?, ?B/s]"
      ]
     },
     "metadata": {},
     "output_type": "display_data"
    },
    {
     "data": {
      "application/vnd.jupyter.widget-view+json": {
       "model_id": "dee4060676f243dd84fd12f1c807a9e0",
       "version_major": 2,
       "version_minor": 0
      },
      "text/plain": [
       "1_Pooling/config.json:   0%|          | 0.00/190 [00:00<?, ?B/s]"
      ]
     },
     "metadata": {},
     "output_type": "display_data"
    },
    {
     "data": {
      "application/vnd.jupyter.widget-view+json": {
       "model_id": "bb510a0a35204ef4bd000d21a20dc41d",
       "version_major": 2,
       "version_minor": 0
      },
      "text/plain": [
       "README.md:   0%|          | 0.00/4.09k [00:00<?, ?B/s]"
      ]
     },
     "metadata": {},
     "output_type": "display_data"
    },
    {
     "data": {
      "application/vnd.jupyter.widget-view+json": {
       "model_id": "7231c22a1c304ea99cea5bc82bb69496",
       "version_major": 2,
       "version_minor": 0
      },
      "text/plain": [
       "config.json:   0%|          | 0.00/645 [00:00<?, ?B/s]"
      ]
     },
     "metadata": {},
     "output_type": "display_data"
    },
    {
     "data": {
      "application/vnd.jupyter.widget-view+json": {
       "model_id": "f85b1e7e7de147bc9ad49acbff805b7e",
       "version_major": 2,
       "version_minor": 0
      },
      "text/plain": [
       "config_sentence_transformers.json:   0%|          | 0.00/122 [00:00<?, ?B/s]"
      ]
     },
     "metadata": {},
     "output_type": "display_data"
    },
    {
     "data": {
      "application/vnd.jupyter.widget-view+json": {
       "model_id": "d1448beb8711428ab34f4efc1e183c3a",
       "version_major": 2,
       "version_minor": 0
      },
      "text/plain": [
       "pytorch_model.bin:   0%|          | 0.00/471M [00:00<?, ?B/s]"
      ]
     },
     "metadata": {},
     "output_type": "display_data"
    },
    {
     "data": {
      "application/vnd.jupyter.widget-view+json": {
       "model_id": "3953857d751e4398ac617768679d8d18",
       "version_major": 2,
       "version_minor": 0
      },
      "text/plain": [
       "sentence_bert_config.json:   0%|          | 0.00/53.0 [00:00<?, ?B/s]"
      ]
     },
     "metadata": {},
     "output_type": "display_data"
    },
    {
     "data": {
      "application/vnd.jupyter.widget-view+json": {
       "model_id": "fb5fc86eaf334ecab0303c5c35ad1bf1",
       "version_major": 2,
       "version_minor": 0
      },
      "text/plain": [
       "sentencepiece.bpe.model:   0%|          | 0.00/5.07M [00:00<?, ?B/s]"
      ]
     },
     "metadata": {},
     "output_type": "display_data"
    },
    {
     "data": {
      "application/vnd.jupyter.widget-view+json": {
       "model_id": "a20e1f98402147b6ad6308badd00376e",
       "version_major": 2,
       "version_minor": 0
      },
      "text/plain": [
       "special_tokens_map.json:   0%|          | 0.00/239 [00:00<?, ?B/s]"
      ]
     },
     "metadata": {},
     "output_type": "display_data"
    },
    {
     "data": {
      "application/vnd.jupyter.widget-view+json": {
       "model_id": "e3102e57cbe94e3680d22ac6375acd11",
       "version_major": 2,
       "version_minor": 0
      },
      "text/plain": [
       "tokenizer.json:   0%|          | 0.00/9.08M [00:00<?, ?B/s]"
      ]
     },
     "metadata": {},
     "output_type": "display_data"
    },
    {
     "data": {
      "application/vnd.jupyter.widget-view+json": {
       "model_id": "2eff2f85b12a401382e22057f78c525a",
       "version_major": 2,
       "version_minor": 0
      },
      "text/plain": [
       "tokenizer_config.json:   0%|          | 0.00/480 [00:00<?, ?B/s]"
      ]
     },
     "metadata": {},
     "output_type": "display_data"
    },
    {
     "data": {
      "application/vnd.jupyter.widget-view+json": {
       "model_id": "760b6ca8e0b14307bcafd791b38abe8c",
       "version_major": 2,
       "version_minor": 0
      },
      "text/plain": [
       "unigram.json:   0%|          | 0.00/14.8M [00:00<?, ?B/s]"
      ]
     },
     "metadata": {},
     "output_type": "display_data"
    },
    {
     "data": {
      "application/vnd.jupyter.widget-view+json": {
       "model_id": "eedc3d71f0584276b1c1dc25d8b794bc",
       "version_major": 2,
       "version_minor": 0
      },
      "text/plain": [
       "modules.json:   0%|          | 0.00/229 [00:00<?, ?B/s]"
      ]
     },
     "metadata": {},
     "output_type": "display_data"
    }
   ],
   "source": [
    "from sentence_transformers import SentenceTransformer\n",
    "\n",
    "model_path = 'sentence-transformers/paraphrase-multilingual-MiniLM-L12-v2'\n",
    "embedder = SentenceTransformer(model_path)"
   ]
  },
  {
   "cell_type": "code",
   "execution_count": 14,
   "metadata": {},
   "outputs": [],
   "source": [
    "corpus = negative_review_sentiment_df['review'].values.tolist()\n",
    "corpus_embeddings_negative = embedder.encode(corpus) "
   ]
  },
  {
   "cell_type": "code",
   "execution_count": 19,
   "metadata": {},
   "outputs": [
    {
     "name": "stderr",
     "output_type": "stream",
     "text": [
      "/Users/seongrok.kim/miniforge3/lib/python3.10/site-packages/sklearn/cluster/_kmeans.py:1412: FutureWarning: The default value of `n_init` will change from 10 to 'auto' in 1.4. Set the value of `n_init` explicitly to suppress the warning\n",
      "  super()._check_params_vs_input(X, default_n_init=10)\n"
     ]
    }
   ],
   "source": [
    "from sklearn.cluster import KMeans\n",
    "num_clusters = 10\n",
    "clustering_model = KMeans(n_clusters=num_clusters)\n",
    "clustering_model.fit(corpus_embeddings_negative)\n",
    "cluster_assignment = clustering_model.labels_\n",
    "\n",
    "clustered_sentences = [[] for i in range(num_clusters)]\n",
    "for sentence_id, cluster_id in enumerate(cluster_assignment):\n",
    "    clustered_sentences[cluster_id].append(corpus[sentence_id])\n",
    "\n",
    "cluster_dict = {}\n",
    "for i, cluster in enumerate(clustered_sentences):\n",
    "    cluster_dict[f\"negavite_review_cluster_{i}\"] = cluster"
   ]
  },
  {
   "cell_type": "code",
   "execution_count": 22,
   "metadata": {},
   "outputs": [
    {
     "name": "stdout",
     "output_type": "stream",
     "text": [
      "negavite_review_cluster_0 294\n",
      "negavite_review_cluster_1 918\n",
      "negavite_review_cluster_2 1610\n",
      "negavite_review_cluster_3 521\n",
      "negavite_review_cluster_4 153\n",
      "negavite_review_cluster_5 471\n",
      "negavite_review_cluster_6 375\n",
      "negavite_review_cluster_7 1132\n",
      "negavite_review_cluster_8 262\n",
      "negavite_review_cluster_9 582\n"
     ]
    }
   ],
   "source": [
    "for k, v in cluster_dict.items():\n",
    "    print(k, len(v))"
   ]
  },
  {
   "cell_type": "code",
   "execution_count": 30,
   "metadata": {},
   "outputs": [],
   "source": [
    "cluster_df = pd.DataFrame()\n",
    "\n",
    "for k,v in cluster_dict.items():\n",
    "    df = pd.DataFrame({\"review\": v})\n",
    "    df['cluster'] = k\n",
    "    cluster_df = pd.concat([cluster_df, df])"
   ]
  },
  {
   "cell_type": "code",
   "execution_count": 35,
   "metadata": {},
   "outputs": [
    {
     "data": {
      "text/html": [
       "<div>\n",
       "<style scoped>\n",
       "    .dataframe tbody tr th:only-of-type {\n",
       "        vertical-align: middle;\n",
       "    }\n",
       "\n",
       "    .dataframe tbody tr th {\n",
       "        vertical-align: top;\n",
       "    }\n",
       "\n",
       "    .dataframe thead th {\n",
       "        text-align: right;\n",
       "    }\n",
       "</style>\n",
       "<table border=\"1\" class=\"dataframe\">\n",
       "  <thead>\n",
       "    <tr style=\"text-align: right;\">\n",
       "      <th></th>\n",
       "      <th>review</th>\n",
       "      <th>cluster</th>\n",
       "    </tr>\n",
       "  </thead>\n",
       "  <tbody>\n",
       "    <tr>\n",
       "      <th>0</th>\n",
       "      <td>기대 안 하고 봤지만나도 이런 멘토가 있었으면 좋겠다는 생각이 듦</td>\n",
       "      <td>negavite_review_cluster_0</td>\n",
       "    </tr>\n",
       "    <tr>\n",
       "      <th>1</th>\n",
       "      <td>인턴의 모습을 보며 내내 ^-------^ 이 미소로 관람했지만 중간부로 들어서면서...</td>\n",
       "      <td>negavite_review_cluster_0</td>\n",
       "    </tr>\n",
       "    <tr>\n",
       "      <th>2</th>\n",
       "      <td>웃으면서 봤지만 왜 인턴을 설정했는지 전혀 알 수 없었다.</td>\n",
       "      <td>negavite_review_cluster_0</td>\n",
       "    </tr>\n",
       "    <tr>\n",
       "      <th>3</th>\n",
       "      <td>소소한 재미는 있었으나 지루하게 긴 러닝 타임과 숨길 수 없는 클리셰들 개인적으로 ...</td>\n",
       "      <td>negavite_review_cluster_0</td>\n",
       "    </tr>\n",
       "    <tr>\n",
       "      <th>4</th>\n",
       "      <td>내용 자체가 인턴에 초점이 잡히기보단 주인공 부부에 초점이 맞춰진듯해서 아쉽네요.</td>\n",
       "      <td>negavite_review_cluster_0</td>\n",
       "    </tr>\n",
       "    <tr>\n",
       "      <th>...</th>\n",
       "      <td>...</td>\n",
       "      <td>...</td>\n",
       "    </tr>\n",
       "    <tr>\n",
       "      <th>289</th>\n",
       "      <td>인턴은 어디 가고 워킹맘의 애환만... -_-</td>\n",
       "      <td>negavite_review_cluster_0</td>\n",
       "    </tr>\n",
       "    <tr>\n",
       "      <th>290</th>\n",
       "      <td>지금 인턴 중인 나에게 설명하기 힘든 뭉클함이 있었다</td>\n",
       "      <td>negavite_review_cluster_0</td>\n",
       "    </tr>\n",
       "    <tr>\n",
       "      <th>291</th>\n",
       "      <td>내인턴생활은..망이었는데ㅠㅠ</td>\n",
       "      <td>negavite_review_cluster_0</td>\n",
       "    </tr>\n",
       "    <tr>\n",
       "      <th>292</th>\n",
       "      <td>요즘 많이 힘들고 직장에 회의감도 들었는데..</td>\n",
       "      <td>negavite_review_cluster_0</td>\n",
       "    </tr>\n",
       "    <tr>\n",
       "      <th>293</th>\n",
       "      <td>벤 이 40년 동안 일했던 자리를 눈으로 가리킬 땐 눈시울이 뜨거워졌어요.</td>\n",
       "      <td>negavite_review_cluster_0</td>\n",
       "    </tr>\n",
       "  </tbody>\n",
       "</table>\n",
       "<p>294 rows × 2 columns</p>\n",
       "</div>"
      ],
      "text/plain": [
       "                                                review  \\\n",
       "0                 기대 안 하고 봤지만나도 이런 멘토가 있었으면 좋겠다는 생각이 듦   \n",
       "1    인턴의 모습을 보며 내내 ^-------^ 이 미소로 관람했지만 중간부로 들어서면서...   \n",
       "2                     웃으면서 봤지만 왜 인턴을 설정했는지 전혀 알 수 없었다.   \n",
       "3    소소한 재미는 있었으나 지루하게 긴 러닝 타임과 숨길 수 없는 클리셰들 개인적으로 ...   \n",
       "4        내용 자체가 인턴에 초점이 잡히기보단 주인공 부부에 초점이 맞춰진듯해서 아쉽네요.   \n",
       "..                                                 ...   \n",
       "289                          인턴은 어디 가고 워킹맘의 애환만... -_-   \n",
       "290                      지금 인턴 중인 나에게 설명하기 힘든 뭉클함이 있었다   \n",
       "291                                    내인턴생활은..망이었는데ㅠㅠ   \n",
       "292                          요즘 많이 힘들고 직장에 회의감도 들었는데..   \n",
       "293          벤 이 40년 동안 일했던 자리를 눈으로 가리킬 땐 눈시울이 뜨거워졌어요.   \n",
       "\n",
       "                       cluster  \n",
       "0    negavite_review_cluster_0  \n",
       "1    negavite_review_cluster_0  \n",
       "2    negavite_review_cluster_0  \n",
       "3    negavite_review_cluster_0  \n",
       "4    negavite_review_cluster_0  \n",
       "..                         ...  \n",
       "289  negavite_review_cluster_0  \n",
       "290  negavite_review_cluster_0  \n",
       "291  negavite_review_cluster_0  \n",
       "292  negavite_review_cluster_0  \n",
       "293  negavite_review_cluster_0  \n",
       "\n",
       "[294 rows x 2 columns]"
      ]
     },
     "execution_count": 35,
     "metadata": {},
     "output_type": "execute_result"
    }
   ],
   "source": [
    "cluster_df[cluster_df['cluster'] == 'negavite_review_cluster_0']"
   ]
  },
  {
   "cell_type": "code",
   "execution_count": null,
   "metadata": {},
   "outputs": [],
   "source": [
    "cluster_df[cluster_df['cluster'] == 'negavite_review_cluster_1']"
   ]
  },
  {
   "cell_type": "code",
   "execution_count": 38,
   "metadata": {},
   "outputs": [],
   "source": [
    "cluster_df = cluster_df.drop_duplicates(subset=['review'])\n",
    "cluster_df.to_csv('./data/cluster_negative_df.csv', index=False, encoding='utf-8-sig')"
   ]
  }
 ],
 "metadata": {
  "kernelspec": {
   "display_name": "base",
   "language": "python",
   "name": "python3"
  },
  "language_info": {
   "codemirror_mode": {
    "name": "ipython",
    "version": 3
   },
   "file_extension": ".py",
   "mimetype": "text/x-python",
   "name": "python",
   "nbconvert_exporter": "python",
   "pygments_lexer": "ipython3",
   "version": "3.10.6"
  },
  "orig_nbformat": 4,
  "vscode": {
   "interpreter": {
    "hash": "2568b31422f911d240befaa5e46dd782c4cc23ae238e6e2196b9786beeefb2a9"
   }
  }
 },
 "nbformat": 4,
 "nbformat_minor": 2
}
