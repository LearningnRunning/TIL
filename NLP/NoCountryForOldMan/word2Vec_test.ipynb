{
 "cells": [
  {
   "cell_type": "code",
   "execution_count": 2,
   "metadata": {},
   "outputs": [
    {
     "name": "stdout",
     "output_type": "stream",
     "text": [
      "./data/modulab_phase_2/china/intern_china_word2vec_model\n"
     ]
    }
   ],
   "source": [
    "from gensim.models import Word2Vec\n",
    "import os\n",
    "\n",
    "STATIC_PATH = './data/modulab_phase_2'\n",
    "china_word2vec_model_file_path = os.path.join(STATIC_PATH,'china', 'intern_china_word2vec_model')\n",
    "print(china_word2vec_model_file_path)\n",
    "model = Word2Vec.load(china_word2vec_model_file_path)\n"
   ]
  },
  {
   "cell_type": "code",
   "execution_count": 3,
   "metadata": {},
   "outputs": [
    {
     "data": {
      "text/plain": [
       "[('niro,', 0.9325786828994751),\n",
       " ('niro', 0.9276684522628784),\n",
       " (\"niro's\", 0.9078507423400879),\n",
       " ('robert.de', 0.9051419496536255),\n",
       " ('de', 0.8957055807113647),\n",
       " ('niro.', 0.8865845203399658),\n",
       " ('actor', 0.8804166913032532),\n",
       " ('assumed', 0.8781462907791138),\n",
       " ('meyers', 0.8768404722213745),\n",
       " ('played', 0.8728798627853394)]"
      ]
     },
     "execution_count": 3,
     "metadata": {},
     "output_type": "execute_result"
    }
   ],
   "source": [
    "key_word = 'robert'\n",
    "model.wv.most_similar(key_word, topn=10)"
   ]
  }
 ],
 "metadata": {
  "kernelspec": {
   "display_name": "base",
   "language": "python",
   "name": "python3"
  },
  "language_info": {
   "codemirror_mode": {
    "name": "ipython",
    "version": 3
   },
   "file_extension": ".py",
   "mimetype": "text/x-python",
   "name": "python",
   "nbconvert_exporter": "python",
   "pygments_lexer": "ipython3",
   "version": "3.10.6"
  },
  "orig_nbformat": 4,
  "vscode": {
   "interpreter": {
    "hash": "2568b31422f911d240befaa5e46dd782c4cc23ae238e6e2196b9786beeefb2a9"
   }
  }
 },
 "nbformat": 4,
 "nbformat_minor": 2
}
