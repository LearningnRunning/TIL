{
 "cells": [
  {
   "attachments": {},
   "cell_type": "markdown",
   "metadata": {},
   "source": [
    "# SentenceBERT 한국어 문장 클러스터링 \n",
    "- 배우 벤, 로버트, 드 니로, 클러스터8\n",
    "비현실\n",
    "\n",
    "클러스터 14 직장 내 노인\n",
    "\n",
    "클러스터 15 할아버지에 대한 찬사 + 중립 10\n",
    "\n",
    "클러스터 16  + 클러스터 18 + 중립 7\n",
    "\n",
    "중립의 17 벤, 어른\n",
    "\n",
    "노인, 연륜, 버지가 들어간 리뷰들만으로\n",
    "\n",
    "노인일 때의 면집단\n"
   ]
  },
  {
   "cell_type": "code",
   "execution_count": 55,
   "metadata": {},
   "outputs": [],
   "source": [
    "import pandas as pd\n",
    "# all_review_sentiment_df = pd.read_csv(\"/Users/seongrok.kim/Github/TIL/NLP/NoCountryForOldMan/data/intern_all_review_sentiment.csv\")\n",
    "positive_review_sentiment_df = pd.read_csv(\"/Users/seongrok.kim/Github/TIL/NLP/NoCountryForOldMan/data/cluster_positive_df.csv\")\n",
    "neutral_review_sentiment_df = pd.read_csv(\"/Users/seongrok.kim/Github/TIL/NLP/NoCountryForOldMan/data/cluster_neutral_df.csv\")"
   ]
  },
  {
   "cell_type": "code",
   "execution_count": 44,
   "metadata": {},
   "outputs": [
    {
     "name": "stdout",
     "output_type": "stream",
     "text": [
      "<class 'pandas.core.frame.DataFrame'>\n",
      "RangeIndex: 44657 entries, 0 to 44656\n",
      "Data columns (total 2 columns):\n",
      " #   Column   Non-Null Count  Dtype \n",
      "---  ------   --------------  ----- \n",
      " 0   review   44657 non-null  object\n",
      " 1   cluster  44657 non-null  object\n",
      "dtypes: object(2)\n",
      "memory usage: 697.9+ KB\n"
     ]
    }
   ],
   "source": [
    "positive_review_sentiment_df.info()"
   ]
  },
  {
   "cell_type": "code",
   "execution_count": 70,
   "metadata": {},
   "outputs": [],
   "source": [
    "review_sentiment_df = positive_review_sentiment_df[positive_review_sentiment_df['cluster'] == f'Cluster_16']\n",
    "review_sentiment_df_tmp_18 = positive_review_sentiment_df[positive_review_sentiment_df['cluster'] == f'Cluster_18']\n",
    "review_sentiment_df_tmp = neutral_review_sentiment_df[neutral_review_sentiment_df['cluster'] == f'Cluster_17']\n",
    "review_sentiment_df = pd.concat([review_sentiment_df, review_sentiment_df_tmp_18, review_sentiment_df_tmp])"
   ]
  },
  {
   "cell_type": "code",
   "execution_count": 66,
   "metadata": {},
   "outputs": [
    {
     "name": "stdout",
     "output_type": "stream",
     "text": [
      "<class 'pandas.core.frame.DataFrame'>\n",
      "Index: 8333 entries, 33713 to 8040\n",
      "Data columns (total 2 columns):\n",
      " #   Column   Non-Null Count  Dtype \n",
      "---  ------   --------------  ----- \n",
      " 0   review   8333 non-null   object\n",
      " 1   cluster  8333 non-null   object\n",
      "dtypes: object(2)\n",
      "memory usage: 195.3+ KB\n"
     ]
    }
   ],
   "source": [
    "review_sentiment_df.info()"
   ]
  },
  {
   "cell_type": "code",
   "execution_count": null,
   "metadata": {},
   "outputs": [],
   "source": [
    "\n",
    "review_sentiment_df = positive_review_sentiment_df[positive_review_sentiment_df['cluster'] == f'Cluster_{cluster_num}']"
   ]
  },
  {
   "cell_type": "code",
   "execution_count": 72,
   "metadata": {},
   "outputs": [],
   "source": [
    "from sentence_transformers import SentenceTransformer\n",
    "cluster_num = 14\n",
    "model_path = 'jhgan/ko-sroberta-multitask'\n",
    "embedder = SentenceTransformer(model_path)\n",
    "corpus = review_sentiment_df_tmp['review'].values.tolist()\n",
    "\n",
    "corpus_embeddings_17 = embedder.encode(corpus) "
   ]
  },
  {
   "cell_type": "code",
   "execution_count": 33,
   "metadata": {},
   "outputs": [
    {
     "data": {
      "text/plain": [
       "(72286, 768)"
      ]
     },
     "execution_count": 33,
     "metadata": {},
     "output_type": "execute_result"
    }
   ],
   "source": [
    "import numpy as np\n",
    "# Load the array from the file\n",
    "corpus_embeddings_all = np.load('./data/SentenceBERT_all.npy')\n",
    "corpus_embeddings_all"
   ]
  },
  {
   "cell_type": "code",
   "execution_count": 21,
   "metadata": {},
   "outputs": [
    {
     "data": {
      "text/plain": [
       "72286"
      ]
     },
     "execution_count": 21,
     "metadata": {},
     "output_type": "execute_result"
    }
   ],
   "source": [
    "len(all_review_sentiment_df)"
   ]
  },
  {
   "cell_type": "code",
   "execution_count": 35,
   "metadata": {},
   "outputs": [],
   "source": [
    "all_review_sentiment_df['embedding'] = list(corpus_embeddings_all)"
   ]
  },
  {
   "cell_type": "code",
   "execution_count": 70,
   "metadata": {},
   "outputs": [],
   "source": [
    "all_review_sentiment_df.to_csv(\"/Users/seongrok.kim/Github/TIL/NLP/NoCountryForOldMan/data/intern_all_review_sentiment.csv\", index=False, encoding='utf-8-sig')"
   ]
  },
  {
   "cell_type": "code",
   "execution_count": 67,
   "metadata": {},
   "outputs": [],
   "source": [
    "def convert_cgv_score(tmp):\n",
    "    if tmp == 1.0:\n",
    "        re_score = 5.0\n",
    "    elif tmp == 2.0:\n",
    "        re_score = 5.0\n",
    "    else:\n",
    "        re_score = 1.0\n",
    "    return re_score"
   ]
  },
  {
   "cell_type": "code",
   "execution_count": 4,
   "metadata": {},
   "outputs": [],
   "source": [
    "def replace_score(df):\n",
    "    df.loc[(df['platform'] == 'cgv') & (df['Review Score'].isin([0.0, 2.0])), 'Review Score'] = 5.0\n",
    "    return df\n",
    "\n",
    "all_review_sentiment_df = replace_score(all_review_sentiment_df)"
   ]
  },
  {
   "cell_type": "code",
   "execution_count": 36,
   "metadata": {},
   "outputs": [],
   "source": [
    "positive_review_sentiment_df = all_review_sentiment_df.loc[(all_review_sentiment_df['analysis'] == 'positive') & (all_review_sentiment_df['Review Score'] >= 2.5)]"
   ]
  },
  {
   "cell_type": "code",
   "execution_count": null,
   "metadata": {},
   "outputs": [],
   "source": [
    "np.array(positive_review_sentiment_df['embedding'])"
   ]
  },
  {
   "cell_type": "code",
   "execution_count": 37,
   "metadata": {},
   "outputs": [
    {
     "data": {
      "text/plain": [
       "(49932, 768)"
      ]
     },
     "execution_count": 37,
     "metadata": {},
     "output_type": "execute_result"
    }
   ],
   "source": [
    "import numpy as np\n",
    "positive_corpus = np.array(positive_review_sentiment_df['embedding'].to_list())\n",
    "positive_corpus.shape"
   ]
  },
  {
   "cell_type": "code",
   "execution_count": 49,
   "metadata": {},
   "outputs": [
    {
     "data": {
      "text/plain": [
       "(2945, 768)"
      ]
     },
     "execution_count": 49,
     "metadata": {},
     "output_type": "execute_result"
    }
   ],
   "source": [
    "corpus_embeddings_14.shape"
   ]
  },
  {
   "cell_type": "code",
   "execution_count": 73,
   "metadata": {},
   "outputs": [
    {
     "name": "stderr",
     "output_type": "stream",
     "text": [
      "/Users/seongrok.kim/miniforge3/lib/python3.10/site-packages/sklearn/cluster/_kmeans.py:1412: FutureWarning: The default value of `n_init` will change from 10 to 'auto' in 1.4. Set the value of `n_init` explicitly to suppress the warning\n",
      "  super()._check_params_vs_input(X, default_n_init=10)\n"
     ]
    }
   ],
   "source": [
    "from sklearn.cluster import KMeans\n",
    "num_clusters = 10\n",
    "clustering_model = KMeans(n_clusters=num_clusters)\n",
    "clustering_model.fit(corpus_embeddings_17)\n",
    "cluster_assignment = clustering_model.labels_\n",
    "\n",
    "clustered_sentences = [[] for i in range(num_clusters)]\n",
    "for sentence_id, cluster_id in enumerate(cluster_assignment):\n",
    "    clustered_sentences[cluster_id].append(corpus[sentence_id])\n",
    "cluster_dict = {}\n",
    "for i, cluster in enumerate(clustered_sentences):\n",
    "    cluster_dict[f\"Cluster_{i}\"] = cluster"
   ]
  },
  {
   "cell_type": "code",
   "execution_count": 61,
   "metadata": {},
   "outputs": [
    {
     "name": "stdout",
     "output_type": "stream",
     "text": [
      "Cluster_0 81\n",
      "Cluster_1 254\n",
      "Cluster_2 148\n",
      "Cluster_3 306\n",
      "Cluster_4 99\n",
      "Cluster_5 222\n",
      "Cluster_6 53\n",
      "Cluster_7 88\n",
      "Cluster_8 108\n",
      "Cluster_9 276\n"
     ]
    }
   ],
   "source": [
    "for k, v in cluster_dict.items():\n",
    "    print(k, len(v))"
   ]
  },
  {
   "cell_type": "code",
   "execution_count": 62,
   "metadata": {},
   "outputs": [],
   "source": [
    "cluster_df = pd.DataFrame()\n",
    "\n",
    "for k,v in cluster_dict.items():\n",
    "    df = pd.DataFrame({\"review\": v})\n",
    "    df['cluster'] = k\n",
    "    cluster_df = pd.concat([cluster_df, df])"
   ]
  },
  {
   "cell_type": "code",
   "execution_count": 74,
   "metadata": {},
   "outputs": [],
   "source": [
    "cluster_df = cluster_df.drop_duplicates(subset=['review'])\n",
    "cluster_df.to_csv('./data/cluster_n17_df.csv', index=False, encoding='utf-8-sig')"
   ]
  },
  {
   "cell_type": "code",
   "execution_count": 64,
   "metadata": {},
   "outputs": [
    {
     "data": {
      "text/html": [
       "<div>\n",
       "<style scoped>\n",
       "    .dataframe tbody tr th:only-of-type {\n",
       "        vertical-align: middle;\n",
       "    }\n",
       "\n",
       "    .dataframe tbody tr th {\n",
       "        vertical-align: top;\n",
       "    }\n",
       "\n",
       "    .dataframe thead th {\n",
       "        text-align: right;\n",
       "    }\n",
       "</style>\n",
       "<table border=\"1\" class=\"dataframe\">\n",
       "  <thead>\n",
       "    <tr style=\"text-align: right;\">\n",
       "      <th></th>\n",
       "      <th>review</th>\n",
       "      <th>cluster</th>\n",
       "    </tr>\n",
       "  </thead>\n",
       "  <tbody>\n",
       "    <tr>\n",
       "      <th>0</th>\n",
       "      <td>특히 연로하신 아버지와 같이 봐 더 감동적이었어요</td>\n",
       "      <td>Cluster_0</td>\n",
       "    </tr>\n",
       "    <tr>\n",
       "      <th>1</th>\n",
       "      <td>부모님도 좋으셨대요</td>\n",
       "      <td>Cluster_0</td>\n",
       "    </tr>\n",
       "    <tr>\n",
       "      <th>2</th>\n",
       "      <td>아빠가 보고 감동받으셨다고 함</td>\n",
       "      <td>Cluster_0</td>\n",
       "    </tr>\n",
       "    <tr>\n",
       "      <th>3</th>\n",
       "      <td>친구랑 봤는데남자친구랑도 보려고요할아버지 멋있어요 ㅎㅎ</td>\n",
       "      <td>Cluster_0</td>\n",
       "    </tr>\n",
       "    <tr>\n",
       "      <th>4</th>\n",
       "      <td>아버지께도 추천하고 싶다.</td>\n",
       "      <td>Cluster_0</td>\n",
       "    </tr>\n",
       "    <tr>\n",
       "      <th>...</th>\n",
       "      <td>...</td>\n",
       "      <td>...</td>\n",
       "    </tr>\n",
       "    <tr>\n",
       "      <th>271</th>\n",
       "      <td>고령화 시대 은퇴세대와 어떻게 손을 잡을 수 있는지 현명한 방법을 제시.</td>\n",
       "      <td>Cluster_9</td>\n",
       "    </tr>\n",
       "    <tr>\n",
       "      <th>272</th>\n",
       "      <td>그 60대 주인공은 감독 자신을 투영한 이상형의 남성인 것 같다.</td>\n",
       "      <td>Cluster_9</td>\n",
       "    </tr>\n",
       "    <tr>\n",
       "      <th>273</th>\n",
       "      <td>이외의 어르신들께서는 다 어디로 가서 어떻게 계실까</td>\n",
       "      <td>Cluster_9</td>\n",
       "    </tr>\n",
       "    <tr>\n",
       "      <th>274</th>\n",
       "      <td>고전적이고 무해한 할아버지 내니의 회사 돌보기.</td>\n",
       "      <td>Cluster_9</td>\n",
       "    </tr>\n",
       "    <tr>\n",
       "      <th>275</th>\n",
       "      <td>연륜이 묻어나는 노신사의 인생 조언.</td>\n",
       "      <td>Cluster_9</td>\n",
       "    </tr>\n",
       "  </tbody>\n",
       "</table>\n",
       "<p>1635 rows × 2 columns</p>\n",
       "</div>"
      ],
      "text/plain": [
       "                                       review    cluster\n",
       "0                 특히 연로하신 아버지와 같이 봐 더 감동적이었어요  Cluster_0\n",
       "1                                  부모님도 좋으셨대요  Cluster_0\n",
       "2                            아빠가 보고 감동받으셨다고 함  Cluster_0\n",
       "3              친구랑 봤는데남자친구랑도 보려고요할아버지 멋있어요 ㅎㅎ  Cluster_0\n",
       "4                              아버지께도 추천하고 싶다.  Cluster_0\n",
       "..                                        ...        ...\n",
       "271  고령화 시대 은퇴세대와 어떻게 손을 잡을 수 있는지 현명한 방법을 제시.  Cluster_9\n",
       "272      그 60대 주인공은 감독 자신을 투영한 이상형의 남성인 것 같다.  Cluster_9\n",
       "273              이외의 어르신들께서는 다 어디로 가서 어떻게 계실까  Cluster_9\n",
       "274                고전적이고 무해한 할아버지 내니의 회사 돌보기.  Cluster_9\n",
       "275                      연륜이 묻어나는 노신사의 인생 조언.  Cluster_9\n",
       "\n",
       "[1635 rows x 2 columns]"
      ]
     },
     "execution_count": 64,
     "metadata": {},
     "output_type": "execute_result"
    }
   ],
   "source": [
    "cluster_df"
   ]
  }
 ],
 "metadata": {
  "kernelspec": {
   "display_name": "base",
   "language": "python",
   "name": "python3"
  },
  "language_info": {
   "codemirror_mode": {
    "name": "ipython",
    "version": 3
   },
   "file_extension": ".py",
   "mimetype": "text/x-python",
   "name": "python",
   "nbconvert_exporter": "python",
   "pygments_lexer": "ipython3",
   "version": "3.10.6 | packaged by conda-forge | (main, Aug 22 2022, 20:38:29) [Clang 13.0.1 ]"
  },
  "orig_nbformat": 4,
  "vscode": {
   "interpreter": {
    "hash": "2568b31422f911d240befaa5e46dd782c4cc23ae238e6e2196b9786beeefb2a9"
   }
  }
 },
 "nbformat": 4,
 "nbformat_minor": 2
}
