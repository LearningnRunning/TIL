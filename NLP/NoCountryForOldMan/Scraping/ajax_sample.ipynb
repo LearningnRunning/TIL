{
 "cells": [
  {
   "cell_type": "code",
   "execution_count": null,
   "metadata": {},
   "outputs": [],
   "source": [
    "import requests\n",
    "\n",
    "headers = {\n",
    "    'authority': 'm100.chosun.com',\n",
    "    'accept': 'application/json, text/plain, */*',\n",
    "    'accept-language': 'ko-KR,ko;q=0.9,en-US;q=0.8,en;q=0.7,ja;q=0.6',\n",
    "    'origin': 'https://www.chosun.com',\n",
    "    'referer': 'https://www.chosun.com/national/national_general/2023/10/31/BNSRPE5ZBJHCNASOIYTQXCDB3Q/',\n",
    "    'sec-ch-ua': '\"Chromium\";v=\"118\", \"Google Chrome\";v=\"118\", \"Not=A?Brand\";v=\"99\"',\n",
    "    'sec-ch-ua-mobile': '?0',\n",
    "    'sec-ch-ua-platform': '\"macOS\"',\n",
    "    'sec-fetch-dest': 'empty',\n",
    "    'sec-fetch-mode': 'cors',\n",
    "    'sec-fetch-site': 'same-site',\n",
    "    'user-agent': 'Mozilla/5.0 (Macintosh; Intel Mac OS X 10_15_7) AppleWebKit/537.36 (KHTML, like Gecko) Chrome/118.0.0.0 Safari/537.36',\n",
    "}\n",
    "\n",
    "response = requests.get(\n",
    "    'https://m100.chosun.com/svc/guest/list-api.html?article=BNSRPE5ZBJHCNASOIYTQXCDB3Q&arc_story_id=BNSRPE5ZBJHCNASOIYTQXCDB3Q&art_site=WWW&ls_act=agree&art_date=202310&init_size=3&file_sort=agree&pn=2&list_type=&last_count=64&last_date=2023.10.31%2020:17:34&display_type=nickname&size=10',\n",
    "    headers=headers,\n",
    ")"
   ]
  },
  {
   "cell_type": "code",
   "execution_count": null,
   "metadata": {},
   "outputs": [],
   "source": [
    "import json\n",
    "print(response.status_code)\n",
    "response_data = response.json()\n",
    "response_data['content_elements']"
   ]
  }
 ],
 "metadata": {
  "kernelspec": {
   "display_name": "base",
   "language": "python",
   "name": "python3"
  },
  "language_info": {
   "name": "python",
   "version": "3.10.6 | packaged by conda-forge | (main, Aug 22 2022, 20:38:29) [Clang 13.0.1 ]"
  },
  "orig_nbformat": 4,
  "vscode": {
   "interpreter": {
    "hash": "2568b31422f911d240befaa5e46dd782c4cc23ae238e6e2196b9786beeefb2a9"
   }
  }
 },
 "nbformat": 4,
 "nbformat_minor": 2
}
