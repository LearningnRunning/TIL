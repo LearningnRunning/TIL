{
 "cells": [
  {
   "cell_type": "code",
   "execution_count": 15,
   "metadata": {},
   "outputs": [
    {
     "name": "stdout",
     "output_type": "stream",
     "text": [
      "200\n"
     ]
    }
   ],
   "source": [
    "import requests\n",
    "\n",
    "headers = {\n",
    "    'Accept': 'application/json, text/javascript, */*; q=0.01',\n",
    "    'Accept-Language': 'ko-KR,ko;q=0.9,en-US;q=0.8,en;q=0.7,ja;q=0.6',\n",
    "    'Connection': 'keep-alive',\n",
    "    'Content-Type': 'application/json; charset=UTF-8',\n",
    "    # 'Cookie': 'ASP.NET_SessionId=ybonljq0zgzc4o40lrgv4z4n; WMONID=Z6-eKj-5pDX; CgvPopAd-movies=%uA250%uA253%uA25B%uA24F%uA24C%uA25B; _gid=GA1.3.619036711.1704283105; _gat_UA-47951671-5=1; _gat_UA-47951671-7=1; _gat_UA-47126437-1=1; _ga=GA1.1.139682969.1704092199; _ga_SSGE1ZCJKG=GS1.3.1704283105.2.0.1704283105.60.0.0; CgvCM=+hRIA0ETeRobimHkt3iXwNW2VH7MCwh0iVTxe8JjQWhd+REDACGrfYQ1utM2lhPHaH/z3YqbOoAePU+Latw3ITa5sz2/QiWaqoJkd5F087hA2Dfmwoyr+AgLNOTIAnMntX/5W9yU62VPwEQ9v1v3WFSp+Nuk/WWy2QJF8kycB9hqkt/uKJeVdiGOxyc27Er1GOZQdATcsY9GL2UBwogyx95Zqyp/sraRCJu2v11rC6m7ZHMEBVSli7u1BP2TKB3O; _ga_559DE9WSKZ=GS1.1.1704283105.3.0.1704283108.57.0.0',\n",
    "    'Origin': 'http://www.cgv.co.kr',\n",
    "    'Referer': 'http://www.cgv.co.kr/movies/detail-view/?midx=78368',\n",
    "    'User-Agent': 'Mozilla/5.0 (Macintosh; Intel Mac OS X 10_15_7) AppleWebKit/537.36 (KHTML, like Gecko) Chrome/120.0.0.0 Safari/537.36',\n",
    "    'X-Requested-With': 'XMLHttpRequest',\n",
    "}\n",
    "\n",
    "data = \"{ 'movieIdx': 78368, 'pageIndex': 2, 'pageSize': 6, 'orderType': 0, 'filterType': 1, 'isTotalCount' : false, 'isMyPoint' : 'false' }\"\n",
    "\n",
    "response = requests.post(\n",
    "    'http://www.cgv.co.kr/common/ajax/point.aspx/GetMoviePointVariableList',\n",
    "    headers=headers,\n",
    "    data=data,\n",
    "    verify=False,\n",
    ")\n",
    "\n",
    "print(response.status_code)"
   ]
  },
  {
   "cell_type": "code",
   "execution_count": 27,
   "metadata": {},
   "outputs": [
    {
     "name": "stdout",
     "output_type": "stream",
     "text": [
      "<class 'dict'>\n"
     ]
    },
    {
     "data": {
      "text/plain": [
       "dict_keys(['d'])"
      ]
     },
     "execution_count": 27,
     "metadata": {},
     "output_type": "execute_result"
    }
   ],
   "source": [
    "response_data = response.json()\n",
    "print(type(response_data))\n",
    "\n",
    "\n",
    "response_data.keys()"
   ]
  },
  {
   "cell_type": "code",
   "execution_count": 30,
   "metadata": {},
   "outputs": [
    {
     "data": {
      "text/plain": [
       "dict_keys(['d'])"
      ]
     },
     "execution_count": 30,
     "metadata": {},
     "output_type": "execute_result"
    }
   ],
   "source": [
    "response_data.keys()"
   ]
  },
  {
   "cell_type": "code",
   "execution_count": 40,
   "metadata": {},
   "outputs": [
    {
     "data": {
      "text/plain": [
       "dict_keys(['TotalCount', 'List'])"
      ]
     },
     "execution_count": 40,
     "metadata": {},
     "output_type": "execute_result"
    }
   ],
   "source": [
    "import json\n",
    "response_data_d = json.loads(response_data['d'])\n",
    "response_data_d.keys()"
   ]
  },
  {
   "cell_type": "code",
   "execution_count": 47,
   "metadata": {},
   "outputs": [
    {
     "data": {
      "text/plain": [
       "'좋은 영화 만들어주셔서 감사해요. 잘 감상했습니다. 엄지척!'"
      ]
     },
     "execution_count": 47,
     "metadata": {},
     "output_type": "execute_result"
    }
   ],
   "source": [
    "response_data_lst = response_data_d['List']\n",
    "\n",
    "response_data_tmp = response_data_lst[0]\n",
    "response_data_tmp.get(\"CommentText\")\n",
    "response_data_tmp['CommentText']\n"
   ]
  },
  {
   "attachments": {},
   "cell_type": "markdown",
   "metadata": {},
   "source": [
    "## key를 불러오는 방식"
   ]
  },
  {
   "cell_type": "code",
   "execution_count": 52,
   "metadata": {},
   "outputs": [
    {
     "data": {
      "text/plain": [
       "'한번쯤 ceo가 되고 싶은 내 판타지를 충족 시켜준 영화.. 지혜로운 할아버지 인턴이 가능한 미국과 우리 나라에서는 글쎄 현실적으로 가능할까.. ?'"
      ]
     },
     "execution_count": 52,
     "metadata": {},
     "output_type": "execute_result"
    }
   ],
   "source": [
    "response_data_tmp['CommentText']"
   ]
  },
  {
   "cell_type": "code",
   "execution_count": 53,
   "metadata": {},
   "outputs": [
    {
     "data": {
      "text/plain": [
       "'한번쯤 ceo가 되고 싶은 내 판타지를 충족 시켜준 영화.. 지혜로운 할아버지 인턴이 가능한 미국과 우리 나라에서는 글쎄 현실적으로 가능할까.. ?'"
      ]
     },
     "execution_count": 53,
     "metadata": {},
     "output_type": "execute_result"
    }
   ],
   "source": [
    "response_data_tmp.get(\"CommentText\")"
   ]
  },
  {
   "attachments": {},
   "cell_type": "markdown",
   "metadata": {},
   "source": [
    "## 파싱"
   ]
  },
  {
   "cell_type": "code",
   "execution_count": 48,
   "metadata": {},
   "outputs": [
    {
     "data": {
      "text/plain": [
       "{'CommentIdx': 34357243,\n",
       " 'CommentTypeCode': 524,\n",
       " 'Point': 0,\n",
       " 'CommentText': '좋은 영화 만들어주셔서 감사해요. 잘 감상했습니다. 엄지척!',\n",
       " 'UserID': 'fJVlVCsOpMKHKW3He1hgfA==',\n",
       " 'RegistUser': 'fJVlVCsOpMKHKW3He1hgfA==',\n",
       " 'NickName': None,\n",
       " 'UserImage': '',\n",
       " 'UserSmallImage': '',\n",
       " 'RegistDate': '2023.06.16',\n",
       " 'EggPoint': 2,\n",
       " 'IsVIP': 'N',\n",
       " 'PollCharming': 'N',\n",
       " 'Acting': None,\n",
       " 'Story': None,\n",
       " 'Visual': None,\n",
       " 'OST': None,\n",
       " 'Effect': None,\n",
       " 'MediaTypeCode': '411^',\n",
       " 'UserIdNicName': 'di**nme',\n",
       " 'IsMine': False,\n",
       " 'IsViewer': True,\n",
       " 'IsShowView': True,\n",
       " 'IsNormal': False,\n",
       " 'IsMobile': False,\n",
       " 'MovieIdx': 78368,\n",
       " 'MovieTitle': '',\n",
       " 'MovieGrade': {'Idx': 919, 'GradeText': '미정', 'StyleClassName': 'Notyet'},\n",
       " 'PosterImage': {'ThumbNailImage': 'https://img.cgv.co.kr/Movie/Thumbnail/Poster/000078/78368/78368_73.jpg',\n",
       "  'SmallImage': 'https://img.cgv.co.kr/Movie/Thumbnail/Poster/000078/78368/78368_126.jpg',\n",
       "  'MiddleImage': 'https://img.cgv.co.kr/Movie/Thumbnail/Poster/000078/78368/78368_185.jpg',\n",
       "  'LargeImage': 'https://img.cgv.co.kr/Movie/Thumbnail/Poster/000078/78368/78368_320.jpg',\n",
       "  'OrgImage': 'https://img.cgv.co.kr/Movie/Thumbnail/Poster/000078/78368/78368_1000.jpg'},\n",
       " 'IsMyGOOD': False,\n",
       " 'GOODCNT': 0,\n",
       " 'IsMySPOILER': False,\n",
       " 'SPOILERCNT': 0,\n",
       " 'IsMyREPORT': False,\n",
       " 'REPORTCNT': 0,\n",
       " 'withviewcnt': 0,\n",
       " 'withviewer': '',\n",
       " 'Genre_SMS1': None,\n",
       " 'EmotionYN': None,\n",
       " 'Emotion1': None,\n",
       " 'Emotion1Text': None,\n",
       " 'Emotion2': None,\n",
       " 'Emotion2Text': None,\n",
       " 'Emotion3': None,\n",
       " 'Emotion3Text': None,\n",
       " 'Emotion4': None,\n",
       " 'Emotion4Text': None,\n",
       " 'Emotion5': None,\n",
       " 'Emotion5Text': None}"
      ]
     },
     "execution_count": 48,
     "metadata": {},
     "output_type": "execute_result"
    }
   ],
   "source": [
    "response_data_tmp"
   ]
  },
  {
   "cell_type": "code",
   "execution_count": 49,
   "metadata": {},
   "outputs": [
    {
     "name": "stdout",
     "output_type": "stream",
     "text": [
      "6 6 6\n"
     ]
    }
   ],
   "source": [
    "comment_lst, regist_date_lst, user_id_lst = [], [], []\n",
    "for response_data_tmp in response_data_lst:\n",
    "    comment_txt = response_data_tmp.get(\"CommentText\")\n",
    "    regist_date_txt = response_data_tmp.get(\"RegistDate\")\n",
    "    user_id_txt = response_data_tmp.get(\"UserID\")\n",
    "    \n",
    "    comment_lst.append(comment_txt)\n",
    "    regist_date_lst.append(regist_date_txt)\n",
    "    user_id_lst.append(user_id_txt)\n",
    "    \n",
    "    \n",
    "print(len(comment_lst), len(regist_date_lst), len(user_id_lst))"
   ]
  }
 ],
 "metadata": {
  "kernelspec": {
   "display_name": "base",
   "language": "python",
   "name": "python3"
  },
  "language_info": {
   "codemirror_mode": {
    "name": "ipython",
    "version": 3
   },
   "file_extension": ".py",
   "mimetype": "text/x-python",
   "name": "python",
   "nbconvert_exporter": "python",
   "pygments_lexer": "ipython3",
   "version": "3.10.6"
  },
  "orig_nbformat": 4,
  "vscode": {
   "interpreter": {
    "hash": "2568b31422f911d240befaa5e46dd782c4cc23ae238e6e2196b9786beeefb2a9"
   }
  }
 },
 "nbformat": 4,
 "nbformat_minor": 2
}
