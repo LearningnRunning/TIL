{
 "cells": [
  {
   "cell_type": "code",
   "execution_count": null,
   "metadata": {},
   "outputs": [],
   "source": [
    "import requests\n",
    "\n",
    "headers = {\n",
    "    'Accept': 'application/json, text/javascript, */*; q=0.01',\n",
    "    'Accept-Language': 'ko-KR,ko;q=0.9,en-US;q=0.8,en;q=0.7,ja;q=0.6',\n",
    "    'Connection': 'keep-alive',\n",
    "    'Content-Type': 'application/json; charset=UTF-8',\n",
    "    # 'Cookie': 'ASP.NET_SessionId=ybonljq0zgzc4o40lrgv4z4n; WMONID=Z6-eKj-5pDX; CgvPopAd-movies=%uA250%uA253%uA25B%uA24F%uA24C%uA25B; _gid=GA1.3.619036711.1704283105; _gat_UA-47951671-5=1; _gat_UA-47951671-7=1; _gat_UA-47126437-1=1; _ga=GA1.1.139682969.1704092199; _ga_SSGE1ZCJKG=GS1.3.1704283105.2.0.1704283105.60.0.0; CgvCM=+hRIA0ETeRobimHkt3iXwNW2VH7MCwh0iVTxe8JjQWhd+REDACGrfYQ1utM2lhPHaH/z3YqbOoAePU+Latw3ITa5sz2/QiWaqoJkd5F087hA2Dfmwoyr+AgLNOTIAnMntX/5W9yU62VPwEQ9v1v3WFSp+Nuk/WWy2QJF8kycB9hqkt/uKJeVdiGOxyc27Er1GOZQdATcsY9GL2UBwogyx95Zqyp/sraRCJu2v11rC6m7ZHMEBVSli7u1BP2TKB3O; _ga_559DE9WSKZ=GS1.1.1704283105.3.0.1704283108.57.0.0',\n",
    "    'Origin': 'http://www.cgv.co.kr',\n",
    "    'Referer': 'http://www.cgv.co.kr/movies/detail-view/?midx=78368',\n",
    "    'User-Agent': 'Mozilla/5.0 (Macintosh; Intel Mac OS X 10_15_7) AppleWebKit/537.36 (KHTML, like Gecko) Chrome/120.0.0.0 Safari/537.36',\n",
    "    'X-Requested-With': 'XMLHttpRequest',\n",
    "}\n",
    "\n",
    "data = \"{ 'movieIdx': 78368, 'pageIndex': 1, 'pageSize': 6, 'orderType': 0, 'filterType': 1, 'isTotalCount' : false, 'isMyPoint' : 'false' }\"\n",
    "\n",
    "response = requests.post(\n",
    "    'http://www.cgv.co.kr/common/ajax/point.aspx/GetMoviePointVariableList',\n",
    "    headers=headers,\n",
    "    data=data,\n",
    "    verify=False,\n",
    ")\n",
    "\n",
    "print(response.status_code)"
   ]
  },
  {
   "cell_type": "code",
   "execution_count": 1,
   "metadata": {},
   "outputs": [
    {
     "name": "stdout",
     "output_type": "stream",
     "text": [
      "name:  김성록\n",
      "tmp:  저는 김성록입니다\n",
      "name:  최화준\n",
      "tmp:  저는 최화준입니다\n",
      "name:  이아름\n",
      "tmp:  저는 이아름입니다\n",
      "name:  김서우\n",
      "tmp:  저는 김서우입니다\n"
     ]
    }
   ],
   "source": [
    "names = [\"김성록\", \"최화준\", \"이아름\", \"김서우\"]\n",
    "for name in names:\n",
    "    print(\"name: \", name)\n",
    "    tmp = f\"저는 {name}입니다\"\n",
    "    print(\"tmp: \", tmp)"
   ]
  },
  {
   "cell_type": "code",
   "execution_count": 3,
   "metadata": {},
   "outputs": [
    {
     "name": "stdout",
     "output_type": "stream",
     "text": [
      "200\n",
      "6 6 6\n",
      "200\n",
      "6 6 6\n",
      "200\n",
      "6 6 6\n",
      "200\n",
      "6 6 6\n",
      "200\n",
      "6 6 6\n",
      "200\n",
      "6 6 6\n",
      "200\n",
      "6 6 6\n",
      "200\n",
      "6 6 6\n",
      "200\n",
      "6 6 6\n",
      "200\n",
      "6 6 6\n",
      "200\n",
      "6 6 6\n",
      "200\n",
      "6 6 6\n",
      "200\n",
      "6 6 6\n",
      "200\n",
      "6 6 6\n",
      "200\n",
      "6 6 6\n",
      "200\n",
      "6 6 6\n",
      "200\n",
      "6 6 6\n",
      "200\n",
      "6 6 6\n",
      "200\n",
      "6 6 6\n",
      "200\n",
      "6 6 6\n",
      "200\n",
      "6 6 6\n",
      "200\n",
      "6 6 6\n",
      "200\n",
      "6 6 6\n",
      "200\n",
      "6 6 6\n",
      "200\n",
      "6 6 6\n",
      "200\n",
      "6 6 6\n",
      "200\n",
      "6 6 6\n",
      "200\n",
      "6 6 6\n",
      "200\n",
      "6 6 6\n",
      "200\n",
      "6 6 6\n",
      "200\n",
      "6 6 6\n",
      "200\n",
      "6 6 6\n",
      "200\n",
      "6 6 6\n",
      "200\n",
      "6 6 6\n",
      "200\n",
      "6 6 6\n",
      "200\n",
      "6 6 6\n",
      "200\n",
      "6 6 6\n",
      "200\n",
      "6 6 6\n",
      "200\n",
      "6 6 6\n",
      "200\n",
      "6 6 6\n",
      "200\n",
      "6 6 6\n",
      "200\n",
      "6 6 6\n",
      "200\n",
      "6 6 6\n",
      "200\n",
      "6 6 6\n",
      "200\n",
      "6 6 6\n",
      "200\n",
      "6 6 6\n",
      "200\n",
      "6 6 6\n",
      "200\n",
      "6 6 6\n",
      "200\n",
      "6 6 6\n",
      "200\n",
      "6 6 6\n",
      "200\n",
      "6 6 6\n",
      "200\n",
      "6 6 6\n",
      "200\n",
      "6 6 6\n",
      "200\n",
      "6 6 6\n",
      "200\n",
      "6 6 6\n",
      "200\n",
      "6 6 6\n",
      "200\n",
      "6 6 6\n",
      "200\n",
      "6 6 6\n",
      "200\n",
      "6 6 6\n",
      "200\n",
      "6 6 6\n",
      "200\n",
      "6 6 6\n",
      "200\n",
      "6 6 6\n",
      "200\n",
      "6 6 6\n",
      "200\n",
      "6 6 6\n",
      "200\n",
      "6 6 6\n",
      "200\n",
      "6 6 6\n",
      "200\n",
      "6 6 6\n",
      "200\n",
      "6 6 6\n",
      "200\n",
      "6 6 6\n",
      "200\n",
      "6 6 6\n",
      "200\n",
      "6 6 6\n",
      "200\n",
      "6 6 6\n",
      "200\n",
      "6 6 6\n",
      "200\n",
      "6 6 6\n",
      "200\n",
      "6 6 6\n",
      "200\n",
      "6 6 6\n",
      "200\n",
      "6 6 6\n",
      "200\n",
      "6 6 6\n",
      "200\n",
      "6 6 6\n",
      "200\n",
      "6 6 6\n",
      "200\n",
      "6 6 6\n",
      "200\n",
      "6 6 6\n",
      "200\n",
      "6 6 6\n",
      "200\n",
      "6 6 6\n",
      "200\n",
      "6 6 6\n",
      "200\n",
      "6 6 6\n",
      "200\n",
      "6 6 6\n",
      "200\n",
      "6 6 6\n",
      "200\n",
      "6 6 6\n",
      "200\n",
      "6 6 6\n",
      "200\n",
      "6 6 6\n",
      "200\n",
      "6 6 6\n",
      "200\n",
      "6 6 6\n",
      "200\n",
      "6 6 6\n",
      "200\n",
      "6 6 6\n",
      "200\n",
      "6 6 6\n",
      "200\n",
      "6 6 6\n",
      "200\n",
      "6 6 6\n",
      "200\n",
      "6 6 6\n",
      "200\n",
      "6 6 6\n"
     ]
    }
   ],
   "source": [
    "import pandas as pd\n",
    "import requests\n",
    "import json\n",
    "headers = {\n",
    "    'Accept': 'application/json, text/javascript, */*; q=0.01',\n",
    "    'Accept-Language': 'ko-KR,ko;q=0.9,en-US;q=0.8,en;q=0.7,ja;q=0.6',\n",
    "    'Connection': 'keep-alive',\n",
    "    'Content-Type': 'application/json; charset=UTF-8',\n",
    "    # 'Cookie': 'ASP.NET_SessionId=ybonljq0zgzc4o40lrgv4z4n; WMONID=Z6-eKj-5pDX; CgvPopAd-movies=%uA250%uA253%uA25B%uA24F%uA24C%uA25B; _gid=GA1.3.619036711.1704283105; _gat_UA-47951671-5=1; _gat_UA-47951671-7=1; _gat_UA-47126437-1=1; _ga=GA1.1.139682969.1704092199; _ga_SSGE1ZCJKG=GS1.3.1704283105.2.0.1704283105.60.0.0; CgvCM=+hRIA0ETeRobimHkt3iXwNW2VH7MCwh0iVTxe8JjQWhd+REDACGrfYQ1utM2lhPHaH/z3YqbOoAePU+Latw3ITa5sz2/QiWaqoJkd5F087hA2Dfmwoyr+AgLNOTIAnMntX/5W9yU62VPwEQ9v1v3WFSp+Nuk/WWy2QJF8kycB9hqkt/uKJeVdiGOxyc27Er1GOZQdATcsY9GL2UBwogyx95Zqyp/sraRCJu2v11rC6m7ZHMEBVSli7u1BP2TKB3O; _ga_559DE9WSKZ=GS1.1.1704283105.3.0.1704283108.57.0.0',\n",
    "    'Origin': 'http://www.cgv.co.kr',\n",
    "    'Referer': 'http://www.cgv.co.kr/movies/detail-view/?midx=78368',\n",
    "    'User-Agent': 'Mozilla/5.0 (Macintosh; Intel Mac OS X 10_15_7) AppleWebKit/537.36 (KHTML, like Gecko) Chrome/120.0.0.0 Safari/537.36',\n",
    "    'X-Requested-With': 'XMLHttpRequest',\n",
    "}\n",
    "all_df = pd.DataFrame()\n",
    "\n",
    "# for idx in range(7682):\n",
    "flag = True\n",
    "idx = 1\n",
    "while True:\n",
    "    data = f\"{ 'movieIdx': 78368, 'pageIndex': {idx}, 'pageSize': 6, 'orderType': 0, 'filterType': 1, 'isTotalCount' : false, 'isMyPoint' : 'false' }\"\n",
    "\n",
    "    response = requests.post(\n",
    "        'http://www.cgv.co.kr/common/ajax/point.aspx/GetMoviePointVariableList',\n",
    "        headers=headers,\n",
    "        data=data,\n",
    "        verify=False,\n",
    "    )\n",
    "    \n",
    "    if response.status_code != 200:\n",
    "        # flag = False\n",
    "        break\n",
    "    \n",
    "    else:\n",
    "        print(response.status_code)\n",
    "        response_data = response.json()\n",
    "        response_data_d = json.loads(response_data['d'])\n",
    "        response_data_d.keys()\n",
    "        response_data_lst = response_data_d['List']\n",
    "\n",
    "        response_data_tmp = response_data_lst[0]\n",
    "        response_data_tmp.get(\"CommentText\")\n",
    "        response_data_tmp['CommentText']\n",
    "\n",
    "        comment_lst, regist_date_lst, user_id_lst = [], [], []\n",
    "        for response_data_tmp in response_data_lst:\n",
    "            comment_txt = response_data_tmp.get(\"CommentText\")\n",
    "            regist_date_txt = response_data_tmp.get(\"RegistDate\")\n",
    "            user_id_txt = response_data_tmp.get(\"UserID\")\n",
    "            \n",
    "            comment_lst.append(comment_txt)\n",
    "            regist_date_lst.append(regist_date_txt)\n",
    "            user_id_lst.append(user_id_txt)\n",
    "            \n",
    "        print(len(comment_lst), len(regist_date_lst), len(user_id_lst))\n",
    "        tmp_dict = {\n",
    "            \"user_id\" : user_id_lst,\n",
    "            \"review\" : comment_lst,\n",
    "            \"date\" : regist_date_lst\n",
    "        }\n",
    "        tmp_df = pd.DataFrame(tmp_dict)\n",
    "        all_df = pd.concat([all_df, tmp_df])\n",
    "        idx += 1\n",
    "    "
   ]
  },
  {
   "cell_type": "code",
   "execution_count": 5,
   "metadata": {},
   "outputs": [
    {
     "data": {
      "text/html": [
       "<div>\n",
       "<style scoped>\n",
       "    .dataframe tbody tr th:only-of-type {\n",
       "        vertical-align: middle;\n",
       "    }\n",
       "\n",
       "    .dataframe tbody tr th {\n",
       "        vertical-align: top;\n",
       "    }\n",
       "\n",
       "    .dataframe thead th {\n",
       "        text-align: right;\n",
       "    }\n",
       "</style>\n",
       "<table border=\"1\" class=\"dataframe\">\n",
       "  <thead>\n",
       "    <tr style=\"text-align: right;\">\n",
       "      <th></th>\n",
       "      <th>user_id</th>\n",
       "      <th>review</th>\n",
       "      <th>date</th>\n",
       "    </tr>\n",
       "  </thead>\n",
       "  <tbody>\n",
       "    <tr>\n",
       "      <th>0</th>\n",
       "      <td>fJVlVCsOpMKHKW3He1hgfA==</td>\n",
       "      <td>좋은 영화 만들어주셔서 감사해요. 잘 감상했습니다. 엄지척!</td>\n",
       "      <td>2023.06.16</td>\n",
       "    </tr>\n",
       "    <tr>\n",
       "      <th>1</th>\n",
       "      <td>mc+nHB6TtZmdtcnVojONSA==</td>\n",
       "      <td>아 연기진짜 잘하시구 스토리좋네요</td>\n",
       "      <td>2023.05.29</td>\n",
       "    </tr>\n",
       "    <tr>\n",
       "      <th>2</th>\n",
       "      <td>vq5bUE/s2N6I6EY3sAXhBw==</td>\n",
       "      <td>인턴 재미있게봤어요..</td>\n",
       "      <td>2023.05.18</td>\n",
       "    </tr>\n",
       "    <tr>\n",
       "      <th>3</th>\n",
       "      <td>EOpQ1CPUrhIB4d+JWBNZlA==</td>\n",
       "      <td>ccfrggbggvgg</td>\n",
       "      <td>2023.04.17</td>\n",
       "    </tr>\n",
       "    <tr>\n",
       "      <th>4</th>\n",
       "      <td>gY3+PUn5FVJSPjKhGer2tA==</td>\n",
       "      <td>재밌었어요. 최고에요. 굿</td>\n",
       "      <td>2023.03.30</td>\n",
       "    </tr>\n",
       "    <tr>\n",
       "      <th>5</th>\n",
       "      <td>mPWeSFtRS2R1pyiSCameHw==</td>\n",
       "      <td>한번쯤 ceo가 되고 싶은 내 판타지를 충족 시켜준 영화.. 지혜로운 할아버지 인턴...</td>\n",
       "      <td>2023.03.16</td>\n",
       "    </tr>\n",
       "  </tbody>\n",
       "</table>\n",
       "</div>"
      ],
      "text/plain": [
       "                    user_id  \\\n",
       "0  fJVlVCsOpMKHKW3He1hgfA==   \n",
       "1  mc+nHB6TtZmdtcnVojONSA==   \n",
       "2  vq5bUE/s2N6I6EY3sAXhBw==   \n",
       "3  EOpQ1CPUrhIB4d+JWBNZlA==   \n",
       "4  gY3+PUn5FVJSPjKhGer2tA==   \n",
       "5  mPWeSFtRS2R1pyiSCameHw==   \n",
       "\n",
       "                                              review        date  \n",
       "0                  좋은 영화 만들어주셔서 감사해요. 잘 감상했습니다. 엄지척!  2023.06.16  \n",
       "1                                 아 연기진짜 잘하시구 스토리좋네요  2023.05.29  \n",
       "2                                       인턴 재미있게봤어요..  2023.05.18  \n",
       "3                                       ccfrggbggvgg  2023.04.17  \n",
       "4                                     재밌었어요. 최고에요. 굿  2023.03.30  \n",
       "5  한번쯤 ceo가 되고 싶은 내 판타지를 충족 시켜준 영화.. 지혜로운 할아버지 인턴...  2023.03.16  "
      ]
     },
     "execution_count": 5,
     "metadata": {},
     "output_type": "execute_result"
    }
   ],
   "source": [
    "tmp_df"
   ]
  },
  {
   "cell_type": "code",
   "execution_count": 8,
   "metadata": {},
   "outputs": [
    {
     "data": {
      "text/html": [
       "<div>\n",
       "<style scoped>\n",
       "    .dataframe tbody tr th:only-of-type {\n",
       "        vertical-align: middle;\n",
       "    }\n",
       "\n",
       "    .dataframe tbody tr th {\n",
       "        vertical-align: top;\n",
       "    }\n",
       "\n",
       "    .dataframe thead th {\n",
       "        text-align: right;\n",
       "    }\n",
       "</style>\n",
       "<table border=\"1\" class=\"dataframe\">\n",
       "  <thead>\n",
       "    <tr style=\"text-align: right;\">\n",
       "      <th></th>\n",
       "      <th>index</th>\n",
       "      <th>user_id</th>\n",
       "      <th>review</th>\n",
       "      <th>date</th>\n",
       "    </tr>\n",
       "  </thead>\n",
       "  <tbody>\n",
       "    <tr>\n",
       "      <th>0</th>\n",
       "      <td>0</td>\n",
       "      <td>fJVlVCsOpMKHKW3He1hgfA==</td>\n",
       "      <td>좋은 영화 만들어주셔서 감사해요. 잘 감상했습니다. 엄지척!</td>\n",
       "      <td>2023.06.16</td>\n",
       "    </tr>\n",
       "    <tr>\n",
       "      <th>1</th>\n",
       "      <td>1</td>\n",
       "      <td>mc+nHB6TtZmdtcnVojONSA==</td>\n",
       "      <td>아 연기진짜 잘하시구 스토리좋네요</td>\n",
       "      <td>2023.05.29</td>\n",
       "    </tr>\n",
       "    <tr>\n",
       "      <th>2</th>\n",
       "      <td>2</td>\n",
       "      <td>vq5bUE/s2N6I6EY3sAXhBw==</td>\n",
       "      <td>인턴 재미있게봤어요..</td>\n",
       "      <td>2023.05.18</td>\n",
       "    </tr>\n",
       "    <tr>\n",
       "      <th>3</th>\n",
       "      <td>3</td>\n",
       "      <td>EOpQ1CPUrhIB4d+JWBNZlA==</td>\n",
       "      <td>ccfrggbggvgg</td>\n",
       "      <td>2023.04.17</td>\n",
       "    </tr>\n",
       "    <tr>\n",
       "      <th>4</th>\n",
       "      <td>4</td>\n",
       "      <td>gY3+PUn5FVJSPjKhGer2tA==</td>\n",
       "      <td>재밌었어요. 최고에요. 굿</td>\n",
       "      <td>2023.03.30</td>\n",
       "    </tr>\n",
       "    <tr>\n",
       "      <th>...</th>\n",
       "      <td>...</td>\n",
       "      <td>...</td>\n",
       "      <td>...</td>\n",
       "      <td>...</td>\n",
       "    </tr>\n",
       "    <tr>\n",
       "      <th>595</th>\n",
       "      <td>1</td>\n",
       "      <td>mc+nHB6TtZmdtcnVojONSA==</td>\n",
       "      <td>아 연기진짜 잘하시구 스토리좋네요</td>\n",
       "      <td>2023.05.29</td>\n",
       "    </tr>\n",
       "    <tr>\n",
       "      <th>596</th>\n",
       "      <td>2</td>\n",
       "      <td>vq5bUE/s2N6I6EY3sAXhBw==</td>\n",
       "      <td>인턴 재미있게봤어요..</td>\n",
       "      <td>2023.05.18</td>\n",
       "    </tr>\n",
       "    <tr>\n",
       "      <th>597</th>\n",
       "      <td>3</td>\n",
       "      <td>EOpQ1CPUrhIB4d+JWBNZlA==</td>\n",
       "      <td>ccfrggbggvgg</td>\n",
       "      <td>2023.04.17</td>\n",
       "    </tr>\n",
       "    <tr>\n",
       "      <th>598</th>\n",
       "      <td>4</td>\n",
       "      <td>gY3+PUn5FVJSPjKhGer2tA==</td>\n",
       "      <td>재밌었어요. 최고에요. 굿</td>\n",
       "      <td>2023.03.30</td>\n",
       "    </tr>\n",
       "    <tr>\n",
       "      <th>599</th>\n",
       "      <td>5</td>\n",
       "      <td>mPWeSFtRS2R1pyiSCameHw==</td>\n",
       "      <td>한번쯤 ceo가 되고 싶은 내 판타지를 충족 시켜준 영화.. 지혜로운 할아버지 인턴...</td>\n",
       "      <td>2023.03.16</td>\n",
       "    </tr>\n",
       "  </tbody>\n",
       "</table>\n",
       "<p>600 rows × 4 columns</p>\n",
       "</div>"
      ],
      "text/plain": [
       "     index                   user_id  \\\n",
       "0        0  fJVlVCsOpMKHKW3He1hgfA==   \n",
       "1        1  mc+nHB6TtZmdtcnVojONSA==   \n",
       "2        2  vq5bUE/s2N6I6EY3sAXhBw==   \n",
       "3        3  EOpQ1CPUrhIB4d+JWBNZlA==   \n",
       "4        4  gY3+PUn5FVJSPjKhGer2tA==   \n",
       "..     ...                       ...   \n",
       "595      1  mc+nHB6TtZmdtcnVojONSA==   \n",
       "596      2  vq5bUE/s2N6I6EY3sAXhBw==   \n",
       "597      3  EOpQ1CPUrhIB4d+JWBNZlA==   \n",
       "598      4  gY3+PUn5FVJSPjKhGer2tA==   \n",
       "599      5  mPWeSFtRS2R1pyiSCameHw==   \n",
       "\n",
       "                                                review        date  \n",
       "0                    좋은 영화 만들어주셔서 감사해요. 잘 감상했습니다. 엄지척!  2023.06.16  \n",
       "1                                   아 연기진짜 잘하시구 스토리좋네요  2023.05.29  \n",
       "2                                         인턴 재미있게봤어요..  2023.05.18  \n",
       "3                                         ccfrggbggvgg  2023.04.17  \n",
       "4                                       재밌었어요. 최고에요. 굿  2023.03.30  \n",
       "..                                                 ...         ...  \n",
       "595                                 아 연기진짜 잘하시구 스토리좋네요  2023.05.29  \n",
       "596                                       인턴 재미있게봤어요..  2023.05.18  \n",
       "597                                       ccfrggbggvgg  2023.04.17  \n",
       "598                                     재밌었어요. 최고에요. 굿  2023.03.30  \n",
       "599  한번쯤 ceo가 되고 싶은 내 판타지를 충족 시켜준 영화.. 지혜로운 할아버지 인턴...  2023.03.16  \n",
       "\n",
       "[600 rows x 4 columns]"
      ]
     },
     "execution_count": 8,
     "metadata": {},
     "output_type": "execute_result"
    }
   ],
   "source": [
    "all_df.reset_index()"
   ]
  },
  {
   "cell_type": "code",
   "execution_count": null,
   "metadata": {},
   "outputs": [],
   "source": []
  },
  {
   "cell_type": "code",
   "execution_count": null,
   "metadata": {},
   "outputs": [],
   "source": []
  },
  {
   "cell_type": "code",
   "execution_count": null,
   "metadata": {},
   "outputs": [],
   "source": []
  },
  {
   "cell_type": "code",
   "execution_count": null,
   "metadata": {},
   "outputs": [],
   "source": [
    "comment_lst, regist_date_lst, user_id_lst = [], [], []\n",
    "for response_data_tmp in response_data_lst:\n",
    "    comment_txt = response_data_tmp.get(\"CommentText\")\n",
    "    regist_date_txt = response_data_tmp.get(\"RegistDate\")\n",
    "    user_id_txt = response_data_tmp.get(\"UserID\")\n",
    "    \n",
    "    comment_lst.append(comment_txt)\n",
    "    regist_date_lst.append(regist_date_txt)\n",
    "    user_id_lst.append(user_id_txt)\n",
    "    \n",
    "    \n",
    "print(len(comment_lst), len(regist_date_lst), len(user_id_lst))"
   ]
  },
  {
   "cell_type": "code",
   "execution_count": 27,
   "metadata": {},
   "outputs": [
    {
     "name": "stdout",
     "output_type": "stream",
     "text": [
      "<class 'dict'>\n"
     ]
    },
    {
     "data": {
      "text/plain": [
       "dict_keys(['d'])"
      ]
     },
     "execution_count": 27,
     "metadata": {},
     "output_type": "execute_result"
    }
   ],
   "source": [
    "response_data = response.json()\n",
    "print(type(response_data))\n",
    "\n",
    "\n",
    "response_data.keys()"
   ]
  },
  {
   "cell_type": "code",
   "execution_count": 30,
   "metadata": {},
   "outputs": [
    {
     "data": {
      "text/plain": [
       "dict_keys(['d'])"
      ]
     },
     "execution_count": 30,
     "metadata": {},
     "output_type": "execute_result"
    }
   ],
   "source": [
    "response_data.keys()"
   ]
  },
  {
   "cell_type": "code",
   "execution_count": 40,
   "metadata": {},
   "outputs": [
    {
     "data": {
      "text/plain": [
       "dict_keys(['TotalCount', 'List'])"
      ]
     },
     "execution_count": 40,
     "metadata": {},
     "output_type": "execute_result"
    }
   ],
   "source": [
    "import json\n",
    "response_data_d = json.loads(response_data['d'])\n",
    "response_data_d.keys()\n",
    "response_data_lst = response_data_d['List']\n",
    "\n",
    "response_data_tmp = response_data_lst[0]\n",
    "response_data_tmp.get(\"CommentText\")\n",
    "response_data_tmp['CommentText']\n"
   ]
  },
  {
   "cell_type": "code",
   "execution_count": 47,
   "metadata": {},
   "outputs": [
    {
     "data": {
      "text/plain": [
       "'좋은 영화 만들어주셔서 감사해요. 잘 감상했습니다. 엄지척!'"
      ]
     },
     "execution_count": 47,
     "metadata": {},
     "output_type": "execute_result"
    }
   ],
   "source": [
    "response_data_lst = response_data_d['List']\n",
    "\n",
    "response_data_tmp = response_data_lst[0]\n",
    "response_data_tmp.get(\"CommentText\")\n",
    "response_data_tmp['CommentText']\n"
   ]
  },
  {
   "attachments": {},
   "cell_type": "markdown",
   "metadata": {},
   "source": [
    "## key를 불러오는 방식"
   ]
  },
  {
   "cell_type": "code",
   "execution_count": 52,
   "metadata": {},
   "outputs": [
    {
     "data": {
      "text/plain": [
       "'한번쯤 ceo가 되고 싶은 내 판타지를 충족 시켜준 영화.. 지혜로운 할아버지 인턴이 가능한 미국과 우리 나라에서는 글쎄 현실적으로 가능할까.. ?'"
      ]
     },
     "execution_count": 52,
     "metadata": {},
     "output_type": "execute_result"
    }
   ],
   "source": [
    "response_data_tmp['CommentText']"
   ]
  },
  {
   "cell_type": "code",
   "execution_count": 53,
   "metadata": {},
   "outputs": [
    {
     "data": {
      "text/plain": [
       "'한번쯤 ceo가 되고 싶은 내 판타지를 충족 시켜준 영화.. 지혜로운 할아버지 인턴이 가능한 미국과 우리 나라에서는 글쎄 현실적으로 가능할까.. ?'"
      ]
     },
     "execution_count": 53,
     "metadata": {},
     "output_type": "execute_result"
    }
   ],
   "source": [
    "response_data_tmp.get(\"CommentText\")"
   ]
  },
  {
   "attachments": {},
   "cell_type": "markdown",
   "metadata": {},
   "source": [
    "## 파싱"
   ]
  },
  {
   "cell_type": "code",
   "execution_count": 48,
   "metadata": {},
   "outputs": [
    {
     "data": {
      "text/plain": [
       "{'CommentIdx': 34357243,\n",
       " 'CommentTypeCode': 524,\n",
       " 'Point': 0,\n",
       " 'CommentText': '좋은 영화 만들어주셔서 감사해요. 잘 감상했습니다. 엄지척!',\n",
       " 'UserID': 'fJVlVCsOpMKHKW3He1hgfA==',\n",
       " 'RegistUser': 'fJVlVCsOpMKHKW3He1hgfA==',\n",
       " 'NickName': None,\n",
       " 'UserImage': '',\n",
       " 'UserSmallImage': '',\n",
       " 'RegistDate': '2023.06.16',\n",
       " 'EggPoint': 2,\n",
       " 'IsVIP': 'N',\n",
       " 'PollCharming': 'N',\n",
       " 'Acting': None,\n",
       " 'Story': None,\n",
       " 'Visual': None,\n",
       " 'OST': None,\n",
       " 'Effect': None,\n",
       " 'MediaTypeCode': '411^',\n",
       " 'UserIdNicName': 'di**nme',\n",
       " 'IsMine': False,\n",
       " 'IsViewer': True,\n",
       " 'IsShowView': True,\n",
       " 'IsNormal': False,\n",
       " 'IsMobile': False,\n",
       " 'MovieIdx': 78368,\n",
       " 'MovieTitle': '',\n",
       " 'MovieGrade': {'Idx': 919, 'GradeText': '미정', 'StyleClassName': 'Notyet'},\n",
       " 'PosterImage': {'ThumbNailImage': 'https://img.cgv.co.kr/Movie/Thumbnail/Poster/000078/78368/78368_73.jpg',\n",
       "  'SmallImage': 'https://img.cgv.co.kr/Movie/Thumbnail/Poster/000078/78368/78368_126.jpg',\n",
       "  'MiddleImage': 'https://img.cgv.co.kr/Movie/Thumbnail/Poster/000078/78368/78368_185.jpg',\n",
       "  'LargeImage': 'https://img.cgv.co.kr/Movie/Thumbnail/Poster/000078/78368/78368_320.jpg',\n",
       "  'OrgImage': 'https://img.cgv.co.kr/Movie/Thumbnail/Poster/000078/78368/78368_1000.jpg'},\n",
       " 'IsMyGOOD': False,\n",
       " 'GOODCNT': 0,\n",
       " 'IsMySPOILER': False,\n",
       " 'SPOILERCNT': 0,\n",
       " 'IsMyREPORT': False,\n",
       " 'REPORTCNT': 0,\n",
       " 'withviewcnt': 0,\n",
       " 'withviewer': '',\n",
       " 'Genre_SMS1': None,\n",
       " 'EmotionYN': None,\n",
       " 'Emotion1': None,\n",
       " 'Emotion1Text': None,\n",
       " 'Emotion2': None,\n",
       " 'Emotion2Text': None,\n",
       " 'Emotion3': None,\n",
       " 'Emotion3Text': None,\n",
       " 'Emotion4': None,\n",
       " 'Emotion4Text': None,\n",
       " 'Emotion5': None,\n",
       " 'Emotion5Text': None}"
      ]
     },
     "execution_count": 48,
     "metadata": {},
     "output_type": "execute_result"
    }
   ],
   "source": [
    "response_data_tmp"
   ]
  },
  {
   "cell_type": "code",
   "execution_count": 49,
   "metadata": {},
   "outputs": [
    {
     "name": "stdout",
     "output_type": "stream",
     "text": [
      "6 6 6\n"
     ]
    }
   ],
   "source": [
    "comment_lst, regist_date_lst, user_id_lst = [], [], []\n",
    "for response_data_tmp in response_data_lst:\n",
    "    comment_txt = response_data_tmp.get(\"CommentText\")\n",
    "    regist_date_txt = response_data_tmp.get(\"RegistDate\")\n",
    "    user_id_txt = response_data_tmp.get(\"UserID\")\n",
    "    \n",
    "    comment_lst.append(comment_txt)\n",
    "    regist_date_lst.append(regist_date_txt)\n",
    "    user_id_lst.append(user_id_txt)\n",
    "    \n",
    "    \n",
    "print(len(comment_lst), len(regist_date_lst), len(user_id_lst))"
   ]
  },
  {
   "attachments": {},
   "cell_type": "markdown",
   "metadata": {},
   "source": [
    "## IMDB"
   ]
  },
  {
   "cell_type": "code",
   "execution_count": 55,
   "metadata": {},
   "outputs": [
    {
     "data": {
      "text/plain": [
       "200"
      ]
     },
     "execution_count": 55,
     "metadata": {},
     "output_type": "execute_result"
    }
   ],
   "source": [
    "import requests\n",
    "\n",
    "\n",
    "headers = {\n",
    "    'authority': 'www.imdb.com',\n",
    "    'accept-language': 'ko-KR,ko;q=0.9,en-US;q=0.8,en;q=0.7,ja;q=0.6',\n",
    "    # 'cookie': 'uu=eyJpZCI6InV1MDdmMDEwNGUyNDVmNDEzZmFkZmMiLCJwcmVmZXJlbmNlcyI6eyJmaW5kX2luY2x1ZGVfYWR1bHQiOmZhbHNlfX0=; session-id=131-3734000-8768927; ubid-main=130-5494730-0150857; session-id-time=2082787201l; ci=e30; ad-oo=0; as=%7B%22n%22%3A%7B%22t%22%3A%5B0%2C0%5D%2C%22in%22%3A%5B0%2C0%5D%2C%22ib%22%3A%5B0%2C0%5D%7D%7D; session-token=Qn9QDHi7yuhjDtRPmi0L8X/B4JYzv/8VqSO6ig88X8TcsljLo97CE03dJwibNTG4N1bEn2mzGnUbW88YgjPAaLk06nI/OFd8Bizc2ifsCZUZoKUM3pGG4a43xfQt8s1JkLlyiZeCMC1VclyA1p0uji5m2Dt29BxnfiMJXi0hBBZt/vTgCbNRZ5vufan02xK2KpVcbzhIjSnkDYtYCx2Ai5j0e4AwbOY04TK23bydRnPa7EMPT559fcdDby79gwXjs1L0kEUgASQ5B0SrNSDvSXEXl/LeahJedBuUdoFLG56zSaoR+/NI3Ah3SM/Gl4EV4zr8GYiliUkR3Rt5lStvHkqF/UVj19wU; csm-hit=tb:s-VRNFBK8NG1KM0TKZJY8D|1704331570543&t:1704331571541&adb:adblk_no',\n",
    "    'referer': 'https://www.imdb.com/title/tt2361509/reviews?ref_=tt_urv',\n",
    "    'user-agent': 'Mozilla/5.0 (Macintosh; Intel Mac OS X 10_15_7) AppleWebKit/537.36 (KHTML, like Gecko) Chrome/120.0.0.0 Safari/537.36',\n",
    "}\n",
    "\n",
    "params = {\n",
    "    'ref_': 'undefined',\n",
    "    'paginationKey': 'g4w6ddbmqyzdo6ic4oxwjnbwqls44azy34ptt7hmale7uud5pjt6udsypa4frnznb4d43j2yrrfba42n3uowhpmezwule',\n",
    "}\n",
    "\n",
    "response = requests.get('https://www.imdb.com/title/tt2361509/reviews/_ajax', params=params, headers=headers)\n",
    "\n",
    "response.status_code"
   ]
  },
  {
   "cell_type": "code",
   "execution_count": 56,
   "metadata": {},
   "outputs": [
    {
     "data": {
      "text/plain": [
       "'\\t<div>\\n    <div class=\"lister-list\">\\n<div class=\"lister-item mode-detail imdb-user-review  collapsable\" data-review-id=\"rw3695560\" data-vote-url=\"/title/tt2361509/review/rw3695560/vote/interesting\">\\n    <div class=\"review-container\">\\n        <div class=\"lister-item-content\">\\n    <div class=\"ipl-ratings-bar\">\\n            <span class=\"rating-other-user-rating\">\\n            <svg class=\"ipl-icon ipl-star-icon  \" xmlns=\"http://www.w3.org/2000/svg\" fill=\"#000000\" height=\"24\" viewBox=\"0 0 24 24\" width=\"24\">\\n                <path d=\"M0 0h24v24H0z\" fill=\"none\"/>\\n                <path d=\"M12 17.27L18.18 21l-1.64-7.03L22 9.24l-7.19-.61L12 2 9.19 8.63 2 9.24l5.46 4.73L5.82 21z\"/>\\n                <path d=\"M0 0h24v24H0z\" fill=\"none\"/>\\n            </svg>\\n                <span>7</span><span class=\"point-scale\">/10</span>\\n            </span>\\n    </div>\\n<a href=\"/review/rw3695560/?ref_=tt_urv\"\\nclass=\"title\" > A surprisingly nice movie...\\n</a>            <div class=\"display-name-date\">\\n                    <span class=\"display-name-link\"><a href=\"/user/ur22654354/?ref_=tt_urv\"\\n>paul_haakonsen</a></span><span class=\"review-date\">28 April 2017</span>\\n            </div>\\n            <div class=\"content\">\\n                <div class=\"text show-more__control\">&quot;The Intern&quot; turned out to be a rather nice surprise of a movie, especially because it was a really good story, and it was helped along quite nicely with some impressive acting performances.<br/><br/>The story told in &quot;The Intern&quot; is about elderly citizen Ben Whitaker (played by Robert De Niro), a widower who keeps himself busy as retirement proved to be not his thing. And one day he signs up for an internship for the elderly at an online fashion company.<br/><br/>What worked out in &quot;The Intern&quot; was the storyline and the absurdity of the situation. It is a story that was quite original and funny. But also the very impressive cast that they had gotten together for participating in the movie. Robert De Niro really carried the movie quite nicely and Anne Hathaway also held her own quite nicely here.<br/><br/>There was a great combination of comedy and storytelling in &quot;The Intern&quot;, so writer and director Nancy Meyers really managed to create something memorable and unique here, proving her talent for telling an outstanding story with outstanding characters.<br/><br/>&quot;The Intern&quot; is one of the better Robert De Niro movies in a while, and if you are a fan of him then you should definitely check out &quot;The Intern&quot;, if you haven&#39;t already done so. I was more than genuinely entertained by this movie and it turned out to be a rather good and heartfelt movie. It is the kind of story that sinks in deep and Sticks with you for a long, long time.</div>\\n                <div class=\"actions text-muted\">\\n                    6 out of 9 found this helpful.\\n                        <span>\\n                            Was this review helpful? <a href=\"/registration/signin?ref_=urv\"\\n> Sign in</a> to vote.\\n                        </span>\\n                        <br/>\\n                    <a href=\"/review/rw3695560/?ref_=tt_urv\"\\n>Permalink</a>\\n                </div>\\n            </div>\\n        </div>\\n        <div class=\"clear\"></div>\\n    </div>\\n    <div class=\"gradient-expander hidden show-more\">\\n        <div class=\"gradient-container show-more__control\"></div>\\n            <div class=\"gradient-footer\">\\n    <div class=\"ipl-expander \">\\n        <div class=\"ipl-expander__container\">\\n            <div class=\"expander-icon-wrapper show-more__control\">\\n                <svg class=\"ipl-expander__icon expander-icon \" width=\"12\" height=\"8\" viewBox=\"0 0 12 8\" xmlns=\"http://www.w3.org/2000/svg\">\\n                     <path d=\"M10.197 0L6 4.304 1.803 0 0 1.85 6 8l6-6.15\" fill=\"#2572B3\" fill-rule=\"evenodd\"/>\\n                </svg>\\n            </div>\\n        </div>\\n    </div>\\n            </div>\\n    </div>\\n</div>\\n<div class=\"lister-item mode-detail imdb-user-review  collapsable\" data-review-id=\"rw3836799\" data-vote-url=\"/title/tt2361509/review/rw3836799/vote/interesting\">\\n    <div class=\"review-container\">\\n        <div class=\"lister-item-content\">\\n    <div class=\"ipl-ratings-bar\">\\n            <span class=\"rating-other-user-rating\">\\n            <svg class=\"ipl-icon ipl-star-icon  \" xmlns=\"http://www.w3.org/2000/svg\" fill=\"#000000\" height=\"24\" viewBox=\"0 0 24 24\" width=\"24\">\\n                <path d=\"M0 0h24v24H0z\" fill=\"none\"/>\\n                <path d=\"M12 17.27L18.18 21l-1.64-7.03L22 9.24l-7.19-.61L12 2 9.19 8.63 2 9.24l5.46 4.73L5.82 21z\"/>\\n                <path d=\"M0 0h24v24H0z\" fill=\"none\"/>\\n            </svg>\\n                <span>9</span><span class=\"point-scale\">/10</span>\\n            </span>\\n    </div>\\n<a href=\"/review/rw3836799/?ref_=tt_urv\"\\nclass=\"title\" > a delight through and through\\n</a>            <div class=\"display-name-date\">\\n                    <span class=\"display-name-link\"><a href=\"/user/ur0342623/?ref_=tt_urv\"\\n>blanche-2</a></span><span class=\"review-date\">20 October 2017</span>\\n            </div>\\n            <div class=\"content\">\\n                <div class=\"text show-more__control\">Robert De Niro is &quot;The Intern&quot; in this 2015 film starring Anne Hathaway, Rene Russo, and Anders Holm.<br/><br/>De Niro plays a widower, Ben, who isn&#39;t satisfied with retirement and applies to be a senior intern in a successful Internet company, About the Fit, run by Jules Osnin (Hathaway), its founder.<br/><br/>The very busy and distracted Jules doesn&#39;t remember even sanctioning a program for senior citizens and doesn&#39;t want her new intern. She has taken all the responsibilities of the firm on herself - it&#39;s her baby and she nurtures it. <br/><br/>In the beginning, she has nothing for Ben to do. However, that changes when he becomes her driver, cleans off the junk pile desk that drives her crazy, and proves himself the most popular guy in the office. When she is faced with marital problems, guilt over having a stay at home husband and her long work hours, and thinks the answer might be hiring a CEO, Ben is there with support and sage advice. He&#39;s also there for the beautiful in-house masseuse, Fiona, who has taken a shine to him, and vice versa.<br/><br/>This is a sweet story about what different generations can give to one another, as the kids in the office seek advice from Ben, and they teach him how to navigate the computer. They see a man who wears a suit and carries a handkerchief but has amazing wisdom and business smarts. He teaches them about showing respect - in one scene, one of the workers has to deliver something to Jay Z, and Ben advises him to put on a different shirt and comb his hair. In one hilarious scene, Jules realizes she has sent the wrong email to her mother (one in which she refers to her mother as a terrorist), and Ben leads the reconnaissance mission to delete the email.<br/><br/>Robert De Niro and Anne Hathaway are fantastic with great chemistry. Jules&#39; daughter is played by JoJo Kushner, a gorgeous child. As Jules&#39; husband, Anders Holm can show different feelings just by his facial expression. The company workers - Andrew Rannells, Adam Devine, Christine Scherer and others are terrific.<br/><br/>This isn&#39;t a film about culture clash so much as culture melding. There is a Dutch nursing home that offers free rent to students to live there. The result is wonderful. How I wish there were more intergenerational programs like this. The old are like fine wine - it&#39;s time to uncork them.<br/><br/>Loved this movie.</div>\\n                <div class=\"actions text-muted\">\\n                    6 out of 9 found this helpful.\\n                        <span>\\n                            Was this review helpful? <a href=\"/registration/signin?ref_=urv\"\\n> Sign in</a> to vote.\\n                        </span>\\n                        <br/>\\n                    <a href=\"/review/rw3836799/?ref_=tt_urv\"\\n>Permalink</a>\\n                </div>\\n            </div>\\n        </div>\\n        <div class=\"clear\"></div>\\n    </div>\\n    <div class=\"gradient-expander hidden show-more\">\\n        <div class=\"gradient-container show-more__control\"></div>\\n            <div class=\"gradient-footer\">\\n    <div class=\"ipl-expander \">\\n        <div class=\"ipl-expander__container\">\\n            <div class=\"expander-icon-wrapper show-more__control\">\\n                <svg class=\"ipl-expander__icon expander-icon \" width=\"12\" height=\"8\" viewBox=\"0 0 12 8\" xmlns=\"http://www.w3.org/2000/svg\">\\n                     <path d=\"M10.197 0L6 4.304 1.803 0 0 1.85 6 8l6-6.15\" fill=\"#2572B3\" fill-rule=\"evenodd\"/>\\n                </svg>\\n            </div>\\n        </div>\\n    </div>\\n            </div>\\n    </div>\\n</div>\\n<div class=\"lister-item mode-detail imdb-user-review  collapsable\" data-review-id=\"rw3322935\" data-vote-url=\"/title/tt2361509/review/rw3322935/vote/interesting\">\\n    <div class=\"review-container\">\\n        <div class=\"lister-item-content\">\\n    <div class=\"ipl-ratings-bar\">\\n            <span class=\"rating-other-user-rating\">\\n            <svg class=\"ipl-icon ipl-star-icon  \" xmlns=\"http://www.w3.org/2000/svg\" fill=\"#000000\" height=\"24\" viewBox=\"0 0 24 24\" width=\"24\">\\n                <path d=\"M0 0h24v24H0z\" fill=\"none\"/>\\n                <path d=\"M12 17.27L18.18 21l-1.64-7.03L22 9.24l-7.19-.61L12 2 9.19 8.63 2 9.24l5.46 4.73L5.82 21z\"/>\\n                <path d=\"M0 0h24v24H0z\" fill=\"none\"/>\\n            </svg>\\n                <span>10</span><span class=\"point-scale\">/10</span>\\n            </span>\\n    </div>\\n<a href=\"/review/rw3322935/?ref_=tt_urv\"\\nclass=\"title\" > Excellent.\\n</a>            <div class=\"display-name-date\">\\n                    <span class=\"display-name-link\"><a href=\"/user/ur62823742/?ref_=tt_urv\"\\n>alexdmtr</a></span><span class=\"review-date\">24 September 2015</span>\\n            </div>\\n            <div class=\"content\">\\n                <div class=\"text show-more__control\">I saw the trailer for &#39;The Intern&#39; sometime ago, advertised before &#39;Spy (2015)&#39;. I liked the premise and the two lead actors, so today (the premiere in Romania) I had to watch it.<br/><br/>I expected a fun, neat comedy but what I experienced was so much more: a great plot, brilliantly executed and acted. The jokes and fun parts were on point, and the world the movie created felt very authentic, immersive and a joy to watch on the big screen - this was helped by amazing costuming and cinematography.<br/><br/>The entire cast had very strong chemistry between them, and both Hathaway and De Niro were wonderful.<br/><br/>Overall an awesome, heartwarming movie. I walked out of the movie theater with a smile.</div>\\n                <div class=\"actions text-muted\">\\n                    282 out of 383 found this helpful.\\n                        <span>\\n                            Was this review helpful? <a href=\"/registration/signin?ref_=urv\"\\n> Sign in</a> to vote.\\n                        </span>\\n                        <br/>\\n                    <a href=\"/review/rw3322935/?ref_=tt_urv\"\\n>Permalink</a>\\n                </div>\\n            </div>\\n        </div>\\n        <div class=\"clear\"></div>\\n    </div>\\n    <div class=\"gradient-expander hidden show-more\">\\n        <div class=\"gradient-container show-more__control\"></div>\\n            <div class=\"gradient-footer\">\\n    <div class=\"ipl-expander \">\\n        <div class=\"ipl-expander__container\">\\n            <div class=\"expander-icon-wrapper show-more__control\">\\n                <svg class=\"ipl-expander__icon expander-icon \" width=\"12\" height=\"8\" viewBox=\"0 0 12 8\" xmlns=\"http://www.w3.org/2000/svg\">\\n                     <path d=\"M10.197 0L6 4.304 1.803 0 0 1.85 6 8l6-6.15\" fill=\"#2572B3\" fill-rule=\"evenodd\"/>\\n                </svg>\\n            </div>\\n        </div>\\n    </div>\\n            </div>\\n    </div>\\n</div>\\n<div class=\"lister-item mode-detail imdb-user-review  collapsable\" data-review-id=\"rw3318909\" data-vote-url=\"/title/tt2361509/review/rw3318909/vote/interesting\">\\n    <div class=\"review-container\">\\n        <div class=\"lister-item-content\">\\n    <div class=\"ipl-ratings-bar\">\\n            <span class=\"rating-other-user-rating\">\\n            <svg class=\"ipl-icon ipl-star-icon  \" xmlns=\"http://www.w3.org/2000/svg\" fill=\"#000000\" height=\"24\" viewBox=\"0 0 24 24\" width=\"24\">\\n                <path d=\"M0 0h24v24H0z\" fill=\"none\"/>\\n                <path d=\"M12 17.27L18.18 21l-1.64-7.03L22 9.24l-7.19-.61L12 2 9.19 8.63 2 9.24l5.46 4.73L5.82 21z\"/>\\n                <path d=\"M0 0h24v24H0z\" fill=\"none\"/>\\n            </svg>\\n                <span>9</span><span class=\"point-scale\">/10</span>\\n            </span>\\n    </div>\\n<a href=\"/review/rw3318909/?ref_=tt_urv\"\\nclass=\"title\" > Who doesn\\'t love Bobby DeNiro?\\n</a>            <div class=\"display-name-date\">\\n                    <span class=\"display-name-link\"><a href=\"/user/ur16403842/?ref_=tt_urv\"\\n>mikipryor-1</a></span><span class=\"review-date\">17 September 2015</span>\\n            </div>\\n            <div class=\"content\">\\n                <div class=\"text show-more__control\">Wonderful contemporary story, great acting. What more can one ask for? DeNiro totally inhabits the role of a bored NewYorker retiree who quietly, commandingly changes everyone around him for the better. There were little bits of sentimental predictability but not many. Nothing slowed the pace for long. It was lovely to see ageism front and center, blasted to smithereens! Subtle, believable performances that did not pander to the problems of aging, but acknowledged them. The boys &quot;road trip&quot; was hilarious. The &quot;boys&quot; themselves were presented as stereotypes but managed to imbue them with personality. There were some great laugh out loud moments! Nicely cast, well-written plot and characters. Go see it! Especially if you are over 60!</div>\\n                <div class=\"actions text-muted\">\\n                    85 out of 139 found this helpful.\\n                        <span>\\n                            Was this review helpful? <a href=\"/registration/signin?ref_=urv\"\\n> Sign in</a> to vote.\\n                        </span>\\n                        <br/>\\n                    <a href=\"/review/rw3318909/?ref_=tt_urv\"\\n>Permalink</a>\\n                </div>\\n            </div>\\n        </div>\\n        <div class=\"clear\"></div>\\n    </div>\\n    <div class=\"gradient-expander hidden show-more\">\\n        <div class=\"gradient-container show-more__control\"></div>\\n            <div class=\"gradient-footer\">\\n    <div class=\"ipl-expander \">\\n        <div class=\"ipl-expander__container\">\\n            <div class=\"expander-icon-wrapper show-more__control\">\\n                <svg class=\"ipl-expander__icon expander-icon \" width=\"12\" height=\"8\" viewBox=\"0 0 12 8\" xmlns=\"http://www.w3.org/2000/svg\">\\n                     <path d=\"M10.197 0L6 4.304 1.803 0 0 1.85 6 8l6-6.15\" fill=\"#2572B3\" fill-rule=\"evenodd\"/>\\n                </svg>\\n            </div>\\n        </div>\\n    </div>\\n            </div>\\n    </div>\\n</div>\\n<div class=\"lister-item mode-detail imdb-user-review  collapsable\" data-review-id=\"rw3391975\" data-vote-url=\"/title/tt2361509/review/rw3391975/vote/interesting\">\\n    <div class=\"review-container\">\\n        <div class=\"lister-item-content\">\\n    <div class=\"ipl-ratings-bar\">\\n            <span class=\"rating-other-user-rating\">\\n            <svg class=\"ipl-icon ipl-star-icon  \" xmlns=\"http://www.w3.org/2000/svg\" fill=\"#000000\" height=\"24\" viewBox=\"0 0 24 24\" width=\"24\">\\n                <path d=\"M0 0h24v24H0z\" fill=\"none\"/>\\n                <path d=\"M12 17.27L18.18 21l-1.64-7.03L22 9.24l-7.19-.61L12 2 9.19 8.63 2 9.24l5.46 4.73L5.82 21z\"/>\\n                <path d=\"M0 0h24v24H0z\" fill=\"none\"/>\\n            </svg>\\n                <span>3</span><span class=\"point-scale\">/10</span>\\n            </span>\\n    </div>\\n<a href=\"/review/rw3391975/?ref_=tt_urv\"\\nclass=\"title\" > Interminable\\n</a>            <div class=\"display-name-date\">\\n                    <span class=\"display-name-link\"><a href=\"/user/ur15298231/?ref_=tt_urv\"\\n>Lejink</a></span><span class=\"review-date\">9 January 2016</span>\\n            </div>\\n            <div class=\"content\">\\n                <div class=\"text show-more__control\">This film was so sugar-coated, it should come with a dietary warning. Robert De Niro here is a recently widowed 70 year-old, bored with his life who applies for a senior internship post at an on-line fashion house run by its kindly, no make that saintly young founder Anne Hathaway who gets to cycle around her own office, as you do. Turns out old Bob worked in the same building for over 40 years and wouldn&#39;t you know it, immediately gets assigned to be her P.A. Naturally, she doesn&#39;t take to him at first, despite him making a hit with all the youngsters around him, sorting out their love-lives, accommodation problems, you name it, Bob&#39;ll fix it.<br/><br/>Give him a day though and he&#39;s soon saving Hathaway&#39;s life when she accidentally sends an insulting e-mail to her mother, making friends with her young daughter, giving her informal advice on the future direction of her company and incidentally, sort out her failing marriage. Oh and along the way, he hooks up with a glamorous granny also on the company payroll, employed, I kid you not, as a permanent masseuse.<br/><br/>I&#39;m all for reducing age-discrimination in the workplace but really De Niro&#39;s character only lacks a pair of wings to make him today&#39;s equivalent of Clarence from &quot;It&#39;s A Wonderful Life&quot;. Hathaway, too is just to be good to be true as the boss we&#39;d all love to have, super- friendly, super-approachable and super-generous, hey Supergirl, she&#39;s after your cape.<br/><br/>The narrative just rolled by with a succession of mundane but sickly TV sitcom situations which sometimes slowly, sometimes quickly but always resolve themselves positively. <br/><br/>De Niro mugs it up unashamedly while Hathaway gets to laugh and cry intermittently as is her wont. The film could have been trimmed by half an hour and still seemed too long to me plus I hated the interminable light-hearted acoustic-based background music which is there in very scene.<br/><br/>I just found this movie a real insult to the intelligence with its stereotypical characters, predictable situations and by-numbers acting. And I say that as someone who is closer to De Niro&#39;s age than Hathaway&#39;s.</div>\\n                <div class=\"actions text-muted\">\\n                    16 out of 31 found this helpful.\\n                        <span>\\n                            Was this review helpful? <a href=\"/registration/signin?ref_=urv\"\\n> Sign in</a> to vote.\\n                        </span>\\n                        <br/>\\n                    <a href=\"/review/rw3391975/?ref_=tt_urv\"\\n>Permalink</a>\\n                </div>\\n            </div>\\n        </div>\\n        <div class=\"clear\"></div>\\n    </div>\\n    <div class=\"gradient-expander hidden show-more\">\\n        <div class=\"gradient-container show-more__control\"></div>\\n            <div class=\"gradient-footer\">\\n    <div class=\"ipl-expander \">\\n        <div class=\"ipl-expander__container\">\\n            <div class=\"expander-icon-wrapper show-more__control\">\\n                <svg class=\"ipl-expander__icon expander-icon \" width=\"12\" height=\"8\" viewBox=\"0 0 12 8\" xmlns=\"http://www.w3.org/2000/svg\">\\n                     <path d=\"M10.197 0L6 4.304 1.803 0 0 1.85 6 8l6-6.15\" fill=\"#2572B3\" fill-rule=\"evenodd\"/>\\n                </svg>\\n            </div>\\n        </div>\\n    </div>\\n            </div>\\n    </div>\\n</div>\\n<div class=\"lister-item mode-detail imdb-user-review  collapsable\" data-review-id=\"rw3345549\" data-vote-url=\"/title/tt2361509/review/rw3345549/vote/interesting\">\\n    <div class=\"review-container\">\\n        <div class=\"lister-item-content\">\\n    <div class=\"ipl-ratings-bar\">\\n            <span class=\"rating-other-user-rating\">\\n            <svg class=\"ipl-icon ipl-star-icon  \" xmlns=\"http://www.w3.org/2000/svg\" fill=\"#000000\" height=\"24\" viewBox=\"0 0 24 24\" width=\"24\">\\n                <path d=\"M0 0h24v24H0z\" fill=\"none\"/>\\n                <path d=\"M12 17.27L18.18 21l-1.64-7.03L22 9.24l-7.19-.61L12 2 9.19 8.63 2 9.24l5.46 4.73L5.82 21z\"/>\\n                <path d=\"M0 0h24v24H0z\" fill=\"none\"/>\\n            </svg>\\n                <span>6</span><span class=\"point-scale\">/10</span>\\n            </span>\\n    </div>\\n<a href=\"/review/rw3345549/?ref_=tt_urv\"\\nclass=\"title\" > Really Not That Bad!\\n</a>            <div class=\"display-name-date\">\\n                    <span class=\"display-name-link\"><a href=\"/user/ur2810983/?ref_=tt_urv\"\\n>Dan1863Sickles</a></span><span class=\"review-date\">29 October 2015</span>\\n            </div>\\n            <div class=\"content\">\\n                <div class=\"text show-more__control\">I just saw THE INTERN yesterday, and it really wasn&#39;t half bad. But the whole time I was watching Robert De Niro playing the sweet, kind intern, drying Anne Hathaway&#39;s tears and so on, I kept thinking about a movie he made many years ago called THE FAN.<br/><br/>THE FAN was this great old-fashioned De Niro movie, the kind our hero used to make when he was really menacing and dangerous. He plays this insane knife salesman who meets this young black baseball player who&#39;s a superstar but is having personal problems. And then De Niro decides he has to save this young superstar, but when it doesn&#39;t work out he goes berserk!<br/><br/>The thing that struck me was that THE INTERN and THE FAN share an identical plot. And that while THE FAN tries to be dark and scary it&#39;s more often fall-down laughing funny, like when De Niro&#39;s character keeps bragging that he knows Mick Jagger and that they used to &quot;party till dawn&quot; together. Whereas THE INTERN is meant to be funny but is never fall down laughing funny, except maybe in one scene where De Niro leads a crew of young guys to break into Anne Hathaway&#39;s mother&#39;s house. (Really, it&#39;s much funnier than it sounds. I swear I laughed out loud at some point!)<br/><br/>If only kind old Ben had flipped out at some point . . . like say, when he finds out his adorable boss&#39; no good husband is cheating. I swear at that point I was waiting for De Niro to become his &quot;true&quot; self again, and make the snotty young husband pay and pay and pay. He really should have gone all insane knife salesman on the guy. Or like in CAPE FEAR, he could have started bombarding the wayward husband with Bible verses and mumbling cryptic warnings like, &quot;you&#39;re gonna learn about loss.&quot; <br/><br/>Now that&#39;s comedy!</div>\\n                <div class=\"actions text-muted\">\\n                    9 out of 14 found this helpful.\\n                        <span>\\n                            Was this review helpful? <a href=\"/registration/signin?ref_=urv\"\\n> Sign in</a> to vote.\\n                        </span>\\n                        <br/>\\n                    <a href=\"/review/rw3345549/?ref_=tt_urv\"\\n>Permalink</a>\\n                </div>\\n            </div>\\n        </div>\\n        <div class=\"clear\"></div>\\n    </div>\\n    <div class=\"gradient-expander hidden show-more\">\\n        <div class=\"gradient-container show-more__control\"></div>\\n            <div class=\"gradient-footer\">\\n    <div class=\"ipl-expander \">\\n        <div class=\"ipl-expander__container\">\\n            <div class=\"expander-icon-wrapper show-more__control\">\\n                <svg class=\"ipl-expander__icon expander-icon \" width=\"12\" height=\"8\" viewBox=\"0 0 12 8\" xmlns=\"http://www.w3.org/2000/svg\">\\n                     <path d=\"M10.197 0L6 4.304 1.803 0 0 1.85 6 8l6-6.15\" fill=\"#2572B3\" fill-rule=\"evenodd\"/>\\n                </svg>\\n            </div>\\n        </div>\\n    </div>\\n            </div>\\n    </div>\\n</div>\\n<div class=\"lister-item mode-detail imdb-user-review  collapsable\" data-review-id=\"rw3386218\" data-vote-url=\"/title/tt2361509/review/rw3386218/vote/interesting\">\\n    <div class=\"review-container\">\\n        <div class=\"lister-item-content\">\\n<a href=\"/review/rw3386218/?ref_=tt_urv\"\\nclass=\"title\" > Hooray! for Nancy Meyers\\'s generation. They did know better...\\n</a>            <div class=\"display-name-date\">\\n                    <span class=\"display-name-link\"><a href=\"/user/ur12093587/?ref_=tt_urv\"\\n>Dr_Sagan</a></span><span class=\"review-date\">2 January 2016</span>\\n            </div>\\n            <div class=\"content\">\\n                <div class=\"text show-more__control\">Nancy Meyers is nearly 70 years old and this script seems like an attempt to prove that her generation had the answers for pretty much anything.<br/><br/>Baby boomers everywhere united! You are still needed to share the wisdom. Next generations are only to show you how your laptop opens and how to create an account to facebook.<br/><br/>I guess there countless movies like this. You know some &quot;back in school&quot; flicks where the old guy or girl returns to &quot;school&quot; and instantly becomes one with the &quot;kids&quot; and gives life lessons to the youngsters, how to treat a girl, how to be punctual, about honesty and fidelity. Next generations are just email-exchanging idiots.<br/><br/>Anyway. Despite the whole &quot;wisdom&quot; and &quot;life begins at 70&quot; crap, that are simply not true, you have 3 extremely capable and experienced actors (DeNiro, Hathaway, Russo) delivering the easygoing script and showing enough chemistry to make the film bearable. There is obviously an uplifting mood (the self made millionaire girl etc. etc.) but there are troubles in Paradise. You can&#39;t have it all. Success and solid family and be happy. That&#39;s the message here, although in the movies anything could happen...</div>\\n                <div class=\"actions text-muted\">\\n                    53 out of 111 found this helpful.\\n                        <span>\\n                            Was this review helpful? <a href=\"/registration/signin?ref_=urv\"\\n> Sign in</a> to vote.\\n                        </span>\\n                        <br/>\\n                    <a href=\"/review/rw3386218/?ref_=tt_urv\"\\n>Permalink</a>\\n                </div>\\n            </div>\\n        </div>\\n        <div class=\"clear\"></div>\\n    </div>\\n    <div class=\"gradient-expander hidden show-more\">\\n        <div class=\"gradient-container show-more__control\"></div>\\n            <div class=\"gradient-footer\">\\n    <div class=\"ipl-expander \">\\n        <div class=\"ipl-expander__container\">\\n            <div class=\"expander-icon-wrapper show-more__control\">\\n                <svg class=\"ipl-expander__icon expander-icon \" width=\"12\" height=\"8\" viewBox=\"0 0 12 8\" xmlns=\"http://www.w3.org/2000/svg\">\\n                     <path d=\"M10.197 0L6 4.304 1.803 0 0 1.85 6 8l6-6.15\" fill=\"#2572B3\" fill-rule=\"evenodd\"/>\\n                </svg>\\n            </div>\\n        </div>\\n    </div>\\n            </div>\\n    </div>\\n</div>\\n<div class=\"lister-item mode-detail imdb-user-review  collapsable\" data-review-id=\"rw3447134\" data-vote-url=\"/title/tt2361509/review/rw3447134/vote/interesting\">\\n    <div class=\"review-container\">\\n        <div class=\"lister-item-content\">\\n    <div class=\"ipl-ratings-bar\">\\n            <span class=\"rating-other-user-rating\">\\n            <svg class=\"ipl-icon ipl-star-icon  \" xmlns=\"http://www.w3.org/2000/svg\" fill=\"#000000\" height=\"24\" viewBox=\"0 0 24 24\" width=\"24\">\\n                <path d=\"M0 0h24v24H0z\" fill=\"none\"/>\\n                <path d=\"M12 17.27L18.18 21l-1.64-7.03L22 9.24l-7.19-.61L12 2 9.19 8.63 2 9.24l5.46 4.73L5.82 21z\"/>\\n                <path d=\"M0 0h24v24H0z\" fill=\"none\"/>\\n            </svg>\\n                <span>6</span><span class=\"point-scale\">/10</span>\\n            </span>\\n    </div>\\n<a href=\"/review/rw3447134/?ref_=tt_urv\"\\nclass=\"title\" > A Female Fantasy Full of Faux-Insights and Hokey Hipness\\n</a>            <div class=\"display-name-date\">\\n                    <span class=\"display-name-link\"><a href=\"/user/ur33374263/?ref_=tt_urv\"\\n>LeonLouisRicci</a></span><span class=\"review-date\">7 April 2016</span>\\n            </div>\\n            <div class=\"content\">\\n                <div class=\"text show-more__control\">A Modern Feminist Fantasy where an e-Entrepreneur awash in New-Wealth and New-Problems that arise from, well, &quot;not enough hours in the day&quot;. That Cliché about the Problem of finding time to &quot;spend with the Family&quot;. <br/><br/>It used to be a Man&#39;s Challenge, but in this Postmodern World the Women are put to the task. Now there are &quot;Stay at Home Dads&quot;, as We are Told They like to be called. This Writer/Director Nancy Meyers Geezer-Gal is so Hip. <br/><br/>Or so She is want to try and demonstrate in every Scene. Robert De Niro is a 70 Year Old &quot;time on His hands&quot; Retiree who is just Giddy at the chance He is given to &quot;Play&quot; with the Youngsters and teach Them a thing or two about the loss of Chivalry (like carrying a hankie for the inevitable waterworks from the opposite sex).<br/><br/>The &#39;Machines&quot; addicted Moderns return the favor providing assistance on Laptops and Facebook. It&#39;s all so &quot;Today&quot;. Anne Hathaway is the &quot;Boss&quot; and Founder of this Online Mega-Site that sells Pricey Fashions &quot;Guaranteed to Fit&quot;. It&#39;s made Her instantly Rich and without much Sleep and a Husband that is too Good to be True.<br/><br/>This is all Mildly Entertaining and about as Deep as a Doodlebug, Charming at times and Insufferably Sappy at others. Everyone and Everything is too Appealing and Almost Perfect to be anything more than Fantastical. The Movie is just too Pleasant and Wish-Fulfilling to contain any &quot;Real&quot; Insight or Inspiration except for, perhaps, Women with a &quot;Glass of Wine and a Laptop&quot;.</div>\\n                <div class=\"actions text-muted\">\\n                    9 out of 16 found this helpful.\\n                        <span>\\n                            Was this review helpful? <a href=\"/registration/signin?ref_=urv\"\\n> Sign in</a> to vote.\\n                        </span>\\n                        <br/>\\n                    <a href=\"/review/rw3447134/?ref_=tt_urv\"\\n>Permalink</a>\\n                </div>\\n            </div>\\n        </div>\\n        <div class=\"clear\"></div>\\n    </div>\\n    <div class=\"gradient-expander hidden show-more\">\\n        <div class=\"gradient-container show-more__control\"></div>\\n            <div class=\"gradient-footer\">\\n    <div class=\"ipl-expander \">\\n        <div class=\"ipl-expander__container\">\\n            <div class=\"expander-icon-wrapper show-more__control\">\\n                <svg class=\"ipl-expander__icon expander-icon \" width=\"12\" height=\"8\" viewBox=\"0 0 12 8\" xmlns=\"http://www.w3.org/2000/svg\">\\n                     <path d=\"M10.197 0L6 4.304 1.803 0 0 1.85 6 8l6-6.15\" fill=\"#2572B3\" fill-rule=\"evenodd\"/>\\n                </svg>\\n            </div>\\n        </div>\\n    </div>\\n            </div>\\n    </div>\\n</div>\\n<div class=\"lister-item mode-detail imdb-user-review  collapsable\" data-review-id=\"rw3370716\" data-vote-url=\"/title/tt2361509/review/rw3370716/vote/interesting\">\\n    <div class=\"review-container\">\\n        <div class=\"lister-item-content\">\\n    <div class=\"ipl-ratings-bar\">\\n            <span class=\"rating-other-user-rating\">\\n            <svg class=\"ipl-icon ipl-star-icon  \" xmlns=\"http://www.w3.org/2000/svg\" fill=\"#000000\" height=\"24\" viewBox=\"0 0 24 24\" width=\"24\">\\n                <path d=\"M0 0h24v24H0z\" fill=\"none\"/>\\n                <path d=\"M12 17.27L18.18 21l-1.64-7.03L22 9.24l-7.19-.61L12 2 9.19 8.63 2 9.24l5.46 4.73L5.82 21z\"/>\\n                <path d=\"M0 0h24v24H0z\" fill=\"none\"/>\\n            </svg>\\n                <span>5</span><span class=\"point-scale\">/10</span>\\n            </span>\\n    </div>\\n<a href=\"/review/rw3370716/?ref_=tt_urv\"\\nclass=\"title\" > Atonal ... failed the 20 minute test\\n</a>            <div class=\"display-name-date\">\\n                    <span class=\"display-name-link\"><a href=\"/user/ur44112735/?ref_=tt_urv\"\\n>A_Different_Drummer</a></span><span class=\"review-date\">12 December 2015</span>\\n            </div>\\n            <div class=\"content\">\\n                <div class=\"text show-more__control\">Article Xii of the IMDb Guide for Top Reviewers admonishes us to &quot;move aggressively to correct misconceptions&quot; about a specific film especially if &quot;the majority of viewers seem to have missed the point.&quot; It is a tough job but someone has to do it.<br/><br/>So here is the skinny. This is a terrible film. The problems with it go far beyond casting choices that some other members actually caught. The premise is terrible. Hollywood could use a really good movie that explores the business ethics between generations. This is not it.<br/><br/>The writing is terrible. This may not the fault of the writers, presumably they were following the ideas put in their head by the producers. Regardless of who is to blame, the script is soggy and lame.<br/><br/>The most reliable &quot;reviewers test&quot; for an unknown film is the so-called 20 minute test. If a film fails to connect with the viewer by the 20 minute mark, it is a dud.<br/><br/>At the 20 minute mark De Niro is still settling into his new job. There is no viewer connection or interest or suspense or pathos or empathy. A dud.<br/><br/>Rene Russo looks lost in her role and the scenes where she massages de Niro are embarrassing to the film, the cast, and Mankind as a whole.<br/><br/>I could go on, but you get the point.</div>\\n                <div class=\"actions text-muted\">\\n                    20 out of 41 found this helpful.\\n                        <span>\\n                            Was this review helpful? <a href=\"/registration/signin?ref_=urv\"\\n> Sign in</a> to vote.\\n                        </span>\\n                        <br/>\\n                    <a href=\"/review/rw3370716/?ref_=tt_urv\"\\n>Permalink</a>\\n                </div>\\n            </div>\\n        </div>\\n        <div class=\"clear\"></div>\\n    </div>\\n    <div class=\"gradient-expander hidden show-more\">\\n        <div class=\"gradient-container show-more__control\"></div>\\n            <div class=\"gradient-footer\">\\n    <div class=\"ipl-expander \">\\n        <div class=\"ipl-expander__container\">\\n            <div class=\"expander-icon-wrapper show-more__control\">\\n                <svg class=\"ipl-expander__icon expander-icon \" width=\"12\" height=\"8\" viewBox=\"0 0 12 8\" xmlns=\"http://www.w3.org/2000/svg\">\\n                     <path d=\"M10.197 0L6 4.304 1.803 0 0 1.85 6 8l6-6.15\" fill=\"#2572B3\" fill-rule=\"evenodd\"/>\\n                </svg>\\n            </div>\\n        </div>\\n    </div>\\n            </div>\\n    </div>\\n</div>\\n<div class=\"lister-item mode-detail imdb-user-review  collapsable\" data-review-id=\"rw3334913\" data-vote-url=\"/title/tt2361509/review/rw3334913/vote/interesting\">\\n    <div class=\"review-container\">\\n        <div class=\"lister-item-content\">\\n    <div class=\"ipl-ratings-bar\">\\n            <span class=\"rating-other-user-rating\">\\n            <svg class=\"ipl-icon ipl-star-icon  \" xmlns=\"http://www.w3.org/2000/svg\" fill=\"#000000\" height=\"24\" viewBox=\"0 0 24 24\" width=\"24\">\\n                <path d=\"M0 0h24v24H0z\" fill=\"none\"/>\\n                <path d=\"M12 17.27L18.18 21l-1.64-7.03L22 9.24l-7.19-.61L12 2 9.19 8.63 2 9.24l5.46 4.73L5.82 21z\"/>\\n                <path d=\"M0 0h24v24H0z\" fill=\"none\"/>\\n            </svg>\\n                <span>8</span><span class=\"point-scale\">/10</span>\\n            </span>\\n    </div>\\n<a href=\"/review/rw3334913/?ref_=tt_urv\"\\nclass=\"title\" > The Intern was a pretty enjoyable team-up of Robert De Niro and Anne Hathaway\\n</a>            <div class=\"display-name-date\">\\n                    <span class=\"display-name-link\"><a href=\"/user/ur11228318/?ref_=tt_urv\"\\n>tavm</a></span><span class=\"review-date\">13 October 2015</span>\\n            </div>\\n            <div class=\"content\">\\n                <div class=\"text show-more__control\">Robert De Niro plays the title character as a retired widower who works for a company run by Anne Hathaway who&#39;s married with a pre-teen daughter. There are some amusing scenes and lines but this was mostly a pretty dramatic take on ageism, sexism, adultery, and the eternal question of whether one can have it all. As writer-director, Nancy Meyers goes through all this with earned heartfelt characters as portrayed by De Niro and Ms. Hathaway. When I agreed to watch this with my movie theatre-working friend, I wasn&#39;t sure I&#39;d really like it but it was quite enjoyable for both of us from beginning to end. Did things seem a little neatly-tied-up-in-a-bow at the end? Sure, but still it seemed natural so neither of us had any complaints...</div>\\n                <div class=\"actions text-muted\">\\n                    10 out of 19 found this helpful.\\n                        <span>\\n                            Was this review helpful? <a href=\"/registration/signin?ref_=urv\"\\n> Sign in</a> to vote.\\n                        </span>\\n                        <br/>\\n                    <a href=\"/review/rw3334913/?ref_=tt_urv\"\\n>Permalink</a>\\n                </div>\\n            </div>\\n        </div>\\n        <div class=\"clear\"></div>\\n    </div>\\n    <div class=\"gradient-expander hidden show-more\">\\n        <div class=\"gradient-container show-more__control\"></div>\\n            <div class=\"gradient-footer\">\\n    <div class=\"ipl-expander \">\\n        <div class=\"ipl-expander__container\">\\n            <div class=\"expander-icon-wrapper show-more__control\">\\n                <svg class=\"ipl-expander__icon expander-icon \" width=\"12\" height=\"8\" viewBox=\"0 0 12 8\" xmlns=\"http://www.w3.org/2000/svg\">\\n                     <path d=\"M10.197 0L6 4.304 1.803 0 0 1.85 6 8l6-6.15\" fill=\"#2572B3\" fill-rule=\"evenodd\"/>\\n                </svg>\\n            </div>\\n        </div>\\n    </div>\\n            </div>\\n    </div>\\n</div>\\n<div class=\"lister-item mode-detail imdb-user-review  with-spoiler\" data-review-id=\"rw3328187\" data-vote-url=\"/title/tt2361509/review/rw3328187/vote/interesting\">\\n    <div class=\"review-container\">\\n        <div class=\"lister-item-content\">\\n    <div class=\"ipl-ratings-bar\">\\n            <span class=\"rating-other-user-rating\">\\n            <svg class=\"ipl-icon ipl-star-icon  \" xmlns=\"http://www.w3.org/2000/svg\" fill=\"#000000\" height=\"24\" viewBox=\"0 0 24 24\" width=\"24\">\\n                <path d=\"M0 0h24v24H0z\" fill=\"none\"/>\\n                <path d=\"M12 17.27L18.18 21l-1.64-7.03L22 9.24l-7.19-.61L12 2 9.19 8.63 2 9.24l5.46 4.73L5.82 21z\"/>\\n                <path d=\"M0 0h24v24H0z\" fill=\"none\"/>\\n            </svg>\\n                <span>8</span><span class=\"point-scale\">/10</span>\\n            </span>\\n    </div>\\n<a href=\"/review/rw3328187/?ref_=tt_urv\"\\nclass=\"title\" > Somewhere here there might be buried a great 90-minute film . . .\\n</a>            <div class=\"display-name-date\">\\n                    <span class=\"display-name-link\"><a href=\"/user/ur50489624/?ref_=tt_urv\"\\n>oscaralbert</a></span><span class=\"review-date\">3 October 2015</span>\\n            </div>\\n                <span class=\"spoiler-warning\">Warning: Spoilers</span>\\n    <div class=\"ipl-expander \">\\n        <div class=\"ipl-expander__container\">\\n            <div class=\"expander-icon-wrapper spoiler-warning__control\">\\n                <svg class=\"ipl-expander__icon expander-icon \" width=\"12\" height=\"8\" viewBox=\"0 0 12 8\" xmlns=\"http://www.w3.org/2000/svg\">\\n                     <path d=\"M10.197 0L6 4.304 1.803 0 0 1.85 6 8l6-6.15\" fill=\"#2572B3\" fill-rule=\"evenodd\"/>\\n                </svg>\\n            </div>\\n        </div>\\n    </div>\\n            <div class=\"content\">\\n                <div class=\"text show-more__control\">. . . but Warner Bros. decided that they could make a profitable chick flick out of THE INTERN, so they stuffed it with half an hour of cellulose padding (since Rule #1 of chick flicks is, &quot;Don&#39;t ask the ladies to get up again for a couple of hours once they&#39;ve settled into their seats&quot;). It&#39;s no easier to pinpoint all the excess baggage weighing down THE INTERN than it would be to body-sculpt the average film-goer packing on an extra 10 (or 50), but one might start with they boys&#39; home break-in caper. Next, Paige&#39;s all-in-pink birthday party visit never would be missed, and why not excise either the adultery subplot or the company masseuse--your choice. Furthermore, that endless just-hanging-out-on-the-boss&#39;-bed-in-bathrobes San Francisco bit might have been aiming for some blend of bittersweet poignancy, but it comes off more like a creepy exercise bordering on incest. Just saying.</div>\\n                <div class=\"actions text-muted\">\\n                    6 out of 10 found this helpful.\\n                        <span>\\n                            Was this review helpful? <a href=\"/registration/signin?ref_=urv\"\\n> Sign in</a> to vote.\\n                        </span>\\n                        <br/>\\n                    <a href=\"/review/rw3328187/?ref_=tt_urv\"\\n>Permalink</a>\\n                </div>\\n            </div>\\n        </div>\\n        <div class=\"clear\"></div>\\n    </div>\\n</div>\\n<div class=\"lister-item mode-detail imdb-user-review  collapsable\" data-review-id=\"rw7457998\" data-vote-url=\"/title/tt2361509/review/rw7457998/vote/interesting\">\\n    <div class=\"review-container\">\\n        <div class=\"lister-item-content\">\\n    <div class=\"ipl-ratings-bar\">\\n            <span class=\"rating-other-user-rating\">\\n            <svg class=\"ipl-icon ipl-star-icon  \" xmlns=\"http://www.w3.org/2000/svg\" fill=\"#000000\" height=\"24\" viewBox=\"0 0 24 24\" width=\"24\">\\n                <path d=\"M0 0h24v24H0z\" fill=\"none\"/>\\n                <path d=\"M12 17.27L18.18 21l-1.64-7.03L22 9.24l-7.19-.61L12 2 9.19 8.63 2 9.24l5.46 4.73L5.82 21z\"/>\\n                <path d=\"M0 0h24v24H0z\" fill=\"none\"/>\\n            </svg>\\n                <span>5</span><span class=\"point-scale\">/10</span>\\n            </span>\\n    </div>\\n<a href=\"/review/rw7457998/?ref_=tt_urv\"\\nclass=\"title\" > Vomit Bucket\\n</a>            <div class=\"display-name-date\">\\n                    <span class=\"display-name-link\"><a href=\"/user/ur1888258/?ref_=tt_urv\"\\n>darius_sutherland</a></span><span class=\"review-date\">19 October 2021</span>\\n            </div>\\n            <div class=\"content\">\\n                <div class=\"text show-more__control\">If your like me you&#39;ll need a bucket to be sick in by the end. The heartwarming music non stop, the unrealistic plot that runs through it all. All the nice sickly people who love the world and everyone around them. I&#39;m surprised there weren&#39;t cartoon birds making an appearance at some point. An absolute load of nonsense. Saying that, it passed the time while I played Toon Blast. So unrealistically schmaaaltzy. Nancy Myers churns the stuff out, some hit some miss. There will be a lot of women out there that love this kind of stuff, I like my romcoms but I can&#39;t see any bloke liking this one.</div>\\n                <div class=\"actions text-muted\">\\n                    7 out of 10 found this helpful.\\n                        <span>\\n                            Was this review helpful? <a href=\"/registration/signin?ref_=urv\"\\n> Sign in</a> to vote.\\n                        </span>\\n                        <br/>\\n                    <a href=\"/review/rw7457998/?ref_=tt_urv\"\\n>Permalink</a>\\n                </div>\\n            </div>\\n        </div>\\n        <div class=\"clear\"></div>\\n    </div>\\n    <div class=\"gradient-expander hidden show-more\">\\n        <div class=\"gradient-container show-more__control\"></div>\\n            <div class=\"gradient-footer\">\\n    <div class=\"ipl-expander \">\\n        <div class=\"ipl-expander__container\">\\n            <div class=\"expander-icon-wrapper show-more__control\">\\n                <svg class=\"ipl-expander__icon expander-icon \" width=\"12\" height=\"8\" viewBox=\"0 0 12 8\" xmlns=\"http://www.w3.org/2000/svg\">\\n                     <path d=\"M10.197 0L6 4.304 1.803 0 0 1.85 6 8l6-6.15\" fill=\"#2572B3\" fill-rule=\"evenodd\"/>\\n                </svg>\\n            </div>\\n        </div>\\n    </div>\\n            </div>\\n    </div>\\n</div>\\n<div class=\"lister-item mode-detail imdb-user-review  collapsable\" data-review-id=\"rw3321434\" data-vote-url=\"/title/tt2361509/review/rw3321434/vote/interesting\">\\n    <div class=\"review-container\">\\n        <div class=\"lister-item-content\">\\n    <div class=\"ipl-ratings-bar\">\\n            <span class=\"rating-other-user-rating\">\\n            <svg class=\"ipl-icon ipl-star-icon  \" xmlns=\"http://www.w3.org/2000/svg\" fill=\"#000000\" height=\"24\" viewBox=\"0 0 24 24\" width=\"24\">\\n                <path d=\"M0 0h24v24H0z\" fill=\"none\"/>\\n                <path d=\"M12 17.27L18.18 21l-1.64-7.03L22 9.24l-7.19-.61L12 2 9.19 8.63 2 9.24l5.46 4.73L5.82 21z\"/>\\n                <path d=\"M0 0h24v24H0z\" fill=\"none\"/>\\n            </svg>\\n                <span>10</span><span class=\"point-scale\">/10</span>\\n            </span>\\n    </div>\\n<a href=\"/review/rw3321434/?ref_=tt_urv\"\\nclass=\"title\" > The perfect movie\\n</a>            <div class=\"display-name-date\">\\n                    <span class=\"display-name-link\"><a href=\"/user/ur53695966/?ref_=tt_urv\"\\n>madtrip</a></span><span class=\"review-date\">21 September 2015</span>\\n            </div>\\n            <div class=\"content\">\\n                <div class=\"text show-more__control\">The Intern .... The sweetest, most perfect And heart touching I have seen in a long time. Of course it helps that Robert De Niro is there but what a movie! This is what all movies should be.<br/><br/>Robert De Niro plays the perfect gentleman, the kind we don&#39;t see anymore. And every woman who sees the movie will fall a bit in love with him. Anne Hathaway perfectly plays the role of a successful entrepreneur, a working wife and mom who thinks about everything and everyone and still feels guilty about being a working woman, even after the perfect gentleman tells her He should not be the feminist amongst the two of them. Every working woman will identify with her inner struggles. The story is perfect, with the perfect practical ending, as life is always more practical than idealistic. The small touches like the housewives who look down upon the working mom and make her feel guilty (I have seen many of those), the successful aggressive entrepreneur&#39;s fear of hurting her mom, the stay-at-home dad&#39;s end-of-day exhaustion that the working mom does not really understand and the young boss&#39; discomfort with her elderly intern... All so real. There&#39;s an idea here which I spoke about long back... The huge talent pool of retired people nobody is willing to hire. The intern&#39;s wisdom and practicality brings a calm and peace to the busy boss&#39; life. There&#39;s a lesson here for us all here. Look at our elders and learn from them. Stop a while in your busy life to get more out of it.<br/><br/>Loved the movie, hope everyone of my generation sees it.</div>\\n                <div class=\"actions text-muted\">\\n                    252 out of 368 found this helpful.\\n                        <span>\\n                            Was this review helpful? <a href=\"/registration/signin?ref_=urv\"\\n> Sign in</a> to vote.\\n                        </span>\\n                        <br/>\\n                    <a href=\"/review/rw3321434/?ref_=tt_urv\"\\n>Permalink</a>\\n                </div>\\n            </div>\\n        </div>\\n        <div class=\"clear\"></div>\\n    </div>\\n    <div class=\"gradient-expander hidden show-more\">\\n        <div class=\"gradient-container show-more__control\"></div>\\n            <div class=\"gradient-footer\">\\n    <div class=\"ipl-expander \">\\n        <div class=\"ipl-expander__container\">\\n            <div class=\"expander-icon-wrapper show-more__control\">\\n                <svg class=\"ipl-expander__icon expander-icon \" width=\"12\" height=\"8\" viewBox=\"0 0 12 8\" xmlns=\"http://www.w3.org/2000/svg\">\\n                     <path d=\"M10.197 0L6 4.304 1.803 0 0 1.85 6 8l6-6.15\" fill=\"#2572B3\" fill-rule=\"evenodd\"/>\\n                </svg>\\n            </div>\\n        </div>\\n    </div>\\n            </div>\\n    </div>\\n</div>\\n<div class=\"lister-item mode-detail imdb-user-review  collapsable\" data-review-id=\"rw3339743\" data-vote-url=\"/title/tt2361509/review/rw3339743/vote/interesting\">\\n    <div class=\"review-container\">\\n        <div class=\"lister-item-content\">\\n    <div class=\"ipl-ratings-bar\">\\n            <span class=\"rating-other-user-rating\">\\n            <svg class=\"ipl-icon ipl-star-icon  \" xmlns=\"http://www.w3.org/2000/svg\" fill=\"#000000\" height=\"24\" viewBox=\"0 0 24 24\" width=\"24\">\\n                <path d=\"M0 0h24v24H0z\" fill=\"none\"/>\\n                <path d=\"M12 17.27L18.18 21l-1.64-7.03L22 9.24l-7.19-.61L12 2 9.19 8.63 2 9.24l5.46 4.73L5.82 21z\"/>\\n                <path d=\"M0 0h24v24H0z\" fill=\"none\"/>\\n            </svg>\\n                <span>3</span><span class=\"point-scale\">/10</span>\\n            </span>\\n    </div>\\n<a href=\"/review/rw3339743/?ref_=tt_urv\"\\nclass=\"title\" > De Niro\\'s Downward Descent Continues\\n</a>            <div class=\"display-name-date\">\\n                    <span class=\"display-name-link\"><a href=\"/user/ur35544190/?ref_=tt_urv\"\\n>rjsf96</a></span><span class=\"review-date\">21 October 2015</span>\\n            </div>\\n            <div class=\"content\">\\n                <div class=\"text show-more__control\">It&#39;s a sad thing to witness the fall of one of the all-time great actors. When someone like Robert De Niro turns up in a project beneath him like &#39;The Intern&#39;, you know they were only drawn to it because of the money. What&#39;s even more heart-breaking though is that when they take on more projects of this nature, they become less likely to be acknowledged for films like &#39;Raging Bull&#39;, &#39;The Godfather Part II&#39; and &#39;Goodfellas&#39; by general audiences.<br/><br/>Ben Whittaker is seventy years old; don&#39;t worry about remembering this figure as the film will constantly remind you like a nagging child. He is not enjoying his retirement. When a senior intern program shows up he jumps at the opportunity and ends up working with his bitter boss (a sickly sweet Anne Hathaway) she just happens to be younger than him.<br/><br/>I&#39;m frantically thinking of something, anything to say that&#39;s positive or of significant note about &#39;The Intern&#39; but nothing is coming to my mind. All that I can say in its favour is that it never comes across as hateful about gender, culture or race. But if I&#39;m praising the film for elements it does not include, should that really count as praise at all? No.<br/><br/>What I can say is that &#39;The Intern&#39; is as predictable as they come. You could sit there with a checklist waiting to tick off every cliché it indulges in. Chances are all the boxes will be ticked by the end. That is if you can make it to the end. This alleged comedy is over two hours long and this self-indulgent runtime has never worked any favours for the genre.<br/><br/>I don&#39;t want to sit here criticizing &#39;The Intern&#39;. I would much rather praise a film than come off as cynical. But when a film is this uninvolving, dull and unfunny I just can&#39;t.<br/><br/>I trust you to make up your own mind about whether seeing &#39;The Intern&#39; is the right thing to do. So I pose these questions. Do you want to see the fall of Robert De Niro? A comedy so inert and flat that you can barely raise a smile? An experience more torturous than a late night shift at work? I do not want to see any of these things. It just makes it all the more easy to decline this internship.</div>\\n                <div class=\"actions text-muted\">\\n                    34 out of 66 found this helpful.\\n                        <span>\\n                            Was this review helpful? <a href=\"/registration/signin?ref_=urv\"\\n> Sign in</a> to vote.\\n                        </span>\\n                        <br/>\\n                    <a href=\"/review/rw3339743/?ref_=tt_urv\"\\n>Permalink</a>\\n                </div>\\n            </div>\\n        </div>\\n        <div class=\"clear\"></div>\\n    </div>\\n    <div class=\"gradient-expander hidden show-more\">\\n        <div class=\"gradient-container show-more__control\"></div>\\n            <div class=\"gradient-footer\">\\n    <div class=\"ipl-expander \">\\n        <div class=\"ipl-expander__container\">\\n            <div class=\"expander-icon-wrapper show-more__control\">\\n                <svg class=\"ipl-expander__icon expander-icon \" width=\"12\" height=\"8\" viewBox=\"0 0 12 8\" xmlns=\"http://www.w3.org/2000/svg\">\\n                     <path d=\"M10.197 0L6 4.304 1.803 0 0 1.85 6 8l6-6.15\" fill=\"#2572B3\" fill-rule=\"evenodd\"/>\\n                </svg>\\n            </div>\\n        </div>\\n    </div>\\n            </div>\\n    </div>\\n</div>\\n<div class=\"lister-item mode-detail imdb-user-review  collapsable\" data-review-id=\"rw3336313\" data-vote-url=\"/title/tt2361509/review/rw3336313/vote/interesting\">\\n    <div class=\"review-container\">\\n        <div class=\"lister-item-content\">\\n    <div class=\"ipl-ratings-bar\">\\n            <span class=\"rating-other-user-rating\">\\n            <svg class=\"ipl-icon ipl-star-icon  \" xmlns=\"http://www.w3.org/2000/svg\" fill=\"#000000\" height=\"24\" viewBox=\"0 0 24 24\" width=\"24\">\\n                <path d=\"M0 0h24v24H0z\" fill=\"none\"/>\\n                <path d=\"M12 17.27L18.18 21l-1.64-7.03L22 9.24l-7.19-.61L12 2 9.19 8.63 2 9.24l5.46 4.73L5.82 21z\"/>\\n                <path d=\"M0 0h24v24H0z\" fill=\"none\"/>\\n            </svg>\\n                <span>3</span><span class=\"point-scale\">/10</span>\\n            </span>\\n    </div>\\n<a href=\"/review/rw3336313/?ref_=tt_urv\"\\nclass=\"title\" > Humorless drama\\n</a>            <div class=\"display-name-date\">\\n                    <span class=\"display-name-link\"><a href=\"/user/ur0341201/?ref_=tt_urv\"\\n>SquirePM</a></span><span class=\"review-date\">16 October 2015</span>\\n            </div>\\n            <div class=\"content\">\\n                <div class=\"text show-more__control\">In its television advertising The Intern is made out to be a comedy of some sort, perhaps a rom-com, maybe a dram-com, but anyway a light-hearted movie full of laughs.<br/><br/>It is not.<br/><br/>The Intern is just a lukewarm drama with a very few laughs. What a shame. It has a story line which is rich with possibilities for humor. It could have been filled with moments of laughter and enjoyment. Instead it marches (at a v-e-r-y slow pace) right past many, many chances for delightful byplay between and among its characters. Wasted chances and wasted time. DeNiro was repressed and restrained by the director, so much so that this powerful, spectacular actor adds little to the movie by his presence. Again, what a shame.<br/><br/>It&#39;s hard to sum up my disappointment with this movie. 3 out of 10.</div>\\n                <div class=\"actions text-muted\">\\n                    17 out of 30 found this helpful.\\n                        <span>\\n                            Was this review helpful? <a href=\"/registration/signin?ref_=urv\"\\n> Sign in</a> to vote.\\n                        </span>\\n                        <br/>\\n                    <a href=\"/review/rw3336313/?ref_=tt_urv\"\\n>Permalink</a>\\n                </div>\\n            </div>\\n        </div>\\n        <div class=\"clear\"></div>\\n    </div>\\n    <div class=\"gradient-expander hidden show-more\">\\n        <div class=\"gradient-container show-more__control\"></div>\\n            <div class=\"gradient-footer\">\\n    <div class=\"ipl-expander \">\\n        <div class=\"ipl-expander__container\">\\n            <div class=\"expander-icon-wrapper show-more__control\">\\n                <svg class=\"ipl-expander__icon expander-icon \" width=\"12\" height=\"8\" viewBox=\"0 0 12 8\" xmlns=\"http://www.w3.org/2000/svg\">\\n                     <path d=\"M10.197 0L6 4.304 1.803 0 0 1.85 6 8l6-6.15\" fill=\"#2572B3\" fill-rule=\"evenodd\"/>\\n                </svg>\\n            </div>\\n        </div>\\n    </div>\\n            </div>\\n    </div>\\n</div>\\n<div class=\"lister-item mode-detail imdb-user-review  with-spoiler\" data-review-id=\"rw3498132\" data-vote-url=\"/title/tt2361509/review/rw3498132/vote/interesting\">\\n    <div class=\"review-container\">\\n        <div class=\"lister-item-content\">\\n    <div class=\"ipl-ratings-bar\">\\n            <span class=\"rating-other-user-rating\">\\n            <svg class=\"ipl-icon ipl-star-icon  \" xmlns=\"http://www.w3.org/2000/svg\" fill=\"#000000\" height=\"24\" viewBox=\"0 0 24 24\" width=\"24\">\\n                <path d=\"M0 0h24v24H0z\" fill=\"none\"/>\\n                <path d=\"M12 17.27L18.18 21l-1.64-7.03L22 9.24l-7.19-.61L12 2 9.19 8.63 2 9.24l5.46 4.73L5.82 21z\"/>\\n                <path d=\"M0 0h24v24H0z\" fill=\"none\"/>\\n            </svg>\\n                <span>2</span><span class=\"point-scale\">/10</span>\\n            </span>\\n    </div>\\n<a href=\"/review/rw3498132/?ref_=tt_urv\"\\nclass=\"title\" > condescending crappola\\n</a>            <div class=\"display-name-date\">\\n                    <span class=\"display-name-link\"><a href=\"/user/ur0194453/?ref_=tt_urv\"\\n>avas</a></span><span class=\"review-date\">3 July 2016</span>\\n            </div>\\n                <span class=\"spoiler-warning\">Warning: Spoilers</span>\\n    <div class=\"ipl-expander \">\\n        <div class=\"ipl-expander__container\">\\n            <div class=\"expander-icon-wrapper spoiler-warning__control\">\\n                <svg class=\"ipl-expander__icon expander-icon \" width=\"12\" height=\"8\" viewBox=\"0 0 12 8\" xmlns=\"http://www.w3.org/2000/svg\">\\n                     <path d=\"M10.197 0L6 4.304 1.803 0 0 1.85 6 8l6-6.15\" fill=\"#2572B3\" fill-rule=\"evenodd\"/>\\n                </svg>\\n            </div>\\n        </div>\\n    </div>\\n            <div class=\"content\">\\n                <div class=\"text show-more__control\">Stereotypical nonsense. Almost unwatchable. Robert Deniro has one expression. So old folks are wise and everyone lives in Brooklyn brownstones worth millions. Not funny or endearing. A depressed 70 year old widower becomes an intern? Everyone at the firm is a millennial who has no knowledge of anything human including the owner. Anne Hathaway&#39;s husband is a loser. She is too cold. Her firm is unbelievable. How did her firm become prominent? It sells clothes? What a novel idea. Best part is the shots of Brooklyn. The dialogue is really dumb and predictable. The situations come right out of a plot book. I would have rated it a one but I saw it free on TV and mostly played on my phone during the movie so I did not have to watch it completely.</div>\\n                <div class=\"actions text-muted\">\\n                    13 out of 18 found this helpful.\\n                        <span>\\n                            Was this review helpful? <a href=\"/registration/signin?ref_=urv\"\\n> Sign in</a> to vote.\\n                        </span>\\n                        <br/>\\n                    <a href=\"/review/rw3498132/?ref_=tt_urv\"\\n>Permalink</a>\\n                </div>\\n            </div>\\n        </div>\\n        <div class=\"clear\"></div>\\n    </div>\\n</div>\\n<div class=\"lister-item mode-detail imdb-user-review  collapsable\" data-review-id=\"rw7404284\" data-vote-url=\"/title/tt2361509/review/rw7404284/vote/interesting\">\\n    <div class=\"review-container\">\\n        <div class=\"lister-item-content\">\\n    <div class=\"ipl-ratings-bar\">\\n            <span class=\"rating-other-user-rating\">\\n            <svg class=\"ipl-icon ipl-star-icon  \" xmlns=\"http://www.w3.org/2000/svg\" fill=\"#000000\" height=\"24\" viewBox=\"0 0 24 24\" width=\"24\">\\n                <path d=\"M0 0h24v24H0z\" fill=\"none\"/>\\n                <path d=\"M12 17.27L18.18 21l-1.64-7.03L22 9.24l-7.19-.61L12 2 9.19 8.63 2 9.24l5.46 4.73L5.82 21z\"/>\\n                <path d=\"M0 0h24v24H0z\" fill=\"none\"/>\\n            </svg>\\n                <span>7</span><span class=\"point-scale\">/10</span>\\n            </span>\\n    </div>\\n<a href=\"/review/rw7404284/?ref_=tt_urv\"\\nclass=\"title\" > \"Never wrong to do the right thing\"\\n</a>            <div class=\"display-name-date\">\\n                    <span class=\"display-name-link\"><a href=\"/user/ur26579233/?ref_=tt_urv\"\\n>daisukereds</a></span><span class=\"review-date\">3 October 2021</span>\\n            </div>\\n            <div class=\"content\">\\n                <div class=\"text show-more__control\">So, it&#39;s not a comedy. It&#39;s also NOT annoying. It&#39;s smart, but very subtle. Definitely crafted with a lot of care. Fast paced and straight to the point out of the gate. Doesn&#39;t let down, and it&#39;s interesting throughout.<br/><br/>It&#39;s one of those cozy movies that you&#39;d like to be a part of. A comfortable ride devoid of real stress and drama. It&#39;s the little things and great attention to details, interactions and characters you&#39;d find in real life with a thin layer of &quot;sunshine&quot; that makes them likeable. Both leads are great for their roles, and they sell it. With plenty of sentimental value, that is never overbearing.<br/><br/>I personally didn&#39;t like the ending.. particularly because I liked the movie so much.</div>\\n                <div class=\"actions text-muted\">\\n                    2 out of 2 found this helpful.\\n                        <span>\\n                            Was this review helpful? <a href=\"/registration/signin?ref_=urv\"\\n> Sign in</a> to vote.\\n                        </span>\\n                        <br/>\\n                    <a href=\"/review/rw7404284/?ref_=tt_urv\"\\n>Permalink</a>\\n                </div>\\n            </div>\\n        </div>\\n        <div class=\"clear\"></div>\\n    </div>\\n    <div class=\"gradient-expander hidden show-more\">\\n        <div class=\"gradient-container show-more__control\"></div>\\n            <div class=\"gradient-footer\">\\n    <div class=\"ipl-expander \">\\n        <div class=\"ipl-expander__container\">\\n            <div class=\"expander-icon-wrapper show-more__control\">\\n                <svg class=\"ipl-expander__icon expander-icon \" width=\"12\" height=\"8\" viewBox=\"0 0 12 8\" xmlns=\"http://www.w3.org/2000/svg\">\\n                     <path d=\"M10.197 0L6 4.304 1.803 0 0 1.85 6 8l6-6.15\" fill=\"#2572B3\" fill-rule=\"evenodd\"/>\\n                </svg>\\n            </div>\\n        </div>\\n    </div>\\n            </div>\\n    </div>\\n</div>\\n<div class=\"lister-item mode-detail imdb-user-review  collapsable\" data-review-id=\"rw7399498\" data-vote-url=\"/title/tt2361509/review/rw7399498/vote/interesting\">\\n    <div class=\"review-container\">\\n        <div class=\"lister-item-content\">\\n    <div class=\"ipl-ratings-bar\">\\n            <span class=\"rating-other-user-rating\">\\n            <svg class=\"ipl-icon ipl-star-icon  \" xmlns=\"http://www.w3.org/2000/svg\" fill=\"#000000\" height=\"24\" viewBox=\"0 0 24 24\" width=\"24\">\\n                <path d=\"M0 0h24v24H0z\" fill=\"none\"/>\\n                <path d=\"M12 17.27L18.18 21l-1.64-7.03L22 9.24l-7.19-.61L12 2 9.19 8.63 2 9.24l5.46 4.73L5.82 21z\"/>\\n                <path d=\"M0 0h24v24H0z\" fill=\"none\"/>\\n            </svg>\\n                <span>2</span><span class=\"point-scale\">/10</span>\\n            </span>\\n    </div>\\n<a href=\"/review/rw7399498/?ref_=tt_urv\"\\nclass=\"title\" > She is the centre of the universe\\n</a>            <div class=\"display-name-date\">\\n                    <span class=\"display-name-link\"><a href=\"/user/ur56844078/?ref_=tt_urv\"\\n>juraj-jerkovic</a></span><span class=\"review-date\">2 October 2021</span>\\n            </div>\\n            <div class=\"content\">\\n                <div class=\"text show-more__control\">Thats what the film is about. And everyone should adapt their lives for her hapiness and success and be happy to do so. And thats what they do in the film. Its a 100% chick movie pampering to present female fantasies about life full of unrealistic characters. De Niro was interesting in the beginning but than he becomes the daddy who supports his special princess girl.</div>\\n                <div class=\"actions text-muted\">\\n                    3 out of 3 found this helpful.\\n                        <span>\\n                            Was this review helpful? <a href=\"/registration/signin?ref_=urv\"\\n> Sign in</a> to vote.\\n                        </span>\\n                        <br/>\\n                    <a href=\"/review/rw7399498/?ref_=tt_urv\"\\n>Permalink</a>\\n                </div>\\n            </div>\\n        </div>\\n        <div class=\"clear\"></div>\\n    </div>\\n    <div class=\"gradient-expander hidden show-more\">\\n        <div class=\"gradient-container show-more__control\"></div>\\n            <div class=\"gradient-footer\">\\n    <div class=\"ipl-expander \">\\n        <div class=\"ipl-expander__container\">\\n            <div class=\"expander-icon-wrapper show-more__control\">\\n                <svg class=\"ipl-expander__icon expander-icon \" width=\"12\" height=\"8\" viewBox=\"0 0 12 8\" xmlns=\"http://www.w3.org/2000/svg\">\\n                     <path d=\"M10.197 0L6 4.304 1.803 0 0 1.85 6 8l6-6.15\" fill=\"#2572B3\" fill-rule=\"evenodd\"/>\\n                </svg>\\n            </div>\\n        </div>\\n    </div>\\n            </div>\\n    </div>\\n</div>\\n<div class=\"lister-item mode-detail imdb-user-review  collapsable\" data-review-id=\"rw3371659\" data-vote-url=\"/title/tt2361509/review/rw3371659/vote/interesting\">\\n    <div class=\"review-container\">\\n        <div class=\"lister-item-content\">\\n    <div class=\"ipl-ratings-bar\">\\n            <span class=\"rating-other-user-rating\">\\n            <svg class=\"ipl-icon ipl-star-icon  \" xmlns=\"http://www.w3.org/2000/svg\" fill=\"#000000\" height=\"24\" viewBox=\"0 0 24 24\" width=\"24\">\\n                <path d=\"M0 0h24v24H0z\" fill=\"none\"/>\\n                <path d=\"M12 17.27L18.18 21l-1.64-7.03L22 9.24l-7.19-.61L12 2 9.19 8.63 2 9.24l5.46 4.73L5.82 21z\"/>\\n                <path d=\"M0 0h24v24H0z\" fill=\"none\"/>\\n            </svg>\\n                <span>1</span><span class=\"point-scale\">/10</span>\\n            </span>\\n    </div>\\n<a href=\"/review/rw3371659/?ref_=tt_urv\"\\nclass=\"title\" > Hail to capitalism\\n</a>            <div class=\"display-name-date\">\\n                    <span class=\"display-name-link\"><a href=\"/user/ur61708182/?ref_=tt_urv\"\\n>electricalhellfire</a></span><span class=\"review-date\">14 December 2015</span>\\n            </div>\\n            <div class=\"content\">\\n                <div class=\"text show-more__control\">Horrific movie. Shallow acting, shallow and predictable story and the whole thing is celebrating unsustainable business (all clothes of the company made in Bangladesh for sure) fused by shallow Hipster-Mutants, who are poisoning our cities today, stuck in front of their screens in generic lofts for work and for living. I don&#39;t get, why De Niro is gambling with his reputation the last decade and I don&#39;t get, why anybody should waste time and money for this retarded vision of a working life, bound to phones and displays (prominent product placement on the movie of course), doing &quot;customer service&quot;, while the real work is done by people in a prison of poverty. Get yourself a workshop, get yourself some dignity.</div>\\n                <div class=\"actions text-muted\">\\n                    51 out of 96 found this helpful.\\n                        <span>\\n                            Was this review helpful? <a href=\"/registration/signin?ref_=urv\"\\n> Sign in</a> to vote.\\n                        </span>\\n                        <br/>\\n                    <a href=\"/review/rw3371659/?ref_=tt_urv\"\\n>Permalink</a>\\n                </div>\\n            </div>\\n        </div>\\n        <div class=\"clear\"></div>\\n    </div>\\n    <div class=\"gradient-expander hidden show-more\">\\n        <div class=\"gradient-container show-more__control\"></div>\\n            <div class=\"gradient-footer\">\\n    <div class=\"ipl-expander \">\\n        <div class=\"ipl-expander__container\">\\n            <div class=\"expander-icon-wrapper show-more__control\">\\n                <svg class=\"ipl-expander__icon expander-icon \" width=\"12\" height=\"8\" viewBox=\"0 0 12 8\" xmlns=\"http://www.w3.org/2000/svg\">\\n                     <path d=\"M10.197 0L6 4.304 1.803 0 0 1.85 6 8l6-6.15\" fill=\"#2572B3\" fill-rule=\"evenodd\"/>\\n                </svg>\\n            </div>\\n        </div>\\n    </div>\\n            </div>\\n    </div>\\n</div>\\n<div class=\"lister-item mode-detail imdb-user-review  collapsable\" data-review-id=\"rw3323815\" data-vote-url=\"/title/tt2361509/review/rw3323815/vote/interesting\">\\n    <div class=\"review-container\">\\n        <div class=\"lister-item-content\">\\n    <div class=\"ipl-ratings-bar\">\\n            <span class=\"rating-other-user-rating\">\\n            <svg class=\"ipl-icon ipl-star-icon  \" xmlns=\"http://www.w3.org/2000/svg\" fill=\"#000000\" height=\"24\" viewBox=\"0 0 24 24\" width=\"24\">\\n                <path d=\"M0 0h24v24H0z\" fill=\"none\"/>\\n                <path d=\"M12 17.27L18.18 21l-1.64-7.03L22 9.24l-7.19-.61L12 2 9.19 8.63 2 9.24l5.46 4.73L5.82 21z\"/>\\n                <path d=\"M0 0h24v24H0z\" fill=\"none\"/>\\n            </svg>\\n                <span>9</span><span class=\"point-scale\">/10</span>\\n            </span>\\n    </div>\\n<a href=\"/review/rw3323815/?ref_=tt_urv\"\\nclass=\"title\" > A perfect mood setter, feel good movie!!\\n</a>            <div class=\"display-name-date\">\\n                    <span class=\"display-name-link\"><a href=\"/user/ur29372555/?ref_=tt_urv\"\\n>jay-techie2007</a></span><span class=\"review-date\">26 September 2015</span>\\n            </div>\\n            <div class=\"content\">\\n                <div class=\"text show-more__control\">The Intern brings you to the life of a 70 year old who doesn&#39;t want to live an average retired old man routine because he still feels he has music (metaphorically) left in him. So he takes up a senior intern job at an online fashion site with a completely different environment and people than what he has worked all his life. He meets the founder and while working with her, becomes her confidant and mentor. <br/><br/>Story (8/10): The story is simple and very well knit. It beautifully portrays how a Baby Boomer generation old school veteran brings peace and stability to a Millennial generation woman entrepreneur lost in the crazy and excruciatingly demanding business world. The characters have been well conceptualized and sketched. What is interesting to see is how a rapid fire, anxious, no non-sense, always on top of everything boss (Anne Hathaway) works with a composed, experienced, twice aged intern (Robert De Niro). Some of the scenes really touch your heart, especially the conversations between Anne Hathaway and Robert De Niro. I won&#39;t reveal it to spill the beans over here. At the end, it leaves you with some food for thought. <br/><br/>Acting (9/10): With stalwarts like Anne Hathaway and Robert De Niro, one doesn&#39;t really need to worry much about the acting. The simplicity of the story didn&#39;t demand high levels of acting either. However, Anne Hathaway and Robert De Niro does a great job at projecting the aspirations, principles, beliefs and challenges of both the generations on one plate, not just in terms of dialog delivery but also expressions. The supporting cast does a commendable job too with the available screen time. <br/><br/>Direction(9/10): Nancy Meyers had struggled a little in her earlier movies but have learnt lessons on romantic comedy well and has got it right this time. The Intern is, however, more of a comedy rather than romance. While the plot was quite average, her execution skills elevated the movie to a different level. I like the way she focused on projecting the synergies of two different generations working together rather than the friction which we normally see. This gave the entire movie a very feel good factor. She could have got away with some of the characters which would have kept the movie a little focused but overall a brilliant effort. <br/><br/>Overall (9/10): I watched this movie on a Saturday morning show and couldn&#39;t have asked for a better and positive start to the weekend. This movie is a mood setter and yes, it does it amazingly well. A definite watch for everyone.</div>\\n                <div class=\"actions text-muted\">\\n                    37 out of 76 found this helpful.\\n                        <span>\\n                            Was this review helpful? <a href=\"/registration/signin?ref_=urv\"\\n> Sign in</a> to vote.\\n                        </span>\\n                        <br/>\\n                    <a href=\"/review/rw3323815/?ref_=tt_urv\"\\n>Permalink</a>\\n                </div>\\n            </div>\\n        </div>\\n        <div class=\"clear\"></div>\\n    </div>\\n    <div class=\"gradient-expander hidden show-more\">\\n        <div class=\"gradient-container show-more__control\"></div>\\n            <div class=\"gradient-footer\">\\n    <div class=\"ipl-expander \">\\n        <div class=\"ipl-expander__container\">\\n            <div class=\"expander-icon-wrapper show-more__control\">\\n                <svg class=\"ipl-expander__icon expander-icon \" width=\"12\" height=\"8\" viewBox=\"0 0 12 8\" xmlns=\"http://www.w3.org/2000/svg\">\\n                     <path d=\"M10.197 0L6 4.304 1.803 0 0 1.85 6 8l6-6.15\" fill=\"#2572B3\" fill-rule=\"evenodd\"/>\\n                </svg>\\n            </div>\\n        </div>\\n    </div>\\n            </div>\\n    </div>\\n</div>\\n<div class=\"lister-item mode-detail imdb-user-review  collapsable\" data-review-id=\"rw5303898\" data-vote-url=\"/title/tt2361509/review/rw5303898/vote/interesting\">\\n    <div class=\"review-container\">\\n        <div class=\"lister-item-content\">\\n    <div class=\"ipl-ratings-bar\">\\n            <span class=\"rating-other-user-rating\">\\n            <svg class=\"ipl-icon ipl-star-icon  \" xmlns=\"http://www.w3.org/2000/svg\" fill=\"#000000\" height=\"24\" viewBox=\"0 0 24 24\" width=\"24\">\\n                <path d=\"M0 0h24v24H0z\" fill=\"none\"/>\\n                <path d=\"M12 17.27L18.18 21l-1.64-7.03L22 9.24l-7.19-.61L12 2 9.19 8.63 2 9.24l5.46 4.73L5.82 21z\"/>\\n                <path d=\"M0 0h24v24H0z\" fill=\"none\"/>\\n            </svg>\\n                <span>10</span><span class=\"point-scale\">/10</span>\\n            </span>\\n    </div>\\n<a href=\"/review/rw5303898/?ref_=tt_urv\"\\nclass=\"title\" > For Robert de Niro\\n</a>            <div class=\"display-name-date\">\\n                    <span class=\"display-name-link\"><a href=\"/user/ur74450833/?ref_=tt_urv\"\\n>menimpochtum</a></span><span class=\"review-date\">6 December 2019</span>\\n            </div>\\n            <div class=\"content\">\\n                <div class=\"text show-more__control\">Actually, I start love Robert de Niro after this movie. This movie I like. Always think about old peoples career and I need, I want to talk with like this person. And... Really really I love DeNiro. This movie soo so so good!</div>\\n                <div class=\"actions text-muted\">\\n                    18 out of 26 found this helpful.\\n                        <span>\\n                            Was this review helpful? <a href=\"/registration/signin?ref_=urv\"\\n> Sign in</a> to vote.\\n                        </span>\\n                        <br/>\\n                    <a href=\"/review/rw5303898/?ref_=tt_urv\"\\n>Permalink</a>\\n                </div>\\n            </div>\\n        </div>\\n        <div class=\"clear\"></div>\\n    </div>\\n    <div class=\"gradient-expander hidden show-more\">\\n        <div class=\"gradient-container show-more__control\"></div>\\n            <div class=\"gradient-footer\">\\n    <div class=\"ipl-expander \">\\n        <div class=\"ipl-expander__container\">\\n            <div class=\"expander-icon-wrapper show-more__control\">\\n                <svg class=\"ipl-expander__icon expander-icon \" width=\"12\" height=\"8\" viewBox=\"0 0 12 8\" xmlns=\"http://www.w3.org/2000/svg\">\\n                     <path d=\"M10.197 0L6 4.304 1.803 0 0 1.85 6 8l6-6.15\" fill=\"#2572B3\" fill-rule=\"evenodd\"/>\\n                </svg>\\n            </div>\\n        </div>\\n    </div>\\n            </div>\\n    </div>\\n</div>\\n<div class=\"lister-item mode-detail imdb-user-review  with-spoiler\" data-review-id=\"rw4438329\" data-vote-url=\"/title/tt2361509/review/rw4438329/vote/interesting\">\\n    <div class=\"review-container\">\\n        <div class=\"lister-item-content\">\\n    <div class=\"ipl-ratings-bar\">\\n            <span class=\"rating-other-user-rating\">\\n            <svg class=\"ipl-icon ipl-star-icon  \" xmlns=\"http://www.w3.org/2000/svg\" fill=\"#000000\" height=\"24\" viewBox=\"0 0 24 24\" width=\"24\">\\n                <path d=\"M0 0h24v24H0z\" fill=\"none\"/>\\n                <path d=\"M12 17.27L18.18 21l-1.64-7.03L22 9.24l-7.19-.61L12 2 9.19 8.63 2 9.24l5.46 4.73L5.82 21z\"/>\\n                <path d=\"M0 0h24v24H0z\" fill=\"none\"/>\\n            </svg>\\n                <span>10</span><span class=\"point-scale\">/10</span>\\n            </span>\\n    </div>\\n<a href=\"/review/rw4438329/?ref_=tt_urv\"\\nclass=\"title\" > I STILL HAVE THE MUSIC IN ME\\n</a>            <div class=\"display-name-date\">\\n                    <span class=\"display-name-link\"><a href=\"/user/ur77881167/?ref_=tt_urv\"\\n>nogodnomasters</a></span><span class=\"review-date\">4 November 2018</span>\\n            </div>\\n                <span class=\"spoiler-warning\">Warning: Spoilers</span>\\n    <div class=\"ipl-expander \">\\n        <div class=\"ipl-expander__container\">\\n            <div class=\"expander-icon-wrapper spoiler-warning__control\">\\n                <svg class=\"ipl-expander__icon expander-icon \" width=\"12\" height=\"8\" viewBox=\"0 0 12 8\" xmlns=\"http://www.w3.org/2000/svg\">\\n                     <path d=\"M10.197 0L6 4.304 1.803 0 0 1.85 6 8l6-6.15\" fill=\"#2572B3\" fill-rule=\"evenodd\"/>\\n                </svg>\\n            </div>\\n        </div>\\n    </div>\\n            <div class=\"content\">\\n                <div class=\"text show-more__control\">Ben (Robert De Niro) is 70 and retired. He answers an ad for an Intern for a start up E-company that sells women&#39;s clothes. He says, &quot;I still have music in me.&quot; He quickly becomes an asset to the company and founder Jules Austin (Anne Hathaway) in a film formula way.<br/><br/>Yes, the light comedy is predictable. It is a good date night film and it does turn into a romance as I once heard &quot;All the best pictures are romances.&quot; It is a feel good film that was well acted, directed, and written. One of the better of the plethora of films De Niro has done in the last few years And sometimes a feel good film is all we want.<br/><br/>Guide: 3 F-bombs (one texted). No sex or nudity.</div>\\n                <div class=\"actions text-muted\">\\n                    5 out of 9 found this helpful.\\n                        <span>\\n                            Was this review helpful? <a href=\"/registration/signin?ref_=urv\"\\n> Sign in</a> to vote.\\n                        </span>\\n                        <br/>\\n                    <a href=\"/review/rw4438329/?ref_=tt_urv\"\\n>Permalink</a>\\n                </div>\\n            </div>\\n        </div>\\n        <div class=\"clear\"></div>\\n    </div>\\n</div>\\n<div class=\"lister-item mode-detail imdb-user-review  collapsable\" data-review-id=\"rw7767357\" data-vote-url=\"/title/tt2361509/review/rw7767357/vote/interesting\">\\n    <div class=\"review-container\">\\n        <div class=\"lister-item-content\">\\n    <div class=\"ipl-ratings-bar\">\\n            <span class=\"rating-other-user-rating\">\\n            <svg class=\"ipl-icon ipl-star-icon  \" xmlns=\"http://www.w3.org/2000/svg\" fill=\"#000000\" height=\"24\" viewBox=\"0 0 24 24\" width=\"24\">\\n                <path d=\"M0 0h24v24H0z\" fill=\"none\"/>\\n                <path d=\"M12 17.27L18.18 21l-1.64-7.03L22 9.24l-7.19-.61L12 2 9.19 8.63 2 9.24l5.46 4.73L5.82 21z\"/>\\n                <path d=\"M0 0h24v24H0z\" fill=\"none\"/>\\n            </svg>\\n                <span>4</span><span class=\"point-scale\">/10</span>\\n            </span>\\n    </div>\\n<a href=\"/review/rw7767357/?ref_=tt_urv\"\\nclass=\"title\" > No conflict. Plastic characters living in Pleasantville\\n</a>            <div class=\"display-name-date\">\\n                    <span class=\"display-name-link\"><a href=\"/user/ur33882602/?ref_=tt_urv\"\\n>trudithnjudith</a></span><span class=\"review-date\">17 January 2022</span>\\n            </div>\\n            <div class=\"content\">\\n                <div class=\"text show-more__control\">My main problem with this movie is that it has no conflict until the 1h:25min mark and even then the conflict is underplayed and quickly resolved with no effort. And since there&#39;s no conflict what&#39;s the point? Not even the greatness of Robert de Niro can boost this movie to more than a 4/10. All the characters are perfect, plastic people, and everything is constant sunshine. This movie should be categorized as a fantasy because there&#39;s barely a drop of real life in it. This is the film equivalent of elevator music.</div>\\n                <div class=\"actions text-muted\">\\n                    5 out of 6 found this helpful.\\n                        <span>\\n                            Was this review helpful? <a href=\"/registration/signin?ref_=urv\"\\n> Sign in</a> to vote.\\n                        </span>\\n                        <br/>\\n                    <a href=\"/review/rw7767357/?ref_=tt_urv\"\\n>Permalink</a>\\n                </div>\\n            </div>\\n        </div>\\n        <div class=\"clear\"></div>\\n    </div>\\n    <div class=\"gradient-expander hidden show-more\">\\n        <div class=\"gradient-container show-more__control\"></div>\\n            <div class=\"gradient-footer\">\\n    <div class=\"ipl-expander \">\\n        <div class=\"ipl-expander__container\">\\n            <div class=\"expander-icon-wrapper show-more__control\">\\n                <svg class=\"ipl-expander__icon expander-icon \" width=\"12\" height=\"8\" viewBox=\"0 0 12 8\" xmlns=\"http://www.w3.org/2000/svg\">\\n                     <path d=\"M10.197 0L6 4.304 1.803 0 0 1.85 6 8l6-6.15\" fill=\"#2572B3\" fill-rule=\"evenodd\"/>\\n                </svg>\\n            </div>\\n        </div>\\n    </div>\\n            </div>\\n    </div>\\n</div>\\n<div class=\"lister-item mode-detail imdb-user-review  collapsable\" data-review-id=\"rw5936530\" data-vote-url=\"/title/tt2361509/review/rw5936530/vote/interesting\">\\n    <div class=\"review-container\">\\n        <div class=\"lister-item-content\">\\n    <div class=\"ipl-ratings-bar\">\\n            <span class=\"rating-other-user-rating\">\\n            <svg class=\"ipl-icon ipl-star-icon  \" xmlns=\"http://www.w3.org/2000/svg\" fill=\"#000000\" height=\"24\" viewBox=\"0 0 24 24\" width=\"24\">\\n                <path d=\"M0 0h24v24H0z\" fill=\"none\"/>\\n                <path d=\"M12 17.27L18.18 21l-1.64-7.03L22 9.24l-7.19-.61L12 2 9.19 8.63 2 9.24l5.46 4.73L5.82 21z\"/>\\n                <path d=\"M0 0h24v24H0z\" fill=\"none\"/>\\n            </svg>\\n                <span>9</span><span class=\"point-scale\">/10</span>\\n            </span>\\n    </div>\\n<a href=\"/review/rw5936530/?ref_=tt_urv\"\\nclass=\"title\" > Mood lightning, cheerful and real- A must watch\\n</a>            <div class=\"display-name-date\">\\n                    <span class=\"display-name-link\"><a href=\"/user/ur73623367/?ref_=tt_urv\"\\n>ayushparasar</a></span><span class=\"review-date\">25 July 2020</span>\\n            </div>\\n            <div class=\"content\">\\n                <div class=\"text show-more__control\">It&#39;s a great watch and unusually real. You can easily relate to the characters specially if you&#39;ve ever in life been an intern, you&#39;ll feel the nostalgia when you see Robert de Niro&#39;s Ben Whittaker all lively and pumped when he&#39;s selected as a senior-intern under Anne Hathaway&#39;s Jules Ostin. Like every newbie at work, although he is not, he longs to get some tasks and help his mentor in every way possible. In the beginning you pity the 70-year-old retired and widowed Ben for being slightly neglected or ill-treated by the workaholic, passionate, never tiring, ambitious and successful Jules, but that is short lived and He wins her confidence and heart in a couple of days.<br/><br/>The whole movie revolves around Ben&#39;s life and how he cheers up everybody around him all the time with his cuteness and wisdom. The actors have done very decent work and you can easily gel in the movie and feel the life in it. The music too is very jovial and sets your mood from the first minute of the runtime. The movie presents some very important aspects of the society in a very subtle yet effective way like how a woman is prejudiced at work or as leaders, how the new generation boys in the pursuit of being cool no longer remain a gentleman, marriage life problems etc. A pinch of comedy here and there adds up to the fun content, and a few personal life tensions of Jules balances it very beautifully and how She comes out of it is remarkable and worth taking lessons from.<br/><br/>Overall a very good watch if you&#39;re looking to uplift your mood (which is always, because that&#39;s why people turn to movies).</div>\\n                <div class=\"actions text-muted\">\\n                    2 out of 2 found this helpful.\\n                        <span>\\n                            Was this review helpful? <a href=\"/registration/signin?ref_=urv\"\\n> Sign in</a> to vote.\\n                        </span>\\n                        <br/>\\n                    <a href=\"/review/rw5936530/?ref_=tt_urv\"\\n>Permalink</a>\\n                </div>\\n            </div>\\n        </div>\\n        <div class=\"clear\"></div>\\n    </div>\\n    <div class=\"gradient-expander hidden show-more\">\\n        <div class=\"gradient-container show-more__control\"></div>\\n            <div class=\"gradient-footer\">\\n    <div class=\"ipl-expander \">\\n        <div class=\"ipl-expander__container\">\\n            <div class=\"expander-icon-wrapper show-more__control\">\\n                <svg class=\"ipl-expander__icon expander-icon \" width=\"12\" height=\"8\" viewBox=\"0 0 12 8\" xmlns=\"http://www.w3.org/2000/svg\">\\n                     <path d=\"M10.197 0L6 4.304 1.803 0 0 1.85 6 8l6-6.15\" fill=\"#2572B3\" fill-rule=\"evenodd\"/>\\n                </svg>\\n            </div>\\n        </div>\\n    </div>\\n            </div>\\n    </div>\\n</div>\\n<div class=\"lister-item mode-detail imdb-user-review  collapsable\" data-review-id=\"rw8605037\" data-vote-url=\"/title/tt2361509/review/rw8605037/vote/interesting\">\\n    <div class=\"review-container\">\\n        <div class=\"lister-item-content\">\\n    <div class=\"ipl-ratings-bar\">\\n            <span class=\"rating-other-user-rating\">\\n            <svg class=\"ipl-icon ipl-star-icon  \" xmlns=\"http://www.w3.org/2000/svg\" fill=\"#000000\" height=\"24\" viewBox=\"0 0 24 24\" width=\"24\">\\n                <path d=\"M0 0h24v24H0z\" fill=\"none\"/>\\n                <path d=\"M12 17.27L18.18 21l-1.64-7.03L22 9.24l-7.19-.61L12 2 9.19 8.63 2 9.24l5.46 4.73L5.82 21z\"/>\\n                <path d=\"M0 0h24v24H0z\" fill=\"none\"/>\\n            </svg>\\n                <span>8</span><span class=\"point-scale\">/10</span>\\n            </span>\\n    </div>\\n<a href=\"/review/rw8605037/?ref_=tt_urv\"\\nclass=\"title\" > Shocked that I liked it\\n</a>            <div class=\"display-name-date\">\\n                    <span class=\"display-name-link\"><a href=\"/user/ur23635950/?ref_=tt_urv\"\\n>fingazmc</a></span><span class=\"review-date\">12 October 2022</span>\\n            </div>\\n            <div class=\"content\">\\n                <div class=\"text show-more__control\">This really isn&#39;t usual thing, I mean so far from what I&#39;d usually watch, but it&#39;s De Niro so I had to give it a try... And I loved it!<br/><br/>It was so heartwarming and feelgood, which is exactly what I need right now (my best mate passed away last night at 41).<br/><br/>De Niro is brilliant in this, the man really can play any character, I still think he&#39;s the number one actor in the world, (closely followed by Di Caprio) and Anne Hathaway was brilliant as well, she played the stuffy boss to a tee.<br/><br/>I don&#39;t like giving spoilers or passing off a synopsis as a review (which so many people on here do) but if you want a good, wholesome, sometimes funny and just overall nice 2 hours then definitely give this a watch, you might even shed a tear, but you&#39;ll come away feeling better for it.<br/><br/>Crack open a bevvy or a bottle of wine and enjoy, it&#39;s free on Prime right now...<br/><br/>8/10.</div>\\n                <div class=\"actions text-muted\">\\n                    2 out of 2 found this helpful.\\n                        <span>\\n                            Was this review helpful? <a href=\"/registration/signin?ref_=urv\"\\n> Sign in</a> to vote.\\n                        </span>\\n                        <br/>\\n                    <a href=\"/review/rw8605037/?ref_=tt_urv\"\\n>Permalink</a>\\n                </div>\\n            </div>\\n        </div>\\n        <div class=\"clear\"></div>\\n    </div>\\n    <div class=\"gradient-expander hidden show-more\">\\n        <div class=\"gradient-container show-more__control\"></div>\\n            <div class=\"gradient-footer\">\\n    <div class=\"ipl-expander \">\\n        <div class=\"ipl-expander__container\">\\n            <div class=\"expander-icon-wrapper show-more__control\">\\n                <svg class=\"ipl-expander__icon expander-icon \" width=\"12\" height=\"8\" viewBox=\"0 0 12 8\" xmlns=\"http://www.w3.org/2000/svg\">\\n                     <path d=\"M10.197 0L6 4.304 1.803 0 0 1.85 6 8l6-6.15\" fill=\"#2572B3\" fill-rule=\"evenodd\"/>\\n                </svg>\\n            </div>\\n        </div>\\n    </div>\\n            </div>\\n    </div>\\n</div>\\n    </div>\\n\\t\\t    <div class=\"load-more-data\" data-key=\"g4w6ddbmqyzdo6ic4oxwjnjyrlu44arz2mndd7peb7c76w35pjt6ubk5oa2f3njnb4dwvcjezwrxww6u47szb6j4npx3k\">\\n\\t\\t    </div>\\n\\t</div>\\n'"
      ]
     },
     "execution_count": 56,
     "metadata": {},
     "output_type": "execute_result"
    }
   ],
   "source": [
    "response.text"
   ]
  }
 ],
 "metadata": {
  "kernelspec": {
   "display_name": "base",
   "language": "python",
   "name": "python3"
  },
  "language_info": {
   "codemirror_mode": {
    "name": "ipython",
    "version": 3
   },
   "file_extension": ".py",
   "mimetype": "text/x-python",
   "name": "python",
   "nbconvert_exporter": "python",
   "pygments_lexer": "ipython3",
   "version": "3.10.6 | packaged by conda-forge | (main, Aug 22 2022, 20:38:29) [Clang 13.0.1 ]"
  },
  "orig_nbformat": 4,
  "vscode": {
   "interpreter": {
    "hash": "2568b31422f911d240befaa5e46dd782c4cc23ae238e6e2196b9786beeefb2a9"
   }
  }
 },
 "nbformat": 4,
 "nbformat_minor": 2
}
