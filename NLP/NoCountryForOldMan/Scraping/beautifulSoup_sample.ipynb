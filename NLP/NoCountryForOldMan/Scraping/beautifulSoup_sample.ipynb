{
 "cells": [
  {
   "cell_type": "code",
   "execution_count": null,
   "metadata": {},
   "outputs": [],
   "source": [
    "import os\n",
    "from time import sleep\n",
    "import requests\n",
    "from bs4 import BeautifulSoup\n",
    "import pandas as pd\n",
    "\n",
    "url = '긁어올 주소'\n",
    "\n",
    "# Download the webpage content\n",
    "response = requests.get(url)\n",
    "html_content = response.text\n",
    "\n",
    "# Parse the HTML content with BeautifulSoup\n",
    "soup = BeautifulSoup(html_content, 'html.parser')\n",
    "\n",
    "# Locate the reviewer elements using BeautifulSoup\n",
    "reviewer_elements = soup.find_all('div', class_='css-eldyae e10cf2lr1')\n",
    "\n",
    "# Extract reviewer information\n",
    "reviewers_lst = [element.get_text() for element in reviewer_elements]\n",
    "\n",
    "# Print the list of reviewers\n",
    "print(reviewers_lst)\n"
   ]
  }
 ],
 "metadata": {
  "kernelspec": {
   "display_name": "base",
   "language": "python",
   "name": "python3"
  },
  "language_info": {
   "name": "python",
   "version": "3.10.6 | packaged by conda-forge | (main, Aug 22 2022, 20:38:29) [Clang 13.0.1 ]"
  },
  "orig_nbformat": 4,
  "vscode": {
   "interpreter": {
    "hash": "2568b31422f911d240befaa5e46dd782c4cc23ae238e6e2196b9786beeefb2a9"
   }
  }
 },
 "nbformat": 4,
 "nbformat_minor": 2
}
