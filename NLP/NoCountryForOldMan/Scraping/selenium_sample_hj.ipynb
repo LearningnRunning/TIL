{
 "cells": [
  {
   "cell_type": "code",
   "execution_count": 2,
   "metadata": {},
   "outputs": [
    {
     "name": "stderr",
     "output_type": "stream",
     "text": [
      "<ipython-input-2-495623b0e481>:25: DeprecationWarning: executable_path has been deprecated, please pass in a Service object\n",
      "  driver = webdriver.Chrome(chromedriver_path, chrome_options=options)\n",
      "<ipython-input-2-495623b0e481>:25: DeprecationWarning: use options instead of chrome_options\n",
      "  driver = webdriver.Chrome(chromedriver_path, chrome_options=options)\n"
     ]
    }
   ],
   "source": [
    "import os\n",
    "from time import sleep\n",
    "\n",
    "\n",
    "from selenium import webdriver\n",
    "from selenium.webdriver.common.by import By\n",
    "from selenium.webdriver.support.ui import WebDriverWait\n",
    "from selenium.webdriver.support import expected_conditions as EC\n",
    "import pandas as pd\n",
    "\n",
    "\n",
    "from selenium.webdriver.common.keys import Keys\n",
    "from selenium.common.exceptions import NoSuchElementException\n",
    "from selenium.common.exceptions import ElementNotInteractableException\n",
    "from selenium.common.exceptions import StaleElementReferenceException\n",
    "from bs4 import BeautifulSoup\n",
    "\n",
    "##############################################################  ############\n",
    "##################### variable related selenium ##########################\n",
    "##########################################################################\n",
    "options = webdriver.ChromeOptions()\n",
    "# options.add_argument('headless')\n",
    "options.add_argument('lang=ko_KR')\n",
    "chromedriver_path = \"/Users/seongrok.kim/Github/CrawlerList/chromedriver\"\n",
    "driver = webdriver.Chrome(chromedriver_path, chrome_options=options)\n",
    "\n",
    "url = 'https://www.imdb.com/title/tt2361509/reviews?ref_=tt_urv'\n",
    "\n",
    "driver.get(url)"
   ]
  },
  {
   "attachments": {},
   "cell_type": "markdown",
   "metadata": {},
   "source": [
    "## selenium 스크래핑 방법\n",
    "### 둘의 차이 알기\n",
    "- 단일건 가져오기\n",
    "  - driver.find_element()\n",
    "- 리스트로 가져오기\n",
    "  - driver.find_elements()"
   ]
  },
  {
   "attachments": {},
   "cell_type": "markdown",
   "metadata": {},
   "source": [
    "## 평점이 비어있을 때 활용"
   ]
  },
  {
   "cell_type": "code",
   "execution_count": 17,
   "metadata": {},
   "outputs": [
    {
     "data": {
      "text/plain": [
       "25"
      ]
     },
     "execution_count": 17,
     "metadata": {},
     "output_type": "execute_result"
    }
   ],
   "source": [
    "review_container = driver.find_elements(\n",
    "        By.XPATH, f\"//div[@class='review-container']\"\n",
    "    )\n",
    "\n",
    "len(review_container)"
   ]
  },
  {
   "cell_type": "code",
   "execution_count": 29,
   "metadata": {},
   "outputs": [
    {
     "name": "stdout",
     "output_type": "stream",
     "text": [
      "If I ran my own studio and this was brought to me as something we made there would be hell to pay. A bunch of people would have to be off the lot by noon and whatever profits it made would go to finance a new Harmony Korine film as antidote to what we inflicted.\n",
      "\n",
      "Why is that? It's a simple, feel good movie after all about an aging man, widower, who lacks a story in life and enters the upbeat world of a younger woman. They secured a lovely presence in Hathaway, DeNiro in his usual mode; two faces, sea otter smile or frown.\n",
      "\n",
      "But it's such a cynical thing to take these people and reduce them in this way to make 'points'. It is feel good at the expense of all the other stuff, starting with laughs.\n",
      "\n",
      "A story about an old man afraid he doesn't have anywhere to fit and he's reduced to nanny and chaperone and wise adviser of the young. DeNiro feels comfortable in the role or he wouldn't be here, as if he has agreed with himself actor-wise to be that person.\n",
      "\n",
      "A story about a career-driven woman and her stay-at-home husband who abandoned his own career to raise family; when after feeling neglected he turns to an affair, the only insights we have is that he cheated and she shouldn't compromise her career, no others are really allowed her character. He is contrite by the end.\n",
      "\n",
      "We would be smacking our heads at all of this, at the old man stereotype if he was black. We would be aghast to see a housewife reduced to this perception of her. It dismays. To see stereotypes we would like chased away from our storytelling come in through the backdoor as values?\n",
      "\n",
      "It's social tinkering with roles, a bit like that Trainwreck. But indicative of the same tendency to reduce people as once plagued older films that we might would look back on their values as archaic. A revealing bit has three geeky twentysomethings lectured about men having been reduced to boys by a cultural shift as if this was a movie that was trying to see beyond reductions, but alas, restrained by how things really are. Anemic.\n",
      "17 out of 31 found this helpful. Was this review helpful? Sign in to vote.\n",
      "Permalink\n",
      "0\n"
     ]
    },
    {
     "data": {
      "text/plain": [
       "'리뷰없음'"
      ]
     },
     "execution_count": 29,
     "metadata": {},
     "output_type": "execute_result"
    }
   ],
   "source": [
    "# review_elements= review_container[0].find_elements(\n",
    "#         By.XPATH, f\"//div[@class='content']\"\n",
    "#     )\n",
    "content_div = review_container[-1].find_elements(By.CLASS_NAME, 'content')\n",
    "rating_div = review_container[-1].find_elements(By.CLASS_NAME, 'rating-other-user-rating')\n",
    "\n",
    "print(content_div[0].get_attribute('innerText'))\n",
    "print(len(rating_div))\n",
    "\n",
    "if len(rating_div) == 0:\n",
    "    rating_txt = '리뷰없음'\n",
    "else:\n",
    "    rating_txt = rating_div[0].get_attribute('innerText')\n",
    "\n",
    "rating_txt"
   ]
  },
  {
   "cell_type": "code",
   "execution_count": null,
   "metadata": {},
   "outputs": [],
   "source": []
  },
  {
   "cell_type": "code",
   "execution_count": null,
   "metadata": {},
   "outputs": [],
   "source": [
    "content_div"
   ]
  },
  {
   "cell_type": "code",
   "execution_count": 16,
   "metadata": {},
   "outputs": [
    {
     "data": {
      "text/plain": [
       "(13, 24)"
      ]
     },
     "execution_count": 16,
     "metadata": {},
     "output_type": "execute_result"
    }
   ],
   "source": [
    "# reviewer_element = driver.find_element(\n",
    "#         By.XPATH, f\"//div[@class='content']\"\n",
    "#     )\n",
    "\n",
    "reviewer_elements = driver.find_elements(\n",
    "        By.XPATH, f\"//div[@class='text show-more__control']\"\n",
    "    )\n",
    "\n",
    "reviewe_rating_elements = driver.find_elements(\n",
    "        By.XPATH, f\"//span[@class='rating-other-user-rating']\"\n",
    "    )\n",
    "# print(len(reviewer_element), len(reviewer_elements))\n",
    "\n",
    "len(reviewer_elements), len(reviewe_rating_elements)"
   ]
  },
  {
   "cell_type": "code",
   "execution_count": null,
   "metadata": {},
   "outputs": [],
   "source": [
    "reviewe_rating_elements"
   ]
  },
  {
   "attachments": {},
   "cell_type": "markdown",
   "metadata": {},
   "source": [
    "### 가져온 object를 텍스트화"
   ]
  },
  {
   "cell_type": "code",
   "execution_count": 10,
   "metadata": {},
   "outputs": [],
   "source": [
    "reviewer_element = reviewer_elements[0]"
   ]
  },
  {
   "cell_type": "code",
   "execution_count": 11,
   "metadata": {},
   "outputs": [
    {
     "name": "stdout",
     "output_type": "stream",
     "text": [
      "A retired 70-year-old widower, Ben (played by Robert De Niro), is bored with retired life. He applies to a be a senior intern at an online fashion retailer and gets the position. The founder of the company is Jules Ostin (Anne Hathaway), a tireless, driven, demanding, dynamic workaholic. Ben is made her intern, but this is a nominal role - she doesn't intend to give him work and it is just window dressing. However, Ben proves to be quite useful and, more than that, a source of support and wisdom.\n",
      "\n",
      "Good, and surprisingly so. I was expecting a farcical half-baked comedy about how an old guy rejoins the work force and struggles with modern gadgets and work processes. There are a few examples of that but the movie is far more than a story about generational differences. It's more a drama than a comedy, and is a good one too. There's themes of generational wisdom, not judging people by their age (or anything superficial) and making the most of people's talents. It's also a movie about starting over, and doing what you enjoy.\n",
      "\n",
      "Moreover, it's simply a nice story.\n",
      "\n",
      "Solid work by Robert De Niro in the lead role. He doesn't do bad performances, but that hasn't stopped him in the past from taking on roles and movies that are well below his standards. This is not one of those roles or movies. Sensitively played, and ideal for the role.\n",
      "\n",
      "Good work too by Anne Hathaway, who is very convincing as the go- getting entrepreneur.\n"
     ]
    }
   ],
   "source": [
    "reviewers = reviewer_element.get_attribute('innerText')\n",
    "print(reviewers)"
   ]
  },
  {
   "cell_type": "code",
   "execution_count": null,
   "metadata": {},
   "outputs": [],
   "source": [
    "reviewers_lst = [tmp_element.get_attribute('innerText') for tmp_element in reviewer_elements] "
   ]
  }
 ],
 "metadata": {
  "kernelspec": {
   "display_name": "env_deepface",
   "language": "python",
   "name": "python3"
  },
  "language_info": {
   "codemirror_mode": {
    "name": "ipython",
    "version": 3
   },
   "file_extension": ".py",
   "mimetype": "text/x-python",
   "name": "python",
   "nbconvert_exporter": "python",
   "pygments_lexer": "ipython3",
   "version": "3.8.15"
  },
  "orig_nbformat": 4,
  "vscode": {
   "interpreter": {
    "hash": "d3b0e2a4fa960a90302b91fc4d506350f25ef7b8529281581223186725bdb586"
   }
  }
 },
 "nbformat": 4,
 "nbformat_minor": 2
}
