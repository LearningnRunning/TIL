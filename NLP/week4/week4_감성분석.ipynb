{
 "cells": [
  {
   "attachments": {},
   "cell_type": "markdown",
   "id": "10f7ab07",
   "metadata": {},
   "source": [
    "# 네이버 api를 이용한 감정분석"
   ]
  },
  {
   "cell_type": "code",
   "execution_count": 38,
   "id": "fb24f47a",
   "metadata": {},
   "outputs": [],
   "source": [
    "import pandas as pd\n",
    "\n",
    "# Load the CSV file\n",
    "df = pd.read_csv('movie_review.csv', encoding='utf-8')\n"
   ]
  },
  {
   "cell_type": "code",
   "execution_count": 50,
   "id": "a2a1dff8",
   "metadata": {},
   "outputs": [
    {
     "data": {
      "text/html": [
       "<div>\n",
       "<style scoped>\n",
       "    .dataframe tbody tr th:only-of-type {\n",
       "        vertical-align: middle;\n",
       "    }\n",
       "\n",
       "    .dataframe tbody tr th {\n",
       "        vertical-align: top;\n",
       "    }\n",
       "\n",
       "    .dataframe thead th {\n",
       "        text-align: right;\n",
       "    }\n",
       "</style>\n",
       "<table border=\"1\" class=\"dataframe\">\n",
       "  <thead>\n",
       "    <tr style=\"text-align: right;\">\n",
       "      <th></th>\n",
       "      <th>작성자</th>\n",
       "      <th>댓글</th>\n",
       "      <th>댓글 좋아요</th>\n",
       "      <th>좋아요</th>\n",
       "      <th>댓글 싫어요</th>\n",
       "      <th>작성일</th>\n",
       "    </tr>\n",
       "  </thead>\n",
       "  <tbody>\n",
       "    <tr>\n",
       "      <th>0</th>\n",
       "      <td>신선호</td>\n",
       "      <td>격식있고, 품위있는 삶 속에서의 여유로움이 느껴졌다. 또한 은퇴후 70대지만 직업 ...</td>\n",
       "      <td>14</td>\n",
       "      <td>9</td>\n",
       "      <td>0</td>\n",
       "      <td>2020. 6. 9. 09:48</td>\n",
       "    </tr>\n",
       "    <tr>\n",
       "      <th>1</th>\n",
       "      <td>휴면 사용자</td>\n",
       "      <td>이렇게 마냥 대책없이 모든 게 다 잘되는 스토리가 그리울 때가 있다.</td>\n",
       "      <td>13</td>\n",
       "      <td>8</td>\n",
       "      <td>1</td>\n",
       "      <td>2020. 11. 10. 22:50</td>\n",
       "    </tr>\n",
       "    <tr>\n",
       "      <th>2</th>\n",
       "      <td>SmartBear</td>\n",
       "      <td>어떻게 늙어가야 하는지 나에게 그 모범답안을 보여준 영화!!</td>\n",
       "      <td>13</td>\n",
       "      <td>10</td>\n",
       "      <td>1</td>\n",
       "      <td>2020. 10. 21. 15:09</td>\n",
       "    </tr>\n",
       "    <tr>\n",
       "      <th>3</th>\n",
       "      <td>서지영</td>\n",
       "      <td>꼰대가 변화되는 영화인줄 알았는데 전혀 아니었음!!! \\n진정한 어른을 만나고 싶을...</td>\n",
       "      <td>12</td>\n",
       "      <td>10</td>\n",
       "      <td>0</td>\n",
       "      <td>2021. 2. 13. 13:36</td>\n",
       "    </tr>\n",
       "    <tr>\n",
       "      <th>4</th>\n",
       "      <td>휴면 사용자</td>\n",
       "      <td>최고의 영화네요..이걸 이제야 보다니.</td>\n",
       "      <td>11</td>\n",
       "      <td>10</td>\n",
       "      <td>1</td>\n",
       "      <td>2020. 10. 20. 03:30</td>\n",
       "    </tr>\n",
       "    <tr>\n",
       "      <th>...</th>\n",
       "      <td>...</td>\n",
       "      <td>...</td>\n",
       "      <td>...</td>\n",
       "      <td>...</td>\n",
       "      <td>...</td>\n",
       "      <td>...</td>\n",
       "    </tr>\n",
       "    <tr>\n",
       "      <th>1087</th>\n",
       "      <td>일마레</td>\n",
       "      <td>잔잔한 감동 영화</td>\n",
       "      <td>0</td>\n",
       "      <td>8</td>\n",
       "      <td>2</td>\n",
       "      <td>2020. 12. 8. 18:00</td>\n",
       "    </tr>\n",
       "    <tr>\n",
       "      <th>1088</th>\n",
       "      <td>수민맘</td>\n",
       "      <td>현실적으로 불가능한 로맨틱코미디네요. 늙은 상사같은 인턴과 대표의 만남이라니~일반 ...</td>\n",
       "      <td>0</td>\n",
       "      <td>6</td>\n",
       "      <td>2</td>\n",
       "      <td>2020. 11. 18. 18:22</td>\n",
       "    </tr>\n",
       "    <tr>\n",
       "      <th>1089</th>\n",
       "      <td>안온한하루</td>\n",
       "      <td>비현실성,  주제를 알 수 없는</td>\n",
       "      <td>0</td>\n",
       "      <td>3</td>\n",
       "      <td>3</td>\n",
       "      <td>2020. 3. 28. 22:53</td>\n",
       "    </tr>\n",
       "    <tr>\n",
       "      <th>1090</th>\n",
       "      <td>Returned rocker</td>\n",
       "      <td>로버트 형.....안습이야.....이런 개같은 감상주의 영화를 왜.......</td>\n",
       "      <td>0</td>\n",
       "      <td>0</td>\n",
       "      <td>3</td>\n",
       "      <td>2020. 1. 6. 00:51</td>\n",
       "    </tr>\n",
       "    <tr>\n",
       "      <th>1091</th>\n",
       "      <td>내가 너를 벌하리라</td>\n",
       "      <td>말끔히 정장에 인자인 미소의 주인공의 모습은 보기 좋았지만, 특별한 내용이 없고 뻔...</td>\n",
       "      <td>0</td>\n",
       "      <td>1</td>\n",
       "      <td>5</td>\n",
       "      <td>2021. 1. 11. 12:34</td>\n",
       "    </tr>\n",
       "  </tbody>\n",
       "</table>\n",
       "<p>1092 rows × 6 columns</p>\n",
       "</div>"
      ],
      "text/plain": [
       "                  작성자                                                 댓글  \\\n",
       "0                 신선호  격식있고, 품위있는 삶 속에서의 여유로움이 느껴졌다. 또한 은퇴후 70대지만 직업 ...   \n",
       "1              휴면 사용자             이렇게 마냥 대책없이 모든 게 다 잘되는 스토리가 그리울 때가 있다.   \n",
       "2           SmartBear                  어떻게 늙어가야 하는지 나에게 그 모범답안을 보여준 영화!!   \n",
       "3                 서지영  꼰대가 변화되는 영화인줄 알았는데 전혀 아니었음!!! \\n진정한 어른을 만나고 싶을...   \n",
       "4              휴면 사용자                              최고의 영화네요..이걸 이제야 보다니.   \n",
       "...               ...                                                ...   \n",
       "1087              일마레                                          잔잔한 감동 영화   \n",
       "1088              수민맘  현실적으로 불가능한 로맨틱코미디네요. 늙은 상사같은 인턴과 대표의 만남이라니~일반 ...   \n",
       "1089            안온한하루                                  비현실성,  주제를 알 수 없는   \n",
       "1090  Returned rocker        로버트 형.....안습이야.....이런 개같은 감상주의 영화를 왜.......   \n",
       "1091       내가 너를 벌하리라  말끔히 정장에 인자인 미소의 주인공의 모습은 보기 좋았지만, 특별한 내용이 없고 뻔...   \n",
       "\n",
       "      댓글 좋아요  좋아요  댓글 싫어요                  작성일  \n",
       "0         14    9       0    2020. 6. 9. 09:48  \n",
       "1         13    8       1  2020. 11. 10. 22:50  \n",
       "2         13   10       1  2020. 10. 21. 15:09  \n",
       "3         12   10       0   2021. 2. 13. 13:36  \n",
       "4         11   10       1  2020. 10. 20. 03:30  \n",
       "...      ...  ...     ...                  ...  \n",
       "1087       0    8       2   2020. 12. 8. 18:00  \n",
       "1088       0    6       2  2020. 11. 18. 18:22  \n",
       "1089       0    3       3   2020. 3. 28. 22:53  \n",
       "1090       0    0       3    2020. 1. 6. 00:51  \n",
       "1091       0    1       5   2021. 1. 11. 12:34  \n",
       "\n",
       "[1092 rows x 6 columns]"
      ]
     },
     "execution_count": 50,
     "metadata": {},
     "output_type": "execute_result"
    }
   ],
   "source": [
    "df"
   ]
  },
  {
   "cell_type": "code",
   "execution_count": 41,
   "id": "bfb5f239",
   "metadata": {},
   "outputs": [
    {
     "data": {
      "text/plain": [
       "'격식있고, 품위있는 삶 속에서의 여유로움이 느껴졌다. 또한 은퇴후 70대지만 직업 그리고 사랑에 대한 열정이 아직도 식지 않았음을  보여주며 과거의 명성에 머물러 있지않고 젊은이들과의 소통에도 적극적인 아주 이상적인 노년의삶이 그려진 영화~~~~~'"
      ]
     },
     "execution_count": 41,
     "metadata": {},
     "output_type": "execute_result"
    }
   ],
   "source": [
    "review_sample = df.loc[0,'댓글']\n",
    "review_sample"
   ]
  },
  {
   "attachments": {},
   "cell_type": "markdown",
   "id": "32b25ff8",
   "metadata": {},
   "source": [
    "# 키노출 조심!!"
   ]
  },
  {
   "cell_type": "code",
   "execution_count": 65,
   "id": "36f992e4",
   "metadata": {},
   "outputs": [],
   "source": [
    "import requests\n",
    "\n",
    "target_txt = \"그립다. 슬프다\"\n",
    "\n",
    "\n",
    "\n",
    "# 분석할 재료\n",
    "body_data = {\n",
    "    \"content\": target_txt\n",
    "    }\n",
    "\n",
    "# 주소\n",
    "sentiment_url = \"https://naveropenapi.apigw.ntruss.com/sentiment-analysis/v1/analyze\"\n",
    "\n",
    "sentiment_res = requests.post(sentiment_url, headers=headers, json=body_data)\n",
    "# data = sentiment_res.json()"
   ]
  },
  {
   "cell_type": "code",
   "execution_count": 52,
   "id": "f9d33387",
   "metadata": {},
   "outputs": [
    {
     "data": {
      "text/plain": [
       "200"
      ]
     },
     "execution_count": 52,
     "metadata": {},
     "output_type": "execute_result"
    }
   ],
   "source": [
    "sentiment_res.status_code"
   ]
  },
  {
   "cell_type": "code",
   "execution_count": 44,
   "id": "bad4bf68",
   "metadata": {},
   "outputs": [],
   "source": [
    "def sentiment_api_res(sentiment_res):\n",
    "    if sentiment_res.status_code == 200:\n",
    "        # print(\"success\")\n",
    "        response_data = sentiment_res.json()\n",
    "        data = sentiment_res.json()\n",
    "        result_document = data['document']\n",
    "        print(f\"아래 문장에 대한 감정분석 결과 \\n {body_data['content']}\")\n",
    "        print(result_document['confidence'])\n",
    "        print()\n",
    "        result_sentence = data['sentences']\n",
    "        for idx, item in enumerate(result_sentence):\n",
    "            content = item['content']\n",
    "            confidence = item['confidence']\n",
    "            print(f\"{idx} 번째 문장\")\n",
    "            print(\"Content:\", content)\n",
    "            print(\"Confidence:\", confidence)\n",
    "            print(\"\")\n",
    "    elif sentiment_res.status_code == 400:\n",
    "        response_data = sentiment_res.json()\n",
    "        error_code = response_data['error']['errorCode']\n",
    "        if error_code == 'E001':\n",
    "            print(\"빈 문자열 or blank 문자\")\n",
    "        elif error_code == 'E002':\n",
    "            print(\"UTF-8 인코딩 에러\")\n",
    "        elif error_code == 'E003':\n",
    "            print(\"문장이 기준치보다 초과 했을 경우\")\n",
    "        elif error_code == 'E103':\n",
    "            print(\"request body의 json format이 유효하지 않거나 필수 파라미터가 누락된 경우\")\n",
    "        elif error_code == 'E415':\n",
    "            print(\"content-type 에러\")\n",
    "        elif error_code == 'E900':\n",
    "            print(\"예외처리가 안된 경우(Bad Request)\")\n",
    "    elif sentiment_res.status_code == 500:\n",
    "        print(\"Internal error\")\n",
    "    else:\n",
    "        print(\"Unexpected status code:\", sentiment_res.status_code)\n",
    "        response_data = sentiment_res.json()\n",
    "        print(response_data)"
   ]
  },
  {
   "cell_type": "code",
   "execution_count": 54,
   "id": "c3bd57ee",
   "metadata": {},
   "outputs": [
    {
     "data": {
      "text/plain": [
       "'격식있고, 품위있는 삶 속에서의 여유로움이 느껴졌다. 또한 은퇴후 70대지만 직업 그리고 사랑에 대한 열정이 아직도 식지 않았음을  보여주며 과거의 명성에 머물러 있지않고 젊은이들과의 소통에도 적극적인 아주 이상적인 노년의삶이 그려진 영화~~~~~'"
      ]
     },
     "execution_count": 54,
     "metadata": {},
     "output_type": "execute_result"
    }
   ],
   "source": [
    "review_sample = df.loc[0,'댓글']\n",
    "review_sample"
   ]
  },
  {
   "cell_type": "code",
   "execution_count": 55,
   "id": "3021f766",
   "metadata": {},
   "outputs": [
    {
     "name": "stdout",
     "output_type": "stream",
     "text": [
      "아래 문장에 대한 감정분석 결과 \n",
      " 격식있고, 품위있는 삶 속에서의 여유로움이 느껴졌다. 또한 은퇴후 70대지만 직업 그리고 사랑에 대한 열정이 아직도 식지 않았음을  보여주며 과거의 명성에 머물러 있지않고 젊은이들과의 소통에도 적극적인 아주 이상적인 노년의삶이 그려진 영화~~~~~\n",
      "{'negative': 0.007470924, 'positive': 99.98057, 'neutral': 0.0119608715}\n",
      "\n",
      "0 번째 문장\n",
      "Content: 격식있고, 품위있는 삶 속에서의 여유로움이 느껴졌다.\n",
      "Confidence: {'negative': 8.111072e-06, 'positive': 0.9999771, 'neutral': 1.471799e-05}\n",
      "\n",
      "1 번째 문장\n",
      "Content:  또한 은퇴후 70대지만 직업 그리고 사랑에 대한 열정이 아직도 식지 않았음을  보여주며 과거의 명성에 머물러 있지않고 젊은이들과의 소통에도 적극적인 아주 이상적인 노년의삶이 그려진 영화~~~~~\n",
      "Confidence: {'negative': 0.0008883998, 'positive': 0.99769104, 'neutral': 0.0014205866}\n",
      "\n"
     ]
    }
   ],
   "source": [
    "body_data = {\n",
    "    \"content\": review_sample\n",
    "    }\n",
    "sentiment_res = requests.post(sentiment_url, headers=headers, json=body_data)\n",
    "sentiment_api_res(sentiment_res)"
   ]
  },
  {
   "cell_type": "code",
   "execution_count": 46,
   "id": "e8a5a5d4",
   "metadata": {},
   "outputs": [
    {
     "name": "stdout",
     "output_type": "stream",
     "text": [
      "아래 문장에 대한 감정분석 결과 \n",
      " 이렇게 마냥 대책없이 모든 게 다 잘되는 스토리가 그리울 때가 있다.\n",
      "{'negative': 99.98572, 'positive': 0.0054264637, 'neutral': 0.008852239}\n",
      "\n",
      "0 번째 문장\n",
      "Content: 이렇게 마냥 대책없이 모든 게 다 잘되는 스토리가 그리울 때가 있다.\n",
      "Confidence: {'negative': 0.99914324, 'positive': 0.0003255878, 'neutral': 0.0005311343}\n",
      "\n"
     ]
    }
   ],
   "source": [
    "body_data = {\n",
    "    \"content\": review_sample\n",
    "    }\n",
    "\n",
    "sentiment_res = requests.post(sentiment_url, headers=headers, json=body_data)\n",
    "sentiment_api_res(sentiment_res)"
   ]
  },
  {
   "cell_type": "code",
   "execution_count": 68,
   "id": "d3a594bf",
   "metadata": {},
   "outputs": [
    {
     "name": "stdout",
     "output_type": "stream",
     "text": [
      "아래 문장에 대한 감정분석 결과 \n",
      " 그립다. 슬프다\n",
      "{'negative': 85.66075, 'positive': 0.07937377, 'neutral': 14.2598715}\n",
      "\n",
      "0 번째 문장\n",
      "Content: 그립다.\n",
      "Confidence: {'negative': 0.0024066914, 'positive': 0.004339522, 'neutral': 0.99325377}\n",
      "\n",
      "1 번째 문장\n",
      "Content:  슬프다\n",
      "Confidence: {'negative': 0.9938461, 'positive': 0.0012166416, 'neutral': 0.0049372152}\n",
      "\n"
     ]
    }
   ],
   "source": [
    "sentiment_api_res(sentiment_res)"
   ]
  },
  {
   "cell_type": "code",
   "execution_count": 67,
   "id": "b93b724c",
   "metadata": {},
   "outputs": [
    {
     "data": {
      "text/plain": [
       "{'document': {'sentiment': 'negative',\n",
       "  'confidence': {'negative': 85.66075,\n",
       "   'positive': 0.07937377,\n",
       "   'neutral': 14.2598715}},\n",
       " 'sentences': [{'content': '그립다.',\n",
       "   'offset': 0,\n",
       "   'length': 4,\n",
       "   'sentiment': 'neutral',\n",
       "   'confidence': {'negative': 0.0024066914,\n",
       "    'positive': 0.004339522,\n",
       "    'neutral': 0.99325377},\n",
       "   'highlights': [{'offset': 0, 'length': 3}]},\n",
       "  {'content': ' 슬프다',\n",
       "   'offset': 4,\n",
       "   'length': 4,\n",
       "   'sentiment': 'negative',\n",
       "   'confidence': {'negative': 0.9938461,\n",
       "    'positive': 0.0012166416,\n",
       "    'neutral': 0.0049372152},\n",
       "   'highlights': [{'offset': 1, 'length': 3}]}]}"
      ]
     },
     "execution_count": 67,
     "metadata": {},
     "output_type": "execute_result"
    }
   ],
   "source": [
    "sentiment_res\n",
    "response_data = sentiment_res.json()\n",
    "data = sentiment_res.json()\n",
    "data"
   ]
  },
  {
   "cell_type": "code",
   "execution_count": 61,
   "id": "b4fbaf08",
   "metadata": {},
   "outputs": [],
   "source": [
    "sentiment_res\n",
    "response_data = sentiment_res.json()\n",
    "data = sentiment_res.json()"
   ]
  },
  {
   "cell_type": "code",
   "execution_count": 62,
   "id": "0a7c7e72",
   "metadata": {},
   "outputs": [
    {
     "data": {
      "text/plain": [
       "{'document': {'sentiment': 'neutral',\n",
       "  'confidence': {'negative': 5.103813,\n",
       "   'positive': 0.22298293,\n",
       "   'neutral': 94.6732}},\n",
       " 'sentences': [{'content': '그리울 때가 있다.',\n",
       "   'offset': 0,\n",
       "   'length': 10,\n",
       "   'sentiment': 'neutral',\n",
       "   'confidence': {'negative': 0.051038127,\n",
       "    'positive': 0.002229829,\n",
       "    'neutral': 0.946732},\n",
       "   'highlights': [{'offset': 0, 'length': 9}]}]}"
      ]
     },
     "execution_count": 62,
     "metadata": {},
     "output_type": "execute_result"
    }
   ],
   "source": [
    "data"
   ]
  },
  {
   "cell_type": "code",
   "execution_count": 60,
   "id": "e9d92988",
   "metadata": {},
   "outputs": [
    {
     "name": "stdout",
     "output_type": "stream",
     "text": [
      "아래 문장에 대한 감정분석 결과 \n",
      " 그리울 때가 있다.\n",
      "{'negative': 5.103813, 'positive': 0.22298293, 'neutral': 94.6732}\n",
      "\n",
      "0 번째 문장\n",
      "Content: 그리울 때가 있다.\n",
      "Confidence: {'negative': 0.051038127, 'positive': 0.002229829, 'neutral': 0.946732}\n",
      "\n"
     ]
    }
   ],
   "source": [
    "sentiment_api_res(sentiment_res)"
   ]
  },
  {
   "cell_type": "code",
   "execution_count": 49,
   "id": "7a945989",
   "metadata": {},
   "outputs": [
    {
     "name": "stdout",
     "output_type": "stream",
     "text": [
      "아래 문장에 대한 감정분석 결과 \n",
      " 꼰대가 변화되는 영화인줄 알았는데 전혀 아니었음!!! \n",
      "진정한 어른을 만나고 싶을때, \n",
      "멘토가 필요할때, \n",
      "위로와 응원이 필요할때,\n",
      "그리고 ...\n",
      "멋지게 나이들고 싶을때,\n",
      "어떤 어른이 되어야할까 생각하게 될때,\n",
      "한번씩 꺼내보면 좋을 따뜻한 영화.\n",
      "{'negative': 85.69033, 'positive': 0.35519958, 'neutral': 13.954473}\n",
      "\n",
      "0 번째 문장\n",
      "Content: 꼰대가 변화되는 영화인줄 알았는데 전혀 아니었음!!!\n",
      "Confidence: {'negative': 0.99783427, 'positive': 0.0006170332, 'neutral': 0.0015487489}\n",
      "\n",
      "1 번째 문장\n",
      "Content:  \n",
      "진정한 어른을 만나고 싶을때, \n",
      "멘토가 필요할때, \n",
      "위로와 응원이 필요할때,\n",
      "그리고 ...\n",
      "멋지게 나이들고 싶을때,\n",
      "어떤 어른이 되어야할까 생각하게 될때,\n",
      "한번씩 꺼내보면 좋을 따뜻한 영화.\n",
      "Confidence: {'negative': 0.0004887798, 'positive': 0.024246937, 'neutral': 0.9752643}\n",
      "\n"
     ]
    }
   ],
   "source": [
    "body_data = {\n",
    "    \"content\": review_sample\n",
    "    }\n",
    "sentiment_res = requests.post(sentiment_url, headers=headers, json=body_data)\n",
    "sentiment_api_res(sentiment_res)"
   ]
  }
 ],
 "metadata": {
  "kernelspec": {
   "display_name": "base",
   "language": "python",
   "name": "python3"
  },
  "language_info": {
   "codemirror_mode": {
    "name": "ipython",
    "version": 3
   },
   "file_extension": ".py",
   "mimetype": "text/x-python",
   "name": "python",
   "nbconvert_exporter": "python",
   "pygments_lexer": "ipython3",
   "version": "3.10.6"
  },
  "vscode": {
   "interpreter": {
    "hash": "2568b31422f911d240befaa5e46dd782c4cc23ae238e6e2196b9786beeefb2a9"
   }
  }
 },
 "nbformat": 4,
 "nbformat_minor": 5
}
