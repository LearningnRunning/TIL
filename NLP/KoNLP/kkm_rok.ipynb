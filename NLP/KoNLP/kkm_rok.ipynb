{
  "cells": [
    {
      "cell_type": "markdown",
      "metadata": {},
      "source": [
        "# 환경설정"
      ]
    },
    {
      "cell_type": "code",
      "execution_count": 1,
      "metadata": {
        "colab": {
          "base_uri": "https://localhost:8080/"
        },
        "id": "IPXNg1aAX2DT",
        "outputId": "11e5c92e-9f4d-4213-fc16-0d679cbdc198"
      },
      "outputs": [
        {
          "name": "stdout",
          "output_type": "stream",
          "text": [
            "Requirement already satisfied: konlpy in c:\\users\\max_s\\anaconda3\\lib\\site-packages (0.6.0)\n",
            "Requirement already satisfied: JPype1>=0.7.0 in c:\\users\\max_s\\anaconda3\\lib\\site-packages (from konlpy) (1.4.0)\n",
            "Requirement already satisfied: numpy>=1.6 in c:\\users\\max_s\\anaconda3\\lib\\site-packages (from konlpy) (1.21.5)\n",
            "Requirement already satisfied: lxml>=4.1.0 in c:\\users\\max_s\\anaconda3\\lib\\site-packages (from konlpy) (4.9.1)\n"
          ]
        }
      ],
      "source": [
        "!pip install konlpy"
      ]
    },
    {
      "cell_type": "code",
      "execution_count": 2,
      "metadata": {
        "id": "bCksFKMOY88e"
      },
      "outputs": [],
      "source": [
        "import re\n",
        "import pandas as pd\n",
        "import numpy as np\n",
        "import itertools\n",
        "from collections import Counter"
      ]
    },
    {
      "cell_type": "markdown",
      "metadata": {},
      "source": [
        "### 버전확인"
      ]
    },
    {
      "cell_type": "code",
      "execution_count": 3,
      "metadata": {
        "colab": {
          "base_uri": "https://localhost:8080/",
          "height": 35
        },
        "id": "tZNyZvJ0Welg",
        "outputId": "4dd85c23-b18e-4c74-e8d5-39bd1a7bf9c6"
      },
      "outputs": [
        {
          "data": {
            "text/plain": [
              "'0.6.0'"
            ]
          },
          "execution_count": 3,
          "metadata": {},
          "output_type": "execute_result"
        }
      ],
      "source": [
        "import warnings\n",
        "warnings.simplefilter(\"ignore\")\n",
        "\n",
        "import konlpy\n",
        "konlpy.__version__"
      ]
    },
    {
      "cell_type": "markdown",
      "metadata": {},
      "source": [
        "### KoNlp 설정\n",
        "- Mecab은 충돌나기 때문에 주석처리했음"
      ]
    },
    {
      "cell_type": "markdown",
      "metadata": {
        "id": "aDSYhaFrYi5C"
      },
      "source": [
        "- nouns : 명사 추출\n",
        "\n",
        "- morphs : 형태소 추출\n",
        "\n",
        "- pos : 품사 부착"
      ]
    },
    {
      "cell_type": "code",
      "execution_count": 4,
      "metadata": {
        "id": "NnKyjlktX8TK"
      },
      "outputs": [],
      "source": [
        "from konlpy.tag import *\n",
        "\n",
        "hannanum = Hannanum()\n",
        "kkma = Kkma()\n",
        "komoran = Komoran()\n",
        "# mecab = Mecab()\n",
        "okt = Okt()"
      ]
    },
    {
      "cell_type": "markdown",
      "metadata": {},
      "source": [
        "# 토큰화"
      ]
    },
    {
      "cell_type": "markdown",
      "metadata": {},
      "source": [
        "### 보존할 형태소 리스트"
      ]
    },
    {
      "cell_type": "markdown",
      "metadata": {},
      "source": [
        "[Kkma 형태소 분류표](https://www.notion.so/caa99ad4954642528b29c6ccd07965f5?v=154c84d4971c4efd83da1f78bb8602d1)"
      ]
    },
    {
      "cell_type": "code",
      "execution_count": 54,
      "metadata": {},
      "outputs": [],
      "source": [
        "pos_save_lst = [\n",
        "    'NNG',\n",
        "    'NNP',\n",
        "    'NNM',\n",
        "    'NR',\n",
        "    'NP',\n",
        "    'VV',\n",
        "    'VA',\n",
        "    'EFQ',\n",
        "    'EFO',\n",
        "    'EFA',\n",
        "    'EFI',\n",
        "    'EFR',\n",
        "    'ETN',\n",
        "    'MAG',\n",
        "    'XPN',\n",
        "    'XPV',\n",
        "    'XSN',\n",
        "    'XSV',\n",
        "    'XSA',\n",
        "    'XSM',\n",
        "    'XSO',\n",
        "    'XR',\n",
        "    'UN'\n",
        "    ]"
      ]
    },
    {
      "cell_type": "markdown",
      "metadata": {
        "id": "m41kkn8YZ7_e"
      },
      "source": [
        "### OKT 품사 및 형태소"
      ]
    },
    {
      "cell_type": "code",
      "execution_count": null,
      "metadata": {
        "colab": {
          "base_uri": "https://localhost:8080/"
        },
        "id": "g3eWzr0lZ6bo",
        "outputId": "5e469c96-5854-478a-876c-0b20419c3770"
      },
      "outputs": [],
      "source": [
        "okt.tagset"
      ]
    },
    {
      "cell_type": "markdown",
      "metadata": {},
      "source": [
        "### Kkma 사전 추가 방법\n",
        "- 아래 경로에 있는 형태소.dic 파일을 수정하면 된다.\n",
        "- C:\\Users\\max_s\\anaconda3\\Lib\\site-packages\\konlpy\\java\\dic\n",
        "- 추가한 이후에는 세션을 재시작해야한다.\n",
        "- 만약 재시작했는데도 추가가 되지 않는 것 같다면 사용하는 언어 버전이 추가한 언어타입인지 확인해야한다."
      ]
    },
    {
      "cell_type": "code",
      "execution_count": 18,
      "metadata": {},
      "outputs": [
        {
          "ename": "SyntaxError",
          "evalue": "(unicode error) 'unicodeescape' codec can't decode bytes in position 2-3: truncated \\UXXXXXXXX escape (Temp/ipykernel_127324/1286170530.py, line 1)",
          "output_type": "error",
          "traceback": [
            "\u001b[1;36m  File \u001b[1;32m\"C:\\Users\\max_s\\AppData\\Local\\Temp/ipykernel_127324/1286170530.py\"\u001b[1;36m, line \u001b[1;32m1\u001b[0m\n\u001b[1;33m    f = open(\"C:\\Users\\max_s\\anaconda3\\Lib\\site-packages\\konlpy\\java\\dic\\noun.dic\", \"a\")\u001b[0m\n\u001b[1;37m                                                                                  ^\u001b[0m\n\u001b[1;31mSyntaxError\u001b[0m\u001b[1;31m:\u001b[0m (unicode error) 'unicodeescape' codec can't decode bytes in position 2-3: truncated \\UXXXXXXXX escape\n"
          ]
        }
      ],
      "source": [
        "f = open(\"C:\\Users\\max_s\\anaconda3\\Lib\\site-packages\\konlpy\\java\\dic\\noun.dic\", \"a\")\n",
        "f.write(\"인분\"+\"/NNG\\n\")\n",
        "f.close()"
      ]
    },
    {
      "cell_type": "markdown",
      "metadata": {},
      "source": [
        "### 샘플 텍스트"
      ]
    },
    {
      "cell_type": "code",
      "execution_count": 94,
      "metadata": {},
      "outputs": [],
      "source": [
        "sampleTextList=[\n",
        "    '직원분들도 친절하시고 맛 좋음... 양대창 3인분 먹고 느끼해서 김치우동 하나 시켜먹었더니 개운... 짱 맛있음 ㅠㅠ 후식 소프트아이스크림까지 완벽^^~',\n",
        "    '상암동 맛집 가성비 최고 식사 안주 모두해결됩니다. 안드셔보셨다면 꼭 가보세요 강추',\n",
        "    '365일 할로윈 컨셉의 레스토랑이라는 점에서 한번 정도는 방문할 만 합니다. 테이블이 다 차지 않았지만 주방이 바쁘다는 이유로 음식이 늦게 나옵니다. 음식 맛은 보통 수준 이상을 기대하기 어렵습니다. 사진속의 리코타 샐러드는 리코타 치즈가 크림치즈보다도 너무 뻑뻑해서 야채와 어울리지 않았습니다. 피자 도우는 페스츄리 질감이었는데, 버터의 향이 강해서 피자치즈를 압도합니다. 먹을 때 가루도 많이 떨어집니다.',\n",
        "    '개운한 해장국 맛있네요. 친절한 직원들 덕분에 만족스러워요. 먹음직스럽다. 메뉴가 새롭다. 원두가 향기로워요. 건강에 해로울 거 같아요 그릇이 커다랗다',\n",
        "    '친구들이랑 가봤는대, 아이들이랑 가기 좋아요. 가족들이랑 가세요. 동료들이랑 회식하기 좋아요. 직원들이랑 친목다지니 좋아요 직장인들이 많아요.',\n",
        "    '원래는 신림 혼맛스시를 가려고 했는데 마침 리모델링 중이라, 전에 맛있게 먹은 기억이 있는 구루메치킨을 왔습니당 오늘의 사시미 퀄리티 여전히 훌륭하고 갈치속젓라구파스타 역시 최고예요 ;ㅅ;회는 2인분정도 시켰는데 같이 나온 전복 진짜 개맛있었어요.. 내장소스 충격적으로 맛있음 사케는 역시 해산물과 먹어야 제맛인 것 같아요!\\n\\n우니랑 단새우까지 추가로 시켜 먹었더니 초당옥수수를 서비스로 주셨어요우니,단새우 시키면 머리는 튀겨서 따로 나오는데 뭔가 1+1 같고 기분 좋았음 ㅋㅋ 맛도 있었구용!\\n우니, 단새우와 같이 나온 오이는 같이 먹는 거라 설명 들었는데 따로 먹는 게 더 나은 것 같아서 걍 피클처럼 먹었음..\\n\\n창가에 앉았는데 골목뷰라 이쁘진 않았지만 자연광 들어서 사진 잘 나옴!',\n",
        "    '파스타 종종 가는 곳입니다만 주문이 누락되어서 30분은 기다렸습니다.\\n문제는 직원들이 저랑 눈이 자주마주치고 30분가량된 손님이 식사를 안하고 있으면 와서 주문 여부를 물어봐야 하는게 기본이라 보는데 눈 미주쳐도 멀뚱멀뚱쳐다만 보시기에 메뉴 안나오냐 했더니 주문 누락되었다 하네요\\n전 입맛이 확 떨어져서 30분 동안 사람 앉혀놓고 뭐하는거냐 버럭 하고 나왔습니다.\\n구지 거기서 먹고 싶지는 않더라고요.\\n그래서 저는 완전 비추천 합니다',\n",
        "    '탕수육과 짜장면 양도 많고 맛도 있고 무료배달까지 항상 짜장면 먹을 때 짬뽕 국물이 먹고 싶은데 여기는 1000원 추가 짬뽕국물 먹을 수 있는 추가 메뉴가 좋네요 양도 꽤 되고 뜨근하게 맛있게 잘 먹었습니다.',# 봉평성 id**님의 리뷰 \n",
        "    '매운 족발이 엄청 맛있었고 양도 많네요. 서비스 막국수는 양 놀랐어요 서비스 수준이 아니라 메인처럼 와서 엄청 배불렀어요'\n",
        "    ]"
      ]
    },
    {
      "cell_type": "markdown",
      "metadata": {},
      "source": [
        "### 이모티콘 제거\n",
        "- Kkma 이모티콘 인식시 에러가 난다"
      ]
    },
    {
      "cell_type": "code",
      "execution_count": 65,
      "metadata": {},
      "outputs": [],
      "source": [
        "# 파생접미사(동사,형용사)\n",
        "derivedSuffix = ['XSA','XSV']\n",
        "\n",
        "# 일반명사, 고유명사, 수사, 대명사, 동사, 형용사, 어근\n",
        "spacingPos =['NNG', 'NNP', 'NR', 'NP', 'VV', 'VA','XR'] "
      ]
    },
    {
      "cell_type": "code",
      "execution_count": 104,
      "metadata": {},
      "outputs": [],
      "source": [
        "# 보존할 형태소\n",
        "pos_save_lst = [\n",
        "    'NNG','NNP','NNM','NR','NP',\n",
        "    'VV','VA','EFQ','EFO','EFA',\n",
        "    'EFI','EFR','ETN','VCN','ECD',\n",
        "    'MAG','XPN','XPV','XSN','XSV',\n",
        "    'XSA','XSM','XSO','XR','UN'\n",
        "    ]\n",
        "\n",
        "# 파생접미사(동사,형용사)\n",
        "derivedSuffix = ['XSA','XSV']\n",
        "\n",
        "# 일반명사, 고유명사, 수사, 대명사, 동사, 형용사, 어근\n",
        "spacingPos =['NNG', 'NNP', 'NR', 'NP', 'VV', 'VA','XR','MAG'] \n",
        "\n",
        "def deEmojify(text): #이모티콘 제거 함수\n",
        "    regrex_pattern = re.compile(pattern = \"[\"\n",
        "        u\"\\U0001F600-\\U0001F64F\"  # emoticons\n",
        "        u\"\\U0001F300-\\U0001F5FF\"  # symbols & pictographs\n",
        "        u\"\\U0001F680-\\U0001F6FF\"  # transport & map symbols\n",
        "        u\"\\U0001F1E0-\\U0001F1FF\"  # flags (iOS)\n",
        "        u\"\\U0001F1A0-\\U0001F9FF\"  # flags (iOS)\n",
        "                           \"]+\", flags = re.UNICODE)\n",
        "    return regrex_pattern.sub(r'',text)\n",
        "\n",
        "def tokenizer(text): #평서형처리 토큰화\n",
        "    text = deEmojify(text) #이모티콘 제거\n",
        "    \n",
        "    pos_tmp1 = kkma.pos(text)\n",
        "\n",
        "    lst_tmp1 = []\n",
        "    for i in pos_tmp1:\n",
        "        if i[1] in pos_save_lst: # 저장할 형태소만 고르는 조건\n",
        "            if i[1] in derivedSuffix: #접미사 처리\n",
        "                lst_tmp1.append((i[0]+'다@',i[1])) #평서형처리를 위한 '다'를 붙인다\n",
        "\n",
        "            elif i[1] in ['VV','VA']:\n",
        "                lst_tmp1.append((i[0]+\"다@\",i[1])) #평서형처리를 위한 '다'를 붙인다\n",
        "            else:\n",
        "                lst_tmp1.append(i) # 수정할 필요 없는 것은 그냥 추가\n",
        "    lst_tmp2 = []\n",
        "    for i in range(len(lst_tmp1)):\n",
        "        tmp = lst_tmp1[i]\n",
        "        if tmp[1] in set(pos_save_lst)-set(spacingPos): #접미사는 띄어쓰지 않는다\n",
        "            lst_tmp2.append(tmp[0])\n",
        "        elif tmp[1] in spacingPos: # 단어와 단어 사이는 띄어쓴다\n",
        "            lst_tmp2.append(\" \"+tmp[0]) #나머지는 앞부분을 띄어준다\n",
        "    return \"\".join(lst_tmp2).split('@')[:-1]"
      ]
    },
    {
      "cell_type": "code",
      "execution_count": 86,
      "metadata": {},
      "outputs": [
        {
          "data": {
            "text/plain": [
              "{'EFA',\n",
              " 'EFI',\n",
              " 'EFO',\n",
              " 'EFQ',\n",
              " 'EFR',\n",
              " 'ETN',\n",
              " 'MAG',\n",
              " 'NNM',\n",
              " 'UN',\n",
              " 'XPN',\n",
              " 'XPV',\n",
              " 'XSA',\n",
              " 'XSM',\n",
              " 'XSN',\n",
              " 'XSO',\n",
              " 'XSV'}"
            ]
          },
          "execution_count": 86,
          "metadata": {},
          "output_type": "execute_result"
        }
      ],
      "source": [
        "set(pos_save_lst)-set(spacingPos)"
      ]
    },
    {
      "cell_type": "code",
      "execution_count": 96,
      "metadata": {},
      "outputs": [
        {
          "data": {
            "text/plain": [
              "'매운 족발이 엄청 맛있었고 양도 많네요. 서비스 막국수는 양 놀랐어요 서비스 수준이 아니라 메인처럼 와서 엄청 배불렀어요'"
            ]
          },
          "execution_count": 96,
          "metadata": {},
          "output_type": "execute_result"
        }
      ],
      "source": [
        "tmp = deEmojify(sampleTextList[-1])\n",
        "tmp"
      ]
    },
    {
      "cell_type": "code",
      "execution_count": 97,
      "metadata": {},
      "outputs": [
        {
          "data": {
            "text/plain": [
              "[('맵', 'VA'),\n",
              " ('ㄴ', 'ETD'),\n",
              " ('족발', 'NNG'),\n",
              " ('이', 'JKS'),\n",
              " ('엄청', 'MAG'),\n",
              " ('맛있', 'VA'),\n",
              " ('었', 'EPT'),\n",
              " ('고', 'ECE'),\n",
              " ('양도', 'NNG'),\n",
              " ('많', 'VA'),\n",
              " ('네요', 'EFN'),\n",
              " ('.', 'SF'),\n",
              " ('서비스', 'NNG'),\n",
              " ('막국수', 'NNG'),\n",
              " ('는', 'JX'),\n",
              " ('양', 'NNG'),\n",
              " ('놀라', 'VV'),\n",
              " ('었', 'EPT'),\n",
              " ('어요', 'EFN'),\n",
              " ('서비스', 'NNG'),\n",
              " ('수준', 'NNG'),\n",
              " ('이', 'JKC'),\n",
              " ('아니', 'VCN'),\n",
              " ('라', 'ECD'),\n",
              " ('메인', 'NNG'),\n",
              " ('처럼', 'JKM'),\n",
              " ('오', 'VV'),\n",
              " ('아서', 'ECD'),\n",
              " ('엄청', 'MAG'),\n",
              " ('배부르', 'VA'),\n",
              " ('었', 'EPT'),\n",
              " ('어요', 'EFN')]"
            ]
          },
          "execution_count": 97,
          "metadata": {},
          "output_type": "execute_result"
        }
      ],
      "source": [
        "kkma.pos(tmp)"
      ]
    },
    {
      "cell_type": "code",
      "execution_count": 105,
      "metadata": {},
      "outputs": [
        {
          "name": "stdout",
          "output_type": "stream",
          "text": [
            "매운 족발이 엄청 맛있었고 양도 많네요. 서비스 막국수는 양 놀랐어요 서비스 수준이 아니라 메인처럼 와서 엄청 배불렀어요\n"
          ]
        },
        {
          "data": {
            "text/plain": [
              "[' 맵다',\n",
              " ' 족발 엄청 맛있다',\n",
              " ' 양도 많다',\n",
              " ' 서비스 막국수 양 놀라다',\n",
              " ' 서비스 수준아니라 메인 오다',\n",
              " '아서 엄청 배부르다']"
            ]
          },
          "execution_count": 105,
          "metadata": {},
          "output_type": "execute_result"
        }
      ],
      "source": [
        "# kkma.pos(test_txt0)\n",
        "tmp = tokenizer(sampleTextList[-1])\n",
        "print(sampleTextList[-1])\n",
        "tmp"
      ]
    }
  ],
  "metadata": {
    "colab": {
      "collapsed_sections": [],
      "name": "kkm_rok.ipynb",
      "provenance": [],
      "toc_visible": true
    },
    "kernelspec": {
      "display_name": "Python 3.9.7 ('base')",
      "language": "python",
      "name": "python3"
    },
    "language_info": {
      "codemirror_mode": {
        "name": "ipython",
        "version": 3
      },
      "file_extension": ".py",
      "mimetype": "text/x-python",
      "name": "python",
      "nbconvert_exporter": "python",
      "pygments_lexer": "ipython3",
      "version": "3.9.13"
    },
    "vscode": {
      "interpreter": {
        "hash": "605192d1bf6088d93e0a94bc035f487c9fe861673b2d7b3adeaf97eccf80198f"
      }
    }
  },
  "nbformat": 4,
  "nbformat_minor": 0
}
