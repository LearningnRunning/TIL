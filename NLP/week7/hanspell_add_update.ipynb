{
 "cells": [
  {
   "attachments": {},
   "cell_type": "markdown",
   "id": "16d6d6b0",
   "metadata": {},
   "source": [
    "# 한글 맞춤법 검사기"
   ]
  },
  {
   "cell_type": "code",
   "execution_count": 2,
   "id": "2b927c5b",
   "metadata": {},
   "outputs": [
    {
     "name": "stdout",
     "output_type": "stream",
     "text": [
      "나만 탓하지 말고\n"
     ]
    }
   ],
   "source": [
    "# First, install the Hanspell library\n",
    "# pip install hanspell\n",
    "import requests\n",
    "from hanspell import spell_checker\n",
    "\n",
    "text = \"나만 탓 하지 말고\"\n",
    "\n",
    "# Perform spelling and spacing checks\n",
    "checked_text = spell_checker.check(text)\n",
    "\n",
    "# Print the corrected text\n",
    "print(checked_text.checked)\n"
   ]
  },
  {
   "attachments": {},
   "cell_type": "markdown",
   "id": "b6dbd20e",
   "metadata": {},
   "source": [
    "# 토큰얻기"
   ]
  },
  {
   "cell_type": "code",
   "execution_count": 33,
   "id": "43ad15d5",
   "metadata": {},
   "outputs": [
    {
     "data": {
      "text/plain": [
       "'179f7fbc7a68353c4ad9085aad9fac4590b464ab'"
      ]
     },
     "execution_count": 33,
     "metadata": {},
     "output_type": "execute_result"
    }
   ],
   "source": [
    "import re\n",
    "from urllib import parse\n",
    "from cachetools import TTLCache\n",
    "cache = TTLCache(maxsize = 10, ttl = 3600)\n",
    "\n",
    "_agent = requests.Session()\n",
    "\n",
    "def update_token(agent):\n",
    "\n",
    "    html = agent.get(url='https://search.naver.com/search.naver?where=nexearch&sm=top_hty&fbm=1&ie=utf8&query=맞춤법검사기') \n",
    "\n",
    "    match = re.search('passportKey=([a-zA-Z0-9]+)', html.text)\n",
    "    if match is not None:\n",
    "        TOKEN = parse.unquote(match.group(1))\n",
    "        cache['PASSPORT_TOKEN'] = TOKEN\n",
    "    return TOKEN\n",
    "\n",
    "TOKEN = update_token(_agent)"
   ]
  },
  {
   "attachments": {},
   "cell_type": "markdown",
   "id": "539306ce",
   "metadata": {},
   "source": [
    "# naver 번역기"
   ]
  },
  {
   "cell_type": "code",
   "execution_count": 34,
   "id": "37067dfa",
   "metadata": {},
   "outputs": [],
   "source": [
    "import requests\n",
    "\n",
    "cookies = {\n",
    "    'NNB': 'A6PC4KDSP3MGG',\n",
    "    'ASID': 'de6c5516000001862743c06300000054',\n",
    "    'm_loc': '5f72f0185546b515e5993db7d66745969cad77caad89d5411d6bf522a75bd6e4',\n",
    "    'NV_WETR_LAST_ACCESS_RGN_M': '\"MDk1MzA1NjA=\"',\n",
    "    'NV_WETR_LOCATION_RGN_M': '\"MDk1MzA1NjA=\"',\n",
    "    'nx_ssl': '2',\n",
    "    '_gcl_au': '1.1.556554365.1697554885',\n",
    "    '_fbp': 'fb.1.1697554885941.1150129401',\n",
    "    '_ga': 'GA1.1.1537800953.1676622115',\n",
    "    'nid_inf': '-1528847136',\n",
    "    'NID_AUT': 'JBJmz3ykRD54yEvi4DLrlLuu+R2cll9QMaki+uPgt8uiEd3EAGeZc0zut1t/zuZc',\n",
    "    'NID_JKL': 'EzL1layrMnseuEYIomg2PoGLIyikS7sIE1LKD7sfhog=',\n",
    "    '_ga_2VETB0KW2K': 'GS1.1.1697554886.1.1.1697555024.0.0.0',\n",
    "    'NID_SES': 'AAABvOV4BxG9YBVVGus9zVqt9nCUlIdxyNHSfeahwDDDGJLStovu7Br02mi5JGpi8yBetGnc9XjM03r8ref37wBDK2eTqdOCjGO3QXgq7B45LUeuqfynBYjDe32M4LLf8ACcF54YVCJ0mBaFCqd8VGzG6Y9+1iL9BK0LJaOXcm77dLKVl16NdycMnB7MwgEUKYkUe6ygyrCfBWeOBPoUSvGX7B5ue8T++Sgq4PoVtnUagoa5yBhRNMjDvXVHWrpWtHd+bSFthPz9UtjZEsr55xninnj3+u0umSIq1IGYZd6trtbMv+Jl6vGE1UQMTrNi/Dygl4EA6F1NoHELjUbjNtVe3tTmwo9bxF/s8jFAVD26pzAMfM61A1S0/3E26Wd7y9cA4Wa0NtBWBB0rDI4wKFNjZrWBB3wVS3RbtmPdfYMMcJAJyVHgBv3CGewxmFNt+ZRzPOuVVHo6FQ71TAwghhoSabFKLULtG07gBYXvcIrFYHnlzQzTZg1PoUGTvjiC1DEs+ikAW2WeeBXR/58x22ycoFsGJHhpiaag6vw1epHgXB7nFFAhB8SmOCf6qwAw9CtMCnmRW2U2Ty6cz1rwEuRBRvY=',\n",
    "    '_naver_usersession_': '1g+LGI9Wfsgm7ypTBV91CANK',\n",
    "    'page_uid': 'igm9gwqVOsCssd/tTphssssssAo-159358',\n",
    "}\n",
    "\n",
    "headers = {\n",
    "    'authority': 'm.search.naver.com',\n",
    "    'accept': '*/*',\n",
    "    'accept-language': 'ko-KR,ko;q=0.9,en-US;q=0.8,en;q=0.7,ja;q=0.6',\n",
    "    # 'cookie': 'NNB=A6PC4KDSP3MGG; ASID=de6c5516000001862743c06300000054; m_loc=5f72f0185546b515e5993db7d66745969cad77caad89d5411d6bf522a75bd6e4; NV_WETR_LAST_ACCESS_RGN_M=\"MDk1MzA1NjA=\"; NV_WETR_LOCATION_RGN_M=\"MDk1MzA1NjA=\"; nx_ssl=2; _gcl_au=1.1.556554365.1697554885; _fbp=fb.1.1697554885941.1150129401; _ga=GA1.1.1537800953.1676622115; nid_inf=-1528847136; NID_AUT=JBJmz3ykRD54yEvi4DLrlLuu+R2cll9QMaki+uPgt8uiEd3EAGeZc0zut1t/zuZc; NID_JKL=EzL1layrMnseuEYIomg2PoGLIyikS7sIE1LKD7sfhog=; _ga_2VETB0KW2K=GS1.1.1697554886.1.1.1697555024.0.0.0; NID_SES=AAABvOV4BxG9YBVVGus9zVqt9nCUlIdxyNHSfeahwDDDGJLStovu7Br02mi5JGpi8yBetGnc9XjM03r8ref37wBDK2eTqdOCjGO3QXgq7B45LUeuqfynBYjDe32M4LLf8ACcF54YVCJ0mBaFCqd8VGzG6Y9+1iL9BK0LJaOXcm77dLKVl16NdycMnB7MwgEUKYkUe6ygyrCfBWeOBPoUSvGX7B5ue8T++Sgq4PoVtnUagoa5yBhRNMjDvXVHWrpWtHd+bSFthPz9UtjZEsr55xninnj3+u0umSIq1IGYZd6trtbMv+Jl6vGE1UQMTrNi/Dygl4EA6F1NoHELjUbjNtVe3tTmwo9bxF/s8jFAVD26pzAMfM61A1S0/3E26Wd7y9cA4Wa0NtBWBB0rDI4wKFNjZrWBB3wVS3RbtmPdfYMMcJAJyVHgBv3CGewxmFNt+ZRzPOuVVHo6FQ71TAwghhoSabFKLULtG07gBYXvcIrFYHnlzQzTZg1PoUGTvjiC1DEs+ikAW2WeeBXR/58x22ycoFsGJHhpiaag6vw1epHgXB7nFFAhB8SmOCf6qwAw9CtMCnmRW2U2Ty6cz1rwEuRBRvY=; _naver_usersession_=1g+LGI9Wfsgm7ypTBV91CANK; page_uid=igm9gwqVOsCssd/tTphssssssAo-159358',\n",
    "    'referer': 'https://search.naver.com/search.naver?sm=tab_hty.top&where=nexearch&query=%EB%B2%88%EC%97%AD%EA%B8%B0&oquery=%EB%A7%9E%EC%B6%A4%EB%B2%95%EA%B2%80%EC%82%AC%EA%B8%B0&tqi=igmCowprvh8ss7YznD0ssssstws-345801',\n",
    "    'sec-ch-ua': '\"Chromium\";v=\"118\", \"Google Chrome\";v=\"118\", \"Not=A?Brand\";v=\"99\"',\n",
    "    'sec-ch-ua-mobile': '?0',\n",
    "    'sec-ch-ua-platform': '\"macOS\"',\n",
    "    'sec-fetch-dest': 'script',\n",
    "    'sec-fetch-mode': 'no-cors',\n",
    "    'sec-fetch-site': 'same-site',\n",
    "    'user-agent': 'Mozilla/5.0 (Macintosh; Intel Mac OS X 10_15_7) AppleWebKit/537.36 (KHTML, like Gecko) Chrome/118.0.0.0 Safari/537.36',\n",
    "}\n",
    "\n",
    "params = {\n",
    "    'query': \"\",\n",
    "    'passportKey': '179f7fbc7a68353c4ad9085aad9fac4590b464ab',\n",
    "    'srcLang': 'ko',\n",
    "    'tarLang': 'sdn',\n",
    "}\n",
    "\n",
    "text = \"하이\"\n",
    "params['query'] = text\n",
    "params['srcLang'] = 'ko'\n",
    "params['tarLang'] = 'en'\n",
    "\n",
    "response = requests.get(\n",
    "    'https://m.search.naver.com/p/csearch/ocontent/util/nmtProxy.naver',\n",
    "    params=params,\n",
    "    cookies=cookies,\n",
    "    headers=headers,\n",
    ")\n",
    "\n",
    "\n",
    "\n"
   ]
  },
  {
   "attachments": {},
   "cell_type": "markdown",
   "id": "3c9b380f",
   "metadata": {},
   "source": [
    "# 파파고"
   ]
  },
  {
   "cell_type": "code",
   "execution_count": 71,
   "id": "a9f4f955",
   "metadata": {},
   "outputs": [],
   "source": [
    "import requests\n",
    "\n",
    "cookies = {\n",
    "    'NNB': 'A6PC4KDSP3MGG',\n",
    "    'ASID': 'de6c5516000001862743c06300000054',\n",
    "    'm_loc': '5f72f0185546b515e5993db7d66745969cad77caad89d5411d6bf522a75bd6e4',\n",
    "    'NV_WETR_LAST_ACCESS_RGN_M': '\"MDk1MzA1NjA=\"',\n",
    "    'NV_WETR_LOCATION_RGN_M': '\"MDk1MzA1NjA=\"',\n",
    "    'papago_skin_locale': 'ko',\n",
    "    'nx_ssl': '2',\n",
    "    '_gcl_au': '1.1.556554365.1697554885',\n",
    "    '_fbp': 'fb.1.1697554885941.1150129401',\n",
    "    '_ga': 'GA1.1.1537800953.1676622115',\n",
    "    'nid_inf': '-1528847136',\n",
    "    'NID_AUT': 'JBJmz3ykRD54yEvi4DLrlLuu+R2cll9QMaki+uPgt8uiEd3EAGeZc0zut1t/zuZc',\n",
    "    'NID_JKL': 'EzL1layrMnseuEYIomg2PoGLIyikS7sIE1LKD7sfhog=',\n",
    "    '_ga_2VETB0KW2K': 'GS1.1.1697554886.1.1.1697555024.0.0.0',\n",
    "    'page_uid': 'igAQ7dqo1LwssaguVRossssssdV-380660',\n",
    "    'NID_SES': 'AAABuwVMlolir3qxGs/ufTi55CBX31/zji0Zw61BcJMUrVHAFpEv3NHypnNaafaM2J2zuUCtAhLMdIPnnPnr3PLJxEdV32SWH6KMwgz4HXg+LTWNYcUT0YKdPrDZPUuQukHF1ayCghXb+yOIV3Cdfi3lIXzsP3VSwoFhbk9kK9vtU9vVd9o4mdrf6G4V2N8YtKHr9g28B08IfiyVDPMEr8676zORmEzacCnNcb3i7JEUjwpS0fF5ukQP0rsQFks0fj/tIWhl2dX38TTnziwBPeQARqDDseAXNR+gkg0bTAHX4jyx+Jv2mq35iepZvhvUCuHlBF/AdQXWeLfj8fEeENO0MDDunSq4b+TukOigOGI78+VdhWV8+i83N/pxyT0ZBFbwIpAfenFi8CMOFPCq6nYgB3TlCswlTcw8EazInSHN0CFNWM67wCpbOdB37Ci9qDscjKJJ6A3wogYTAOQT72SlwxXV+nfDAvWLane7TfFkPJjyO2GiVKyvPNg9R8W+vdBRauoFyAdOPVRlyN4WPDfbL+tBJTbcOh0cMQunYIU+a/rBf5aCO6dqosa+8ebmUHrCdqPDP9R8V2895p8DZBbPiHk=',\n",
    "    'JSESSIONID': 'D388AA3D636AE814FD66E53808E602BE',\n",
    "}\n",
    "\n",
    "\n",
    "headers = {\n",
    "    'authority': 'papago.naver.com',\n",
    "    'accept': 'application/json',\n",
    "    'accept-language': 'ko',\n",
    "    'authorization': 'PPG 2f67a0b7-360d-438c-8a71-a7ff270b0825:0rT+wSEsI8039Nhfzsj/SA==',\n",
    "    'content-type': 'application/x-www-form-urlencoded; charset=UTF-8',\n",
    "    # 'cookie': 'NNB=A6PC4KDSP3MGG; ASID=de6c5516000001862743c06300000054; m_loc=5f72f0185546b515e5993db7d66745969cad77caad89d5411d6bf522a75bd6e4; NV_WETR_LAST_ACCESS_RGN_M=\"MDk1MzA1NjA=\"; NV_WETR_LOCATION_RGN_M=\"MDk1MzA1NjA=\"; papago_skin_locale=ko; nx_ssl=2; _gcl_au=1.1.556554365.1697554885; _fbp=fb.1.1697554885941.1150129401; _ga=GA1.1.1537800953.1676622115; nid_inf=-1528847136; NID_AUT=JBJmz3ykRD54yEvi4DLrlLuu+R2cll9QMaki+uPgt8uiEd3EAGeZc0zut1t/zuZc; NID_JKL=EzL1layrMnseuEYIomg2PoGLIyikS7sIE1LKD7sfhog=; _ga_2VETB0KW2K=GS1.1.1697554886.1.1.1697555024.0.0.0; page_uid=igAQ7dqo1LwssaguVRossssssdV-380660; NID_SES=AAABuwVMlolir3qxGs/ufTi55CBX31/zji0Zw61BcJMUrVHAFpEv3NHypnNaafaM2J2zuUCtAhLMdIPnnPnr3PLJxEdV32SWH6KMwgz4HXg+LTWNYcUT0YKdPrDZPUuQukHF1ayCghXb+yOIV3Cdfi3lIXzsP3VSwoFhbk9kK9vtU9vVd9o4mdrf6G4V2N8YtKHr9g28B08IfiyVDPMEr8676zORmEzacCnNcb3i7JEUjwpS0fF5ukQP0rsQFks0fj/tIWhl2dX38TTnziwBPeQARqDDseAXNR+gkg0bTAHX4jyx+Jv2mq35iepZvhvUCuHlBF/AdQXWeLfj8fEeENO0MDDunSq4b+TukOigOGI78+VdhWV8+i83N/pxyT0ZBFbwIpAfenFi8CMOFPCq6nYgB3TlCswlTcw8EazInSHN0CFNWM67wCpbOdB37Ci9qDscjKJJ6A3wogYTAOQT72SlwxXV+nfDAvWLane7TfFkPJjyO2GiVKyvPNg9R8W+vdBRauoFyAdOPVRlyN4WPDfbL+tBJTbcOh0cMQunYIU+a/rBf5aCO6dqosa+8ebmUHrCdqPDP9R8V2895p8DZBbPiHk=; JSESSIONID=D388AA3D636AE814FD66E53808E602BE',\n",
    "    'device-type': 'pc',\n",
    "    'origin': 'https://papago.naver.com',\n",
    "    'referer': 'https://papago.naver.com/',\n",
    "    'sec-ch-ua': '\"Chromium\";v=\"118\", \"Google Chrome\";v=\"118\", \"Not=A?Brand\";v=\"99\"',\n",
    "    'sec-ch-ua-mobile': '?0',\n",
    "    'sec-ch-ua-platform': '\"macOS\"',\n",
    "    'sec-fetch-dest': 'empty',\n",
    "    'sec-fetch-mode': 'cors',\n",
    "    'sec-fetch-site': 'same-origin',\n",
    "    'timestamp': '1698212289073',\n",
    "    'user-agent': 'Mozilla/5.0 (Macintosh; Intel Mac OS X 10_15_7) AppleWebKit/537.36 (KHTML, like Gecko) Chrome/118.0.0.0 Safari/537.36',\n",
    "    'x-apigw-partnerid': 'papago',\n",
    "}\n",
    "\n"
   ]
  },
  {
   "cell_type": "code",
   "execution_count": 72,
   "id": "cbbea01b",
   "metadata": {},
   "outputs": [
    {
     "name": "stdout",
     "output_type": "stream",
     "text": [
      "403\n",
      "{\"errorCode\":\"00002\",\"errorMessage\":\"LOGIN_REQUIRED\"}\n"
     ]
    }
   ],
   "source": [
    "\n",
    "data = {\n",
    "    'deviceId': '2f67a0b7-360d-438c-8a71-a7ff270b0825',\n",
    "    'locale': 'ko',\n",
    "    'agree': 'true',\n",
    "    'dict': 'true',\n",
    "    'dictDisplay': '30',\n",
    "    'honorific': 'false',\n",
    "    'instant': 'false',\n",
    "    'paging': 'false',\n",
    "    'source': 'ko',\n",
    "    'target': 'ja',\n",
    "    'text': '하이',\n",
    "}\n",
    "\n",
    "response = requests.post('https://papago.naver.com/apis/n2mt/translate', cookies=cookies, headers=headers, data=data)\n",
    "print(response.status_code)\n",
    "print(response.text)\n",
    "data = response.json()"
   ]
  },
  {
   "cell_type": "code",
   "execution_count": null,
   "id": "9fe8e838",
   "metadata": {},
   "outputs": [],
   "source": [
    "def update_token(agent):\n",
    "    # https://search.naver.com/search.naver?sm=tab_hty.top&where=nexearch&query=%EB%B2%88%EC%97%AD%EA%B8%B0&oquery=%EB%B2%88%EC%97%AD%EA%B8%B0&tqi=igm9gwqVOsCssd%2FtTphssssssAo-159358\n",
    "    html = agent.get(url='https://search.naver.com/search.naver?where=nexearch&sm=top_hty&fbm=1&ie=utf8&query=번역기') \n",
    "\n",
    "    match = re.search('passportKey=([a-zA-Z0-9]+)', html.text)\n",
    "    if match is not None:\n",
    "        TOKEN = parse.unquote(match.group(1))\n",
    "        cache['PASSPORT_TOKEN'] = TOKEN\n",
    "    return TOKEN"
   ]
  },
  {
   "cell_type": "code",
   "execution_count": 12,
   "id": "e4a36920",
   "metadata": {},
   "outputs": [
    {
     "data": {
      "text/plain": [
       "'window.__jindo2_callback._6408'"
      ]
     },
     "execution_count": 12,
     "metadata": {},
     "output_type": "execute_result"
    }
   ],
   "source": [
    "params['_callback']"
   ]
  },
  {
   "cell_type": "code",
   "execution_count": 15,
   "id": "221c0f9e",
   "metadata": {},
   "outputs": [
    {
     "data": {
      "text/plain": [
       "'{\"message\":{\"@type\":\"response\",\"@service\":\"naverservice.nmt.proxy\",\"@version\":\"1.0.0\",\"result\":{\"srcLangType\":\"ko\",\"tarLangType\":\"ja\",\"translatedText\":\"ハイ\",\"engineType\":\"N2MT\"}}}'"
      ]
     },
     "execution_count": 15,
     "metadata": {},
     "output_type": "execute_result"
    }
   ],
   "source": [
    "response.text"
   ]
  },
  {
   "cell_type": "code",
   "execution_count": 39,
   "id": "b4a58c62",
   "metadata": {},
   "outputs": [
    {
     "name": "stdout",
     "output_type": "stream",
     "text": [
      "200\n"
     ]
    },
    {
     "data": {
      "text/plain": [
       "'1.0.0'"
      ]
     },
     "execution_count": 39,
     "metadata": {},
     "output_type": "execute_result"
    }
   ],
   "source": [
    "print(response.status_code)\n",
    "data = response.json()\n",
    "data['message']['@version']"
   ]
  },
  {
   "cell_type": "code",
   "execution_count": 31,
   "id": "15f2bb72",
   "metadata": {},
   "outputs": [
    {
     "name": "stdout",
     "output_type": "stream",
     "text": [
      "error\n"
     ]
    }
   ],
   "source": [
    "if 'error' in data['message']:\n",
    "    print('error')"
   ]
  },
  {
   "cell_type": "code",
   "execution_count": 23,
   "id": "e3f914b6",
   "metadata": {},
   "outputs": [
    {
     "data": {
      "text/plain": [
       "{'srcLangType': 'ko',\n",
       " 'tarLangType': 'ja',\n",
       " 'translatedText': 'ハイ',\n",
       " 'engineType': 'N2MT'}"
      ]
     },
     "execution_count": 23,
     "metadata": {},
     "output_type": "execute_result"
    }
   ],
   "source": [
    "html = response_data['message']['result']\n",
    "\n",
    "result = {\n",
    "    'result': True,\n",
    "    'original': text,\n",
    "    'checked': _remove_tags(html),\n",
    "    'errors': data['message']['result']['errata_count'],\n",
    "    'time': passed_time,\n",
    "    'words': OrderedDict(),\n",
    "}"
   ]
  },
  {
   "cell_type": "code",
   "execution_count": 20,
   "id": "f3f75f3d",
   "metadata": {},
   "outputs": [
    {
     "data": {
      "text/plain": [
       "dict_keys(['message'])"
      ]
     },
     "execution_count": 20,
     "metadata": {},
     "output_type": "execute_result"
    }
   ],
   "source": [
    "response_data.keys()"
   ]
  },
  {
   "cell_type": "code",
   "execution_count": 7,
   "id": "2161ea18",
   "metadata": {},
   "outputs": [
    {
     "ename": "JSONDecodeError",
     "evalue": "Expecting value: line 1 column 1 (char 0)",
     "output_type": "error",
     "traceback": [
      "\u001b[0;31m---------------------------------------------------------------------------\u001b[0m",
      "\u001b[0;31mJSONDecodeError\u001b[0m                           Traceback (most recent call last)",
      "Cell \u001b[0;32mIn[7], line 2\u001b[0m\n\u001b[1;32m      1\u001b[0m \u001b[39mimport\u001b[39;00m \u001b[39mjson\u001b[39;00m\n\u001b[0;32m----> 2\u001b[0m data \u001b[39m=\u001b[39m json\u001b[39m.\u001b[39;49mloads(response\u001b[39m.\u001b[39;49mtext)\n",
      "File \u001b[0;32m~/miniforge3/lib/python3.10/json/__init__.py:346\u001b[0m, in \u001b[0;36mloads\u001b[0;34m(s, cls, object_hook, parse_float, parse_int, parse_constant, object_pairs_hook, **kw)\u001b[0m\n\u001b[1;32m    341\u001b[0m     s \u001b[39m=\u001b[39m s\u001b[39m.\u001b[39mdecode(detect_encoding(s), \u001b[39m'\u001b[39m\u001b[39msurrogatepass\u001b[39m\u001b[39m'\u001b[39m)\n\u001b[1;32m    343\u001b[0m \u001b[39mif\u001b[39;00m (\u001b[39mcls\u001b[39m \u001b[39mis\u001b[39;00m \u001b[39mNone\u001b[39;00m \u001b[39mand\u001b[39;00m object_hook \u001b[39mis\u001b[39;00m \u001b[39mNone\u001b[39;00m \u001b[39mand\u001b[39;00m\n\u001b[1;32m    344\u001b[0m         parse_int \u001b[39mis\u001b[39;00m \u001b[39mNone\u001b[39;00m \u001b[39mand\u001b[39;00m parse_float \u001b[39mis\u001b[39;00m \u001b[39mNone\u001b[39;00m \u001b[39mand\u001b[39;00m\n\u001b[1;32m    345\u001b[0m         parse_constant \u001b[39mis\u001b[39;00m \u001b[39mNone\u001b[39;00m \u001b[39mand\u001b[39;00m object_pairs_hook \u001b[39mis\u001b[39;00m \u001b[39mNone\u001b[39;00m \u001b[39mand\u001b[39;00m \u001b[39mnot\u001b[39;00m kw):\n\u001b[0;32m--> 346\u001b[0m     \u001b[39mreturn\u001b[39;00m _default_decoder\u001b[39m.\u001b[39;49mdecode(s)\n\u001b[1;32m    347\u001b[0m \u001b[39mif\u001b[39;00m \u001b[39mcls\u001b[39m \u001b[39mis\u001b[39;00m \u001b[39mNone\u001b[39;00m:\n\u001b[1;32m    348\u001b[0m     \u001b[39mcls\u001b[39m \u001b[39m=\u001b[39m JSONDecoder\n",
      "File \u001b[0;32m~/miniforge3/lib/python3.10/json/decoder.py:337\u001b[0m, in \u001b[0;36mJSONDecoder.decode\u001b[0;34m(self, s, _w)\u001b[0m\n\u001b[1;32m    332\u001b[0m \u001b[39mdef\u001b[39;00m \u001b[39mdecode\u001b[39m(\u001b[39mself\u001b[39m, s, _w\u001b[39m=\u001b[39mWHITESPACE\u001b[39m.\u001b[39mmatch):\n\u001b[1;32m    333\u001b[0m     \u001b[39m\"\"\"Return the Python representation of ``s`` (a ``str`` instance\u001b[39;00m\n\u001b[1;32m    334\u001b[0m \u001b[39m    containing a JSON document).\u001b[39;00m\n\u001b[1;32m    335\u001b[0m \n\u001b[1;32m    336\u001b[0m \u001b[39m    \"\"\"\u001b[39;00m\n\u001b[0;32m--> 337\u001b[0m     obj, end \u001b[39m=\u001b[39m \u001b[39mself\u001b[39;49m\u001b[39m.\u001b[39;49mraw_decode(s, idx\u001b[39m=\u001b[39;49m_w(s, \u001b[39m0\u001b[39;49m)\u001b[39m.\u001b[39;49mend())\n\u001b[1;32m    338\u001b[0m     end \u001b[39m=\u001b[39m _w(s, end)\u001b[39m.\u001b[39mend()\n\u001b[1;32m    339\u001b[0m     \u001b[39mif\u001b[39;00m end \u001b[39m!=\u001b[39m \u001b[39mlen\u001b[39m(s):\n",
      "File \u001b[0;32m~/miniforge3/lib/python3.10/json/decoder.py:355\u001b[0m, in \u001b[0;36mJSONDecoder.raw_decode\u001b[0;34m(self, s, idx)\u001b[0m\n\u001b[1;32m    353\u001b[0m     obj, end \u001b[39m=\u001b[39m \u001b[39mself\u001b[39m\u001b[39m.\u001b[39mscan_once(s, idx)\n\u001b[1;32m    354\u001b[0m \u001b[39mexcept\u001b[39;00m \u001b[39mStopIteration\u001b[39;00m \u001b[39mas\u001b[39;00m err:\n\u001b[0;32m--> 355\u001b[0m     \u001b[39mraise\u001b[39;00m JSONDecodeError(\u001b[39m\"\u001b[39m\u001b[39mExpecting value\u001b[39m\u001b[39m\"\u001b[39m, s, err\u001b[39m.\u001b[39mvalue) \u001b[39mfrom\u001b[39;00m \u001b[39mNone\u001b[39m\n\u001b[1;32m    356\u001b[0m \u001b[39mreturn\u001b[39;00m obj, end\n",
      "\u001b[0;31mJSONDecodeError\u001b[0m: Expecting value: line 1 column 1 (char 0)"
     ]
    }
   ],
   "source": [
    "import json\n",
    "data = json.loads(response.text)"
   ]
  },
  {
   "cell_type": "code",
   "execution_count": 2,
   "id": "e7674414",
   "metadata": {},
   "outputs": [],
   "source": [
    "curl_command = \"\"\"\n",
    "curl 'https://m.search.naver.com/p/csearch/ocontent/util/SpellerProxy?passportKey=ee6528f44b85291033e6d05cadd185c7ed4881e3&_callback=jQuery112406512685942870633_1698148709729&q=%EC%98% 81%ED%99%94%EA%B0%90%EB %8F%85&where=nexearch&color_blindness=0&_=1698148709730' \\\n",
    "  -H 'authority: m.search.naver.com' \\\n",
    "  -H 'accept: */*' \\\n",
    "  -H 'accept-language: ko-KR,ko;q=0.9,en-US;q=0.8,en;q=0.7,ja;q=0.6' \\\n",
    "  -H 'cookie: NNB=A6PC4KDSP3MGG; ASID=de6c5516000001862743c06300000054; m_loc=5f72f0185546b515e5993db7d66745969cad77caad89d5411d6bf522a75bd6e4; NV_WETR_LAST_ACCESS_RGN_M=\"MDk1MzA1NjA=\"; NV_WETR_LOCATION_RGN_M=\"MDk1MzA1NjA=\"; nx_ssl=2; _gcl_au=1.1.556554365.1697554885; _fbp=fb.1.1697554885941.1150129401; _ga=GA1.1.1537800953.1676622115; nid_inf=-1528847136; NID_AUT=JBJmz3ykRD54yEvi4DLrlLuu+R2cll9QMaki+uPgt8uiEd3EAGeZc0zut1t/zuZc; NID_JKL=EzL1layrMnseuEYIomg2PoGLIyikS7sIE1LKD7sfhog=; _ga_2VETB0KW2K=GS1.1.1697554886.1.1.1697555024.0.0.0; NID_SES=AAAButeiPkzg/gby2dS41grDIR24HUPwQ3pSL47CAsVCqj9oO5RcTJk8f7apqAEdeIuRHn9xX2ug+qG5iThSPkKXnnO9fQw+OJGc0GASxzYq7r3iKBru85j71jOqfqUtXAUUyN8 yHMnhS0bWoIkCzG1dicBxHA0NMiqYKfSJGavFKy3MDG1pSIiGrVJbrQMcXbbNYBUENpMjuno/RGEASd4wOPUFzif3rVlJ5ByMQVYB5TQmWdFrgc8fGLnHDabzDz3+CWkXT6ghpaPU1S1GAkjEIpq63287 uGCCeNo7ECyV92LAe4ilV6lg+g5lvTirxC7xX2jDHuAIrEiBsX2k+jL57wXw1RCPw2lth3JeQvyHkAkjtpAP/k3v9zcHdqGDLSwoQTx5vvNnsIGfHljqEs7M/kCGHl5zsT14vrEHZ2W6M0p gvOp6vskwLFQJ0SKZ7OtXVGcbKV1mAfaTktDmUmAZ4KUh6/VDlYJbmXHQb6HtQiVpScS/btrDtdQGPIV8cxSukpoY1pypEMzz10OFK25YT/IVu/S0yAnQlJVsl98h1FFutVr0DMJIr+upWbWlM2 ZOB/YMKAOfqLw3Rrrad6TTfUk=' \\\n",
    "  -H 'referer: https://search.naver.com/search.naver?where=nexearch&sm=top_sug.pre&fbm=0&acr=1&acq=%EB%A7%9E%EC%B6%A4%EB%B2%95&qdt= 0&ie=utf8&query=%EB%A7%9E%EC%B6%A4%EB%B2%95%EA%B2%80%EC%82%AC%EA%B8%B0' \\\n",
    "  -H 'sec-ch-ua: \"Chromium\";v=\"118\", \"Google Chrome\";v=\"118\", \"Not=A?Brand\";v=\"99\"' \\\n",
    "  -H 'sec-ch-ua-mobile: ?0' \\\n",
    "  -H 'sec-ch-ua-platform: \"macOS\"' \\\n",
    "  -H 'sec-fetch-dest: script' \\\n",
    "  -H 'sec-fetch-mode: no-cors' \\\n",
    "  -H 'sec-fetch-site: same-site' \\\n",
    "  -H 'user-agent: Mozilla/5.0 (Macintosh; Intel Mac OS'\n",
    "--compressed\n",
    "\"\"\"\n",
    "\n",
    "spell_checker.update(curl_command)"
   ]
  },
  {
   "cell_type": "code",
   "execution_count": 3,
   "id": "f99c9e7b",
   "metadata": {},
   "outputs": [
    {
     "name": "stdout",
     "output_type": "stream",
     "text": [
      "나만 탓하지 말고\n"
     ]
    }
   ],
   "source": [
    "text = \"나만 탓 하지 말고\"\n",
    "\n",
    "# Perform spelling and spacing checks\n",
    "checked_text = spell_checker.check(text)\n",
    "\n",
    "# Print the corrected text\n",
    "print(checked_text.checked)"
   ]
  },
  {
   "cell_type": "code",
   "execution_count": 1,
   "id": "c44e9b01",
   "metadata": {},
   "outputs": [
    {
     "data": {
      "text/plain": [
       "'NAVER에게 박수 부탁드립니다.'"
      ]
     },
     "execution_count": 1,
     "metadata": {},
     "output_type": "execute_result"
    }
   ],
   "source": [
    "from navertrans import navertrans\n",
    "\n",
    "src_txt = 'Please give a round of applause to NAVER.'\n",
    "navertrans.translate(src_txt, src_lan=\"en\", tar_lan= \"ko\")"
   ]
  }
 ],
 "metadata": {
  "kernelspec": {
   "display_name": "base",
   "language": "python",
   "name": "python3"
  },
  "language_info": {
   "codemirror_mode": {
    "name": "ipython",
    "version": 3
   },
   "file_extension": ".py",
   "mimetype": "text/x-python",
   "name": "python",
   "nbconvert_exporter": "python",
   "pygments_lexer": "ipython3",
   "version": "3.10.6"
  },
  "vscode": {
   "interpreter": {
    "hash": "2568b31422f911d240befaa5e46dd782c4cc23ae238e6e2196b9786beeefb2a9"
   }
  }
 },
 "nbformat": 4,
 "nbformat_minor": 5
}
