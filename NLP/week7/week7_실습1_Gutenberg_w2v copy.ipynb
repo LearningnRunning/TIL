{
 "cells": [
  {
   "attachments": {},
   "cell_type": "markdown",
   "id": "d4029929",
   "metadata": {},
   "source": [
    "# Word2Vec\n",
    "https://soojle.gitbook.io/project/requirements/undefined-1/undefined-3/word2vec"
   ]
  },
  {
   "cell_type": "code",
   "execution_count": null,
   "id": "dc19c6da",
   "metadata": {},
   "outputs": [],
   "source": [
    "import requests\n",
    "import re\n",
    "import gensim \n",
    "\n",
    "res = requests.get('https://www.gutenberg.org/files/2591/2591-0.txt')\n",
    "res.status_code\n"
   ]
  },
  {
   "cell_type": "code",
   "execution_count": null,
   "id": "658b43cc",
   "metadata": {},
   "outputs": [],
   "source": [
    "res.text"
   ]
  },
  {
   "cell_type": "code",
   "execution_count": null,
   "id": "9f88cf46",
   "metadata": {},
   "outputs": [],
   "source": [
    "grimm = res.text[2801:530661]\n",
    "grimm"
   ]
  },
  {
   "cell_type": "code",
   "execution_count": null,
   "id": "f2ca8717",
   "metadata": {},
   "outputs": [],
   "source": [
    "# 정규표현식을 이용하여 불필요한 단어는 제외한다.\n",
    "grimm = re.sub(r'[^a-zA-Z\\. ]', ' ', grimm)"
   ]
  },
  {
   "cell_type": "code",
   "execution_count": null,
   "id": "04eb39c6",
   "metadata": {},
   "outputs": [],
   "source": [
    "#.split('. ')을 이용하여 마침표 단위로 자르자.\n",
    "sentences = grimm.split('. ')  # 문장 단위로 자름"
   ]
  },
  {
   "cell_type": "code",
   "execution_count": null,
   "id": "a41d72a6",
   "metadata": {},
   "outputs": [],
   "source": [
    "len(sentences)"
   ]
  },
  {
   "cell_type": "code",
   "execution_count": null,
   "id": "5a42bbfb",
   "metadata": {},
   "outputs": [],
   "source": [
    "# 이번엔 단어(빈칸) 단위로 자르도록 하자.\n",
    "data = [s.split() for s in sentences]\n",
    "\n",
    "# 단어 단위로 자른 결과를 확인해보자.\n",
    "data[0]   # 첫 번째 문장을 단어 단위로 자른 결과를 확인하자"
   ]
  },
  {
   "cell_type": "code",
   "execution_count": null,
   "id": "6307d448",
   "metadata": {},
   "outputs": [],
   "source": [
    "# - word2vec \n",
    "# 이제 word2vec 를 필요한 gensim 패키지를 설치해보자.\n",
    "#!conda install -y gensim\n",
    "\n",
    "# gensim 패키지에서 Word2Vec을 불러오자.\n",
    "from gensim.models.word2vec import Word2Vec"
   ]
  },
  {
   "cell_type": "code",
   "execution_count": null,
   "id": "3899caa1",
   "metadata": {},
   "outputs": [],
   "source": [
    "# 학습 하기\n",
    "model = Word2Vec(data,         # 리스트 형태의 데이터\n",
    "                 sg=1,         # 0: CBOW, 1: Skip-gram\n",
    "                 vector_size=100,     # 벡터 크기\n",
    "                 window=3,     # 고려할 앞뒤 폭(앞뒤 3단어)\n",
    "                 min_count=3,  # 사용할 단어의 최소 빈도(3회 이하 단어 무시)\n",
    "                 workers=4)    # 동시에 처리할 작업 수(코어 수와 비슷하게 설정)\n"
   ]
  },
  {
   "cell_type": "code",
   "execution_count": null,
   "id": "567a6d39",
   "metadata": {},
   "outputs": [],
   "source": [
    "import gensim\n",
    "print(gensim.__version__)"
   ]
  },
  {
   "cell_type": "code",
   "execution_count": null,
   "id": "2c7eeaa9",
   "metadata": {},
   "outputs": [],
   "source": [
    "# .save()를 통해 word2vec 모델을 저장할 수 있다.\n",
    "model.save('word2vec.model')"
   ]
  },
  {
   "cell_type": "code",
   "execution_count": null,
   "id": "83b9d24b",
   "metadata": {},
   "outputs": [],
   "source": [
    "\n",
    "# 저장한 모델을 불러 올 때는 .load()를 사용한다.\n",
    "model = Word2Vec.load('word2vec.model')\n"
   ]
  },
  {
   "cell_type": "code",
   "execution_count": null,
   "id": "d5e1564d",
   "metadata": {},
   "outputs": [],
   "source": [
    "model.wv['princess']"
   ]
  },
  {
   "cell_type": "code",
   "execution_count": null,
   "id": "e824262a",
   "metadata": {},
   "outputs": [],
   "source": [
    "# wv.similarity()에 두 단어를 넘겨주면 코사인 유사도를 구할 수 있다.\n",
    "model.wv.similarity('princess', 'queen')   #시멀러리\n"
   ]
  },
  {
   "cell_type": "code",
   "execution_count": null,
   "id": "d3cdf6d6",
   "metadata": {},
   "outputs": [],
   "source": [
    "# wv.most_similar()에 단어를 넘겨주면 가장 유사한 단어를 추출할 수 있다.\n",
    "model.wv.most_similar('princess')     #시멀러\n"
   ]
  },
  {
   "cell_type": "code",
   "execution_count": null,
   "id": "abb0c28b",
   "metadata": {},
   "outputs": [],
   "source": [
    "#.wv_most_similar() 에 positive와 negative라는 옵션을 넘겨줄 수 있다.\n",
    "#  \"woman:princess = man:?\"의 유비를 풀어보자.\n",
    "model.wv.most_similar(positive=['man', 'princess'], negative=['woman'])"
   ]
  },
  {
   "cell_type": "code",
   "execution_count": null,
   "id": "cca7d3e5",
   "metadata": {},
   "outputs": [],
   "source": [
    "# 케라스에서 임베딩 레이어에 적용\n",
    "from keras.models import Sequential\n",
    "from keras.layers import Embedding\n",
    "\n",
    "NUM_WORDS, EMB_DIM = model.wv.vectors.shape\n"
   ]
  },
  {
   "cell_type": "code",
   "execution_count": null,
   "id": "84838462",
   "metadata": {},
   "outputs": [],
   "source": [
    "# gensim으로 학습된 단어 임베딩 model.wv.vectors를 케라스의 임베딩 레이어의 가중치로 사용한다.\n",
    "emb = Embedding(input_dim=NUM_WORDS, output_dim=EMB_DIM,\n",
    "                trainable=False, weights=[model.wv.vectors])\n",
    "net = Sequential()\n",
    "net.add(emb)\n"
   ]
  },
  {
   "cell_type": "code",
   "execution_count": null,
   "id": "dea8258f",
   "metadata": {},
   "outputs": [],
   "source": [
    "# 예측으로 gensim과 같은지 확인\n",
    "i = model.wv.index_to_key.index('princess')\n",
    "\n",
    "net.predict([i])\n"
   ]
  },
  {
   "cell_type": "code",
   "execution_count": null,
   "id": "930a94b0",
   "metadata": {},
   "outputs": [],
   "source": [
    "# 저장 및 불러오기\n",
    "\n",
    "model.wv.save_word2vec_format('eng_w2v') # 모델 저장\n",
    "loaded_model = gensim.models.KeyedVectors.load_word2vec_format(\"eng_w2v\") # 모델 로드\n"
   ]
  },
  {
   "cell_type": "code",
   "execution_count": null,
   "id": "903f4381",
   "metadata": {},
   "outputs": [],
   "source": [
    "loaded_model.most_similar_cosmul"
   ]
  },
  {
   "cell_type": "code",
   "execution_count": null,
   "id": "1d3126dc",
   "metadata": {},
   "outputs": [],
   "source": [
    "#.wv_most_similar() 에 positive와 negative라는 옵션을 넘겨줄 수 있다.\n",
    "#  \"woman:princess = man:?\"의 유비를 풀어보자.\n",
    "loaded_model.most_similar(positive=['man', 'princess'], negative=['woman'])"
   ]
  },
  {
   "cell_type": "code",
   "execution_count": null,
   "id": "77cd3e30",
   "metadata": {},
   "outputs": [],
   "source": [
    "#.wv_most_similar() 에 positive와 negative라는 옵션을 넘겨줄 수 있다.\n",
    "#  \"woman:princess = man:?\"의 유비를 풀어보자.\n",
    "model.wv.most_similar(positive=['man', 'princess'], negative=['woman'])"
   ]
  }
 ],
 "metadata": {
  "kernelspec": {
   "display_name": "base",
   "language": "python",
   "name": "python3"
  },
  "language_info": {
   "codemirror_mode": {
    "name": "ipython",
    "version": 3
   },
   "file_extension": ".py",
   "mimetype": "text/x-python",
   "name": "python",
   "nbconvert_exporter": "python",
   "pygments_lexer": "ipython3",
   "version": "3.10.6 | packaged by conda-forge | (main, Aug 22 2022, 20:38:29) [Clang 13.0.1 ]"
  },
  "vscode": {
   "interpreter": {
    "hash": "2568b31422f911d240befaa5e46dd782c4cc23ae238e6e2196b9786beeefb2a9"
   }
  }
 },
 "nbformat": 4,
 "nbformat_minor": 5
}
